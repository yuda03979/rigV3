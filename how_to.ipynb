{
 "cells": [
  {
   "metadata": {},
   "cell_type": "markdown",
   "source": [
    "# first:\n",
    "- download ollama \n",
    "- run in terminal ollama serve. \n",
    "- if you don't have internet - load the models (README - and the last cell)"
   ],
   "id": "4a2d43f6deccd5b0"
  },
  {
   "metadata": {
    "ExecuteTime": {
     "end_time": "2025-01-06T22:55:22.005815Z",
     "start_time": "2025-01-06T22:55:22.002113Z"
    }
   },
   "cell_type": "code",
   "source": [
    "import nest_asyncio\n",
    "nest_asyncio.apply()"
   ],
   "id": "f58f9f87f61705e4",
   "outputs": [],
   "execution_count": 1
  },
  {
   "cell_type": "code",
   "id": "initial_id",
   "metadata": {
    "collapsed": true,
    "ExecuteTime": {
     "end_time": "2025-01-06T22:55:23.257082Z",
     "start_time": "2025-01-06T22:55:22.225369Z"
    }
   },
   "source": "from src.rig import Rig",
   "outputs": [
    {
     "name": "stdout",
     "output_type": "stream",
     "text": [
      "{'__module__': 'src.globals', 'rule_classifier_agent': 'rule_classifier', 'examples_finder_agent': 'examples_finder', 'rule_instance_generator_agent': 'rule_instance_generator', 'generation_model_name': 'gemma-2-2b-it-Q8_0:rig', 'rag_model_name': 'snowflake-arctic-embed-137m:rig', 'project_dir': '/Users/yuda/PycharmProjects/RigV3/data_dir', 'classification_threshold': 0.005, 'classification_temperature': 0.05, 'examples_rag_threshold': 0.9, 'db_rules_path': '/Users/yuda/PycharmProjects/RigV3/data_dir/db_rules.csv', 'db_examples_path': '/Users/yuda/PycharmProjects/RigV3/data_dir/db_examples.csv', 'rules_folder_path': '/Users/yuda/PycharmProjects/RigV3/data_dir/eval/rule_types', 'evaluation_data_path': '/Users/yuda/PycharmProjects/RigV3/data_dir/eval/evaluation_data.csv', 'evaluation_output_dir': '/Users/yuda/PycharmProjects/RigV3/data_dir/eval/output', '__dict__': <attribute '__dict__' of 'Globals' objects>, '__weakref__': <attribute '__weakref__' of 'Globals' objects>, '__doc__': None}\n"
     ]
    }
   ],
   "execution_count": 2
  },
  {
   "metadata": {
    "ExecuteTime": {
     "end_time": "2025-01-06T22:55:23.805604Z",
     "start_time": "2025-01-06T22:55:23.709812Z"
    }
   },
   "cell_type": "code",
   "source": "rig = Rig()",
   "id": "a8d89b711cd268a1",
   "outputs": [],
   "execution_count": 3
  },
  {
   "metadata": {
    "ExecuteTime": {
     "end_time": "2025-01-06T14:22:39.777223Z",
     "start_time": "2025-01-06T14:22:39.771808Z"
    }
   },
   "cell_type": "code",
   "source": "from src.globals import GLOBALS",
   "id": "e7e2b8daddcf2a94",
   "outputs": [
    {
     "data": {
      "text/plain": [
       "{}"
      ]
     },
     "execution_count": 4,
     "metadata": {},
     "output_type": "execute_result"
    }
   ],
   "execution_count": 4
  },
  {
   "metadata": {
    "ExecuteTime": {
     "end_time": "2025-01-06T09:59:03.201963Z",
     "start_time": "2025-01-06T09:59:01.713683Z"
    }
   },
   "cell_type": "code",
   "source": "rig.set_rules()",
   "id": "2b721a2c32794c50",
   "outputs": [
    {
     "data": {
      "text/plain": [
       "True"
      ]
     },
     "execution_count": 3,
     "metadata": {},
     "output_type": "execute_result"
    }
   ],
   "execution_count": 3
  },
  {
   "metadata": {},
   "cell_type": "code",
   "source": "rig.add_rule(\"Actor.json\")",
   "id": "e195c1c5fc8409f",
   "outputs": [],
   "execution_count": null
  },
  {
   "metadata": {
    "ExecuteTime": {
     "end_time": "2025-01-06T18:46:16.937251Z",
     "start_time": "2025-01-06T18:46:16.931513Z"
    }
   },
   "cell_type": "code",
   "source": [
    "# get list of existing rule types:\n",
    "len(rig.get_rules_names())"
   ],
   "id": "40f11096719ee8f8",
   "outputs": [
    {
     "data": {
      "text/plain": [
       "109"
      ]
     },
     "execution_count": 3,
     "metadata": {},
     "output_type": "execute_result"
    }
   ],
   "execution_count": 3
  },
  {
   "metadata": {
    "ExecuteTime": {
     "end_time": "2025-01-06T18:46:19.660781Z",
     "start_time": "2025-01-06T18:46:19.657859Z"
    }
   },
   "cell_type": "code",
   "source": "rig.tweak_parameters(rag_threshold=0.5, examples_rag_threshold=0.95)",
   "id": "de07b79d8614b256",
   "outputs": [
    {
     "data": {
      "text/plain": [
       "True"
      ]
     },
     "execution_count": 4,
     "metadata": {},
     "output_type": "execute_result"
    }
   ],
   "execution_count": 4
  },
  {
   "metadata": {},
   "cell_type": "markdown",
   "source": "## get rule instance from free text",
   "id": "af0758f5e833cca9"
  },
  {
   "metadata": {
    "ExecuteTime": {
     "end_time": "2025-01-06T20:02:47.840557Z",
     "start_time": "2025-01-06T20:02:35.246218Z"
    }
   },
   "cell_type": "code",
   "source": [
    "free_text = \"An instance of ruleInstanceName - mechanic Evaluation needs to be created, dealing with the severity level two. The scavenging efficiency of this falcon is, let's say, 30. However.\" + \", the beak sharpness is much sharper, let's say something like eight. The falcon's vision acuity is good, and the wing span is, um, eighty. The level of thermal riding skill is intermediate. The bone digestion efficiency is much higher, at about eighty-five. And the feather maintenance? That's excellent\"\n",
    "\n",
    "response = rig.get_rule_instance(free_text) # return dictionary\n",
    "response['is_error']"
   ],
   "id": "d41d9ff66ad84cda",
   "outputs": [
    {
     "name": "stdout",
     "output_type": "stream",
     "text": [
      "\n",
      "Timing Information:\n",
      "Model 1 (Sequential): 3.71s\n",
      "Model 2 (Sequential): 4.36s\n",
      "Total Sequential: 8.07s\n",
      "Total Parallel: 4.06s\n",
      "Speedup: 1.99x\n",
      "Total Execution: 12.13s\n"
     ]
    },
    {
     "data": {
      "text/plain": [
       "False"
      ]
     },
     "execution_count": 7,
     "metadata": {},
     "output_type": "execute_result"
    }
   ],
   "execution_count": 7
  },
  {
   "metadata": {
    "ExecuteTime": {
     "end_time": "2025-01-06T20:03:22.280770Z",
     "start_time": "2025-01-06T20:03:22.276413Z"
    }
   },
   "cell_type": "code",
   "source": "response[\"rule_instance\"]",
   "id": "8272c662c671476c",
   "outputs": [
    {
     "data": {
      "text/plain": [
       "{'_id': '00000000-0000-0000-0000-000000000000',\n",
       " 'description': 'string',\n",
       " 'isActive': True,\n",
       " 'lastUpdateTime': '00/00/0000 00:00:00',\n",
       " 'params': {'Scavenging efficiency': 30,\n",
       "  'Flight altitude': None,\n",
       "  'Beak sharpness': 8,\n",
       "  'Vision acuity': 'good',\n",
       "  'Wing span': 80,\n",
       "  'Thermal riding skill': 'intermediate',\n",
       "  'Bone digestion': 85,\n",
       "  'Feather maintenance': 'excellent'},\n",
       " 'ruleInstanceName': 'mechanic Evaluation',\n",
       " 'severity': 2,\n",
       " 'ruleType': 'structured',\n",
       " 'ruleOwner': '',\n",
       " 'ruleTypeId': '1b5db158-d5de-47c6-90f6-25688ffece4b',\n",
       " 'eventDetails': [{'objectName': 'Vulture',\n",
       "   'objectDescription': None,\n",
       "   'timeWindowInMilliseconds': 0,\n",
       "   'useLatest': False}],\n",
       " 'additionalInformation': {},\n",
       " 'presetId': '00000000-0000-0000-0000-000000000000'}"
      ]
     },
     "execution_count": 9,
     "metadata": {},
     "output_type": "execute_result"
    }
   ],
   "execution_count": 9
  },
  {
   "metadata": {
    "ExecuteTime": {
     "end_time": "2025-01-06T20:03:23.543708Z",
     "start_time": "2025-01-06T20:03:23.535355Z"
    }
   },
   "cell_type": "code",
   "source": "response[\"agents_massages\"]",
   "id": "291f52e6d13fea73",
   "outputs": [
    {
     "data": {
      "text/plain": [
       "[{'agent_name': 'rule_classifier',\n",
       "  'agent_description': 'rag implemented for elta, suitable for small - medium size db. ',\n",
       "  'succeed': True,\n",
       "  'agent_input': \"An instance of ruleInstanceName - mechanic Evaluation needs to be created, dealing with the severity level two. The scavenging efficiency of this falcon is, let's say, 30. However., the beak sharpness is much sharper, let's say something like eight. The falcon's vision acuity is good, and the wing span is, um, eighty. The level of thermal riding skill is intermediate. The bone digestion efficiency is much higher, at about eighty-five. And the feather maintenance? That's excellent\",\n",
       "  'agent_message': [('vulture', 0.11404471263161765),\n",
       "   ('kestrel', 0.05341543075667442),\n",
       "   ('swan', 0.021861345703026964),\n",
       "   ('beetle', 0.01954731546220382),\n",
       "   ('rooster', 0.019413949857195193),\n",
       "   ('rapier', 0.018919062018620005),\n",
       "   ('axe', 0.01854752717581687),\n",
       "   ('parrotfish', 0.01854248790379744),\n",
       "   ('shuriken', 0.018002302799404128),\n",
       "   ('puffin', 0.01669839966570087),\n",
       "   ('pangolin', 0.016201717105892733),\n",
       "   ('sabre', 0.015817535733992437),\n",
       "   ('scimitar', 0.014735041279618367),\n",
       "   ('robot', 0.014428167869822747),\n",
       "   ('cannon', 0.014231145490603718),\n",
       "   ('katana', 0.013801823904764315),\n",
       "   ('scythe', 0.013687069159246366),\n",
       "   ('chakram', 0.013160710605670931),\n",
       "   ('trident', 0.012857307337283307),\n",
       "   ('koala', 0.012226023761270143),\n",
       "   ('anglerfish', 0.012152485906942208),\n",
       "   ('fox', 0.012093203530166827),\n",
       "   ('mole', 0.012021492857254618),\n",
       "   ('gauntlet_knife', 0.011585080722413243),\n",
       "   ('halberd', 0.011217217214306456),\n",
       "   ('bull', 0.011118056351261868),\n",
       "   ('phoenix fish', 0.011109652977094391),\n",
       "   ('tarantula', 0.010587766747476074),\n",
       "   ('bow', 0.010546411413900503),\n",
       "   ('rabbit', 0.010052964003465465),\n",
       "   ('platypus', 0.009913113782864984),\n",
       "   ('beaver', 0.009830956058726574),\n",
       "   ('boomerang', 0.009642197804221604),\n",
       "   ('blowgun', 0.009637314704760229),\n",
       "   ('kangaroo', 0.009532459725958339),\n",
       "   ('cow', 0.009258631177291829),\n",
       "   ('bastard_sword', 0.009238625918392541),\n",
       "   ('komodo_dragon', 0.009190935819389257),\n",
       "   ('aerial_dogfight', 0.008798128854485634),\n",
       "   ('software developer', 0.008712418175350638),\n",
       "   ('artillery_strike', 0.008271540788582596),\n",
       "   ('flail', 0.007985733272605586),\n",
       "   ('sniper_attack', 0.007938860938280631),\n",
       "   ('hamster', 0.00765631160571472),\n",
       "   ('guerrilla_skirmish', 0.007639145262562059),\n",
       "   ('canoe', 0.007483083604943783),\n",
       "   ('mechanic', 0.007183630683862529),\n",
       "   ('goliath frog', 0.00717654003429056),\n",
       "   ('dentist', 0.007087858041454879),\n",
       "   ('morning_star', 0.007048182013187396),\n",
       "   ('bridge', 0.0069011592003833345),\n",
       "   ('cavalry_charge', 0.00689500423702219),\n",
       "   ('sea_otter', 0.006848367485881285),\n",
       "   ('graphic_designer', 0.006752077884047008),\n",
       "   ('carpenter', 0.006718395291288843),\n",
       "   ('ballista', 0.006518388991868492),\n",
       "   ('x4x4_off_road_car', 0.0064614441657462555),\n",
       "   ('goldfish', 0.006290454623016856),\n",
       "   ('tank_advance', 0.006260322927402154),\n",
       "   ('wildcat', 0.006246831854403835),\n",
       "   ('pilot', 0.0059560314349715125),\n",
       "   ('atv', 0.005913029722897473),\n",
       "   ('kayak', 0.005528138658862291),\n",
       "   ('paratrooper_drop', 0.005507156654429974),\n",
       "   ('molotov_cocktail', 0.005262514367571155),\n",
       "   ('plumber', 0.005079620569098515),\n",
       "   ('scientist', 0.005062938025870895),\n",
       "   ('net_gun', 0.004960985222767763),\n",
       "   ('flanking_maneuver', 0.004908011625280383),\n",
       "   ('gondola', 0.004781895787309924),\n",
       "   ('cottage', 0.004777039772652046),\n",
       "   ('hospital', 0.004768471359780259),\n",
       "   ('engineer', 0.004765168667126474),\n",
       "   ('barista', 0.004543922288728483),\n",
       "   ('poodle', 0.0044543133086971),\n",
       "   ('airship_vehicle', 0.004448842375305308),\n",
       "   ('actor', 0.0044351190577548785),\n",
       "   ('tentacled_sea_cucumber', 0.004397064709751082),\n",
       "   ('bayonet_charge', 0.004332279668129934),\n",
       "   ('farmer', 0.004281554025852915),\n",
       "   ('church', 0.004260116603103685),\n",
       "   ('trench_assault', 0.004220399963758284),\n",
       "   ('museum', 0.00412165546819753),\n",
       "   ('chef', 0.004105409452319022),\n",
       "   ('architect', 0.003996571460692024),\n",
       "   ('firefighter', 0.003936748633113791),\n",
       "   ('trolley', 0.003867723195151527),\n",
       "   ('data_analyst', 0.0038487737864059146),\n",
       "   ('conveyor', 0.0038444229922068173),\n",
       "   ('naval_bombardment', 0.0037047016391980997),\n",
       "   ('urban_public_transport_system', 0.0036313649747759867),\n",
       "   ('photographer', 0.0034648821263277),\n",
       "   ('nurse', 0.0033997949297367635),\n",
       "   ('factory', 0.0032060158547095063),\n",
       "   ('battlefield_retreat', 0.0031895754742795246),\n",
       "   ('ambulance', 0.0031385653224898645),\n",
       "   ('lawyer', 0.0030148813333061315),\n",
       "   ('psychologist', 0.0030085535182748854),\n",
       "   ('journalist', 0.0030070312405519133),\n",
       "   ('electric_train', 0.0029323289757960023),\n",
       "   ('evacuation_operation', 0.002881208073344762),\n",
       "   ('apartment_building', 0.0027521556615476696),\n",
       "   ('castle', 0.002743674635440415),\n",
       "   ('teacher', 0.002689329070847543),\n",
       "   ('police_officer', 0.0026480864887011477),\n",
       "   ('multi_motor_trampoline', 0.0025032102408437127),\n",
       "   ('siege', 0.002130062031956083),\n",
       "   ('hotel', 0.002055615413673636),\n",
       "   ('event_planner', 0.00179152126192101)],\n",
       "  'message_model': [('vulture', 0.11404471263161765),\n",
       "   ('kestrel', 0.05341543075667442),\n",
       "   ('swan', 0.021861345703026964),\n",
       "   ('beetle', 0.01954731546220382),\n",
       "   ('rooster', 0.019413949857195193),\n",
       "   ('rapier', 0.018919062018620005),\n",
       "   ('axe', 0.01854752717581687),\n",
       "   ('parrotfish', 0.01854248790379744),\n",
       "   ('shuriken', 0.018002302799404128),\n",
       "   ('puffin', 0.01669839966570087),\n",
       "   ('pangolin', 0.016201717105892733),\n",
       "   ('sabre', 0.015817535733992437),\n",
       "   ('scimitar', 0.014735041279618367),\n",
       "   ('robot', 0.014428167869822747),\n",
       "   ('cannon', 0.014231145490603718),\n",
       "   ('katana', 0.013801823904764315),\n",
       "   ('scythe', 0.013687069159246366),\n",
       "   ('chakram', 0.013160710605670931),\n",
       "   ('trident', 0.012857307337283307),\n",
       "   ('koala', 0.012226023761270143),\n",
       "   ('anglerfish', 0.012152485906942208),\n",
       "   ('fox', 0.012093203530166827),\n",
       "   ('mole', 0.012021492857254618),\n",
       "   ('gauntlet_knife', 0.011585080722413243),\n",
       "   ('halberd', 0.011217217214306456),\n",
       "   ('bull', 0.011118056351261868),\n",
       "   ('phoenix fish', 0.011109652977094391),\n",
       "   ('tarantula', 0.010587766747476074),\n",
       "   ('bow', 0.010546411413900503),\n",
       "   ('rabbit', 0.010052964003465465),\n",
       "   ('platypus', 0.009913113782864984),\n",
       "   ('beaver', 0.009830956058726574),\n",
       "   ('boomerang', 0.009642197804221604),\n",
       "   ('blowgun', 0.009637314704760229),\n",
       "   ('kangaroo', 0.009532459725958339),\n",
       "   ('cow', 0.009258631177291829),\n",
       "   ('bastard_sword', 0.009238625918392541),\n",
       "   ('komodo_dragon', 0.009190935819389257),\n",
       "   ('aerial_dogfight', 0.008798128854485634),\n",
       "   ('software developer', 0.008712418175350638),\n",
       "   ('artillery_strike', 0.008271540788582596),\n",
       "   ('flail', 0.007985733272605586),\n",
       "   ('sniper_attack', 0.007938860938280631),\n",
       "   ('hamster', 0.00765631160571472),\n",
       "   ('guerrilla_skirmish', 0.007639145262562059),\n",
       "   ('canoe', 0.007483083604943783),\n",
       "   ('mechanic', 0.007183630683862529),\n",
       "   ('goliath frog', 0.00717654003429056),\n",
       "   ('dentist', 0.007087858041454879),\n",
       "   ('morning_star', 0.007048182013187396),\n",
       "   ('bridge', 0.0069011592003833345),\n",
       "   ('cavalry_charge', 0.00689500423702219),\n",
       "   ('sea_otter', 0.006848367485881285),\n",
       "   ('graphic_designer', 0.006752077884047008),\n",
       "   ('carpenter', 0.006718395291288843),\n",
       "   ('ballista', 0.006518388991868492),\n",
       "   ('x4x4_off_road_car', 0.0064614441657462555),\n",
       "   ('goldfish', 0.006290454623016856),\n",
       "   ('tank_advance', 0.006260322927402154),\n",
       "   ('wildcat', 0.006246831854403835),\n",
       "   ('pilot', 0.0059560314349715125),\n",
       "   ('atv', 0.005913029722897473),\n",
       "   ('kayak', 0.005528138658862291),\n",
       "   ('paratrooper_drop', 0.005507156654429974),\n",
       "   ('molotov_cocktail', 0.005262514367571155),\n",
       "   ('plumber', 0.005079620569098515),\n",
       "   ('scientist', 0.005062938025870895),\n",
       "   ('net_gun', 0.004960985222767763),\n",
       "   ('flanking_maneuver', 0.004908011625280383),\n",
       "   ('gondola', 0.004781895787309924),\n",
       "   ('cottage', 0.004777039772652046),\n",
       "   ('hospital', 0.004768471359780259),\n",
       "   ('engineer', 0.004765168667126474),\n",
       "   ('barista', 0.004543922288728483),\n",
       "   ('poodle', 0.0044543133086971),\n",
       "   ('airship_vehicle', 0.004448842375305308),\n",
       "   ('actor', 0.0044351190577548785),\n",
       "   ('tentacled_sea_cucumber', 0.004397064709751082),\n",
       "   ('bayonet_charge', 0.004332279668129934),\n",
       "   ('farmer', 0.004281554025852915),\n",
       "   ('church', 0.004260116603103685),\n",
       "   ('trench_assault', 0.004220399963758284),\n",
       "   ('museum', 0.00412165546819753),\n",
       "   ('chef', 0.004105409452319022),\n",
       "   ('architect', 0.003996571460692024),\n",
       "   ('firefighter', 0.003936748633113791),\n",
       "   ('trolley', 0.003867723195151527),\n",
       "   ('data_analyst', 0.0038487737864059146),\n",
       "   ('conveyor', 0.0038444229922068173),\n",
       "   ('naval_bombardment', 0.0037047016391980997),\n",
       "   ('urban_public_transport_system', 0.0036313649747759867),\n",
       "   ('photographer', 0.0034648821263277),\n",
       "   ('nurse', 0.0033997949297367635),\n",
       "   ('factory', 0.0032060158547095063),\n",
       "   ('battlefield_retreat', 0.0031895754742795246),\n",
       "   ('ambulance', 0.0031385653224898645),\n",
       "   ('lawyer', 0.0030148813333061315),\n",
       "   ('psychologist', 0.0030085535182748854),\n",
       "   ('journalist', 0.0030070312405519133),\n",
       "   ('electric_train', 0.0029323289757960023),\n",
       "   ('evacuation_operation', 0.002881208073344762),\n",
       "   ('apartment_building', 0.0027521556615476696),\n",
       "   ('castle', 0.002743674635440415),\n",
       "   ('teacher', 0.002689329070847543),\n",
       "   ('police_officer', 0.0026480864887011477),\n",
       "   ('multi_motor_trampoline', 0.0025032102408437127),\n",
       "   ('siege', 0.002130062031956083),\n",
       "   ('hotel', 0.002055615413673636),\n",
       "   ('event_planner', 0.00179152126192101)],\n",
       "  'dateTtime': datetime.datetime(2025, 1, 6, 22, 2, 35, 676771),\n",
       "  'infer_time': 0.4284090995788574},\n",
       " {'agent_name': 'examples_finder',\n",
       "  'agent_description': 'rag implemented for elta, suitable for small - medium size db. ',\n",
       "  'succeed': True,\n",
       "  'agent_input': \"An instance of ruleInstanceName - mechanic Evaluation needs to be created, dealing with the severity level two. The scavenging efficiency of this falcon is, let's say, 30. However., the beak sharpness is much sharper, let's say something like eight. The falcon's vision acuity is good, and the wing span is, um, eighty. The level of thermal riding skill is intermediate. The bone digestion efficiency is much higher, at about eighty-five. And the feather maintenance? That's excellent\",\n",
       "  'agent_message': [\"An instance of ruleInstanceName - Falcon Evaluation needs to be created, dealing with the severity level two. The scavenging efficiency of this falcon is, let's say, 30. However, the beak sharpness is much sharper, let's say something like eight. The falcon's vision acuity is good, and the wing span is, um, eighty. The level of thermal riding skill is intermediate. The bone digestion efficiency is much higher, at about eighty-five. And the feather maintenance? That's excellent.\",\n",
       "   \"An instance of eagle assessment needs to be created, dealing with the type of assessment eagle. The scavenging efficiency of the eagle was around, um, eighty. However, the beak sharpness was much more severe, let's say something like seven. The flight altitude of the eagle is high, and the severity of the event is four. The vision acuity of the eagle is excellent, with a wingspan of about two hundred. The thermal riding skill of the eagle is expert, and the bone digestion is ninety. We don't have information on the feather maintenance.\"],\n",
       "  'message_model': '[(\"An instance of ruleInstanceName - Falcon Evaluation needs to be created, dealing with the severity level two. The scavenging efficiency of this falcon is, let\\'s say, 30. However, the beak sharpness is much sharper, let\\'s say something like eight. The falcon\\'s vision acuity is good, and the wing span is, um, eighty. The level of thermal riding skill is intermediate. The bone digestion efficiency is much higher, at about eighty-five. And the feather maintenance? That\\'s excellent.\", 0.9856687799256028), (\"An instance of eagle assessment needs to be created, dealing with the type of assessment eagle. The scavenging efficiency of the eagle was around, um, eighty. However, the beak sharpness was much more severe, let\\'s say something like seven. The flight altitude of the eagle is high, and the severity of the event is four. The vision acuity of the eagle is excellent, with a wingspan of about two hundred. The thermal riding skill of the eagle is expert, and the bone digestion is ninety. We don\\'t have information on the feather maintenance.\", 0.841193653291761)]',\n",
       "  'dateTtime': datetime.datetime(2025, 1, 6, 22, 2, 35, 705271),\n",
       "  'infer_time': 0.027858972549438477},\n",
       " {'agent_name': 'rule_instance_generator',\n",
       "  'agent_description': 'given schema and free text, the agent job is to return the values from the free text according to the schema',\n",
       "  'succeed': True,\n",
       "  'agent_input': \"An instance of ruleInstanceName - mechanic Evaluation needs to be created, dealing with the severity level two. The scavenging efficiency of this falcon is, let's say, 30. However., the beak sharpness is much sharper, let's say something like eight. The falcon's vision acuity is good, and the wing span is, um, eighty. The level of thermal riding skill is intermediate. The bone digestion efficiency is much higher, at about eighty-five. And the feather maintenance? That's excellent\",\n",
       "  'agent_message': [{'ruleInstanceName': 'mechanic Evaluation',\n",
       "    'severity': 2,\n",
       "    'scavengingEfficiency': 30,\n",
       "    'beakSharpness': 8,\n",
       "    'visionAcuity': 'good',\n",
       "    'wingSpan': 80,\n",
       "    'thermalRidingSkill': 'intermediate',\n",
       "    'boneDigestion': 85,\n",
       "    'featherMaintenance': 'excellent'},\n",
       "   {'ruleInstanceName': 'mechanic Evaluation',\n",
       "    'severity': 2,\n",
       "    'scavengingEfficiency': 30,\n",
       "    'beakSharpness': 8,\n",
       "    'visionAcuity': 'good',\n",
       "    'wingSpan': 80,\n",
       "    'thermalRidingSkill': 'intermediate',\n",
       "    'boneDigestion': 85,\n",
       "    'featherMaintenance': 'excellent'}],\n",
       "  'message_model': \"```json\\n{'ruleInstanceName': 'mechanic Evaluation', 'severity': 2, 'scavengingEfficiency': 30, 'beakSharpness': 8, 'visionAcuity': 'good', 'wingSpan': 80, 'thermalRidingSkill': 'intermediate', 'boneDigestion': 85, 'featherMaintenance': 'excellent'}\",\n",
       "  'dateTtime': datetime.datetime(2025, 1, 6, 22, 2, 47, 836250),\n",
       "  'infer_time': 12.127629041671753}]"
      ]
     },
     "execution_count": 10,
     "metadata": {},
     "output_type": "execute_result"
    }
   ],
   "execution_count": 10
  },
  {
   "metadata": {
    "ExecuteTime": {
     "end_time": "2025-01-06T19:17:39.935221Z",
     "start_time": "2025-01-06T19:17:23.059899Z"
    }
   },
   "cell_type": "code",
   "source": [
    "free_text = \"An instance of Bird Evaluation - Albatross Inspection needs to be set up, dealing with the species Albatross. The feather smoothness of the bird is, um, very rough. However, the wing strength was much more stable, let's say something like twenty. The bird's swimming elegance is low, and the complexity of the mating dance is complex. The nest-building skills of the bird are poor, and the seasonal migration is affirmative. The bird's position in the social hierarchy is lower, and the severity of the inspection is four.\"\n",
    "\n",
    "response = rig.get_rule_instance(free_text) # return dictionary\n"
   ],
   "id": "a0ff1b723ede9989",
   "outputs": [],
   "execution_count": 11
  },
  {
   "metadata": {
    "ExecuteTime": {
     "end_time": "2025-01-06T19:17:42.842939Z",
     "start_time": "2025-01-06T19:17:42.839251Z"
    }
   },
   "cell_type": "code",
   "source": "response[\"rule_instance\"]\n",
   "id": "29a3b3e30f4915aa",
   "outputs": [
    {
     "data": {
      "text/plain": [
       "{'_id': '00000000-0000-0000-0000-000000000000',\n",
       " 'description': 'string',\n",
       " 'isActive': True,\n",
       " 'lastUpdateTime': '00/00/0000 00:00:00',\n",
       " 'params': {'Feather smoothness': 'very rough',\n",
       "  'Neck length': 'null',\n",
       "  'Swimming elegance': 'low',\n",
       "  'Mating dance complexity': 'complex',\n",
       "  'Nest-building skills': 'poor',\n",
       "  'Wing strength': 20,\n",
       "  'Seasonal migration': 'affirmative',\n",
       "  'Social hierarchy': 'lower'},\n",
       " 'ruleInstanceName': 'Albatross Inspection',\n",
       " 'severity': 4,\n",
       " 'ruleType': 'structured',\n",
       " 'ruleOwner': '',\n",
       " 'ruleTypeId': '100044a9-1493-41c0-b9cb-3ad4dd2ff9ee',\n",
       " 'eventDetails': [{'objectName': 'Swan',\n",
       "   'objectDescription': None,\n",
       "   'timeWindowInMilliseconds': 0,\n",
       "   'useLatest': False}],\n",
       " 'additionalInformation': {},\n",
       " 'presetId': '00000000-0000-0000-0000-000000000000'}"
      ]
     },
     "execution_count": 12,
     "metadata": {},
     "output_type": "execute_result"
    }
   ],
   "execution_count": 12
  },
  {
   "metadata": {
    "ExecuteTime": {
     "end_time": "2025-01-06T12:32:11.097531Z",
     "start_time": "2025-01-06T12:32:10.997083Z"
    }
   },
   "cell_type": "code",
   "source": [
    "# giving us feedback on the response. it will help us to improve the project. it stores in .logs file, without internet connection.\n",
    "rig.feedback(rig_response=response, good=True)  # or 0.8, or what ever you can  "
   ],
   "id": "1fd6dbf5fae064c9",
   "outputs": [
    {
     "data": {
      "text/plain": [
       "True"
      ]
     },
     "execution_count": 8,
     "metadata": {},
     "output_type": "execute_result"
    }
   ],
   "execution_count": 8
  },
  {
   "metadata": {},
   "cell_type": "markdown",
   "source": "# now you can run the evaluation:",
   "id": "e347cadf3211cca9"
  },
  {
   "metadata": {
    "ExecuteTime": {
     "end_time": "2025-01-06T23:03:58.817093Z",
     "start_time": "2025-01-06T22:55:27.745369Z"
    }
   },
   "cell_type": "code",
   "source": [
    "rig.evaluate(\n",
    "    start_point=0,\n",
    "    end_point=500,  #  -1 or None for all the data\n",
    "    jump=5,\n",
    "    sleep_time_each_10_iter=2,\n",
    "    batch_size=500\n",
    ")"
   ],
   "id": "3a636acd65e09e7b",
   "outputs": [
    {
     "name": "stderr",
     "output_type": "stream",
     "text": [
      " 57%|█████▋    | 57/100 [04:53<03:58,  5.54s/it]"
     ]
    },
    {
     "name": "stdout",
     "output_type": "stream",
     "text": [
      "[('tarantula', 0.030440589951035622), ('komodo_dragon', 0.028036112745260945), ('kangaroo', 0.024293841000724747), ('pangolin', 0.021637445589386524), ('chakram', 0.020453157864501748), ('kestrel', 0.019932050172066434), ('anglerfish', 0.019846421387465774), ('bull', 0.019607233884245685), ('beaver', 0.019560358712075093), ('goliath frog', 0.018662512516058296), ('bow', 0.01847734249078135), ('rabbit', 0.01844778162631072), ('trident', 0.018229571873050875), ('blowgun', 0.018097183314738956), ('platypus', 0.017483401347419904), ('vulture', 0.016771073765915464), ('fox', 0.01663698971250889), ('wildcat', 0.0162591973200213), ('tentacled_sea_cucumber', 0.01583456975899255), ('sea_otter', 0.015287392712567174), ('sabre', 0.014854715538885824), ('mole', 0.014536728680537889), ('phoenix fish', 0.01364117584160093), ('beetle', 0.01323795462429201), ('katana', 0.013109303349542415), ('swan', 0.012434975500637983), ('cannon', 0.012175432639944224), ('axe', 0.012104919643850267), ('goldfish', 0.011732897388229333), ('puffin', 0.011662824205736841), ('net_gun', 0.011250730863523547), ('sniper_attack', 0.010986974844220745), ('rooster', 0.01094901976727247), ('parrotfish', 0.010923514036775063), ('poodle', 0.010884307099002878), ('koala', 0.01082704198722866), ('robot', 0.010641762772587542), ('rapier', 0.010232045108190695), ('morning_star', 0.009764629292595228), ('scimitar', 0.009645836227645106), ('halberd', 0.009510393021690032), ('cow', 0.009417551381803184), ('actor', 0.009123653691489243), ('scientist', 0.00903104046620169), ('data_analyst', 0.007993178907382029), ('flail', 0.007867995171308598), ('scythe', 0.007695626844704827), ('shuriken', 0.007501914367897269), ('boomerang', 0.00741710800365225), ('bastard_sword', 0.007401395804524917), ('hamster', 0.0073661820029438324), ('psychologist', 0.007287762452065811), ('lawyer', 0.007119162521328502), ('artillery_strike', 0.007010582421891017), ('dentist', 0.00698030529458192), ('kayak', 0.006925131277244379), ('canoe', 0.006924871680888869), ('nurse', 0.006800631085108318), ('software developer', 0.006654940385699386), ('teacher', 0.006508402828294326), ('guerrilla_skirmish', 0.006396874226916848), ('aerial_dogfight', 0.006274741083189847), ('mechanic', 0.0061387026181326685), ('police_officer', 0.006120835556772422), ('journalist', 0.006119381318459123), ('molotov_cocktail', 0.006111239909020586), ('flanking_maneuver', 0.00606053288028634), ('gauntlet_knife', 0.005920979994373003), ('plumber', 0.005819040176576238), ('battlefield_retreat', 0.005633809928125775), ('ballista', 0.005616512446337827), ('gondola', 0.005531889339703739), ('carpenter', 0.005370089583487562), ('trench_assault', 0.005275398013968812), ('bayonet_charge', 0.005105587149565149), ('pilot', 0.0050498950802339146), ('cavalry_charge', 0.004939234938373448), ('tank_advance', 0.0049336198956819914), ('chef', 0.004924885502439388), ('engineer', 0.004816835046045442), ('firefighter', 0.0047973885611387), ('siege', 0.004738599794078977), ('x4x4_off_road_car', 0.004631616931673971), ('hospital', 0.004630333063079481), ('farmer', 0.004532115119510586), ('castle', 0.0044943890377787295), ('cottage', 0.004488792239013633), ('paratrooper_drop', 0.004478789254210796), ('museum', 0.004373696168818797), ('bridge', 0.00419145367529578), ('graphic_designer', 0.00407319967110127), ('photographer', 0.004018987310511943), ('atv', 0.003854291208926463), ('architect', 0.0038150617283136856), ('barista', 0.0037207851193182618), ('naval_bombardment', 0.003693692790008295), ('electric_train', 0.003508262278256733), ('evacuation_operation', 0.003303160670398851), ('church', 0.003215122944505234), ('multi_motor_trampoline', 0.0032051858340499855), ('hotel', 0.0032041216851582807), ('conveyor', 0.0031247667703854357), ('urban_public_transport_system', 0.0031058692376310323), ('trolley', 0.0028153888710514352), ('airship_vehicle', 0.002782421456292309), ('ambulance', 0.002327985223236133), ('factory', 0.002269831821162721), ('event_planner', 0.002162581785671731), ('apartment_building', 0.0021531782936022523)]\n"
     ]
    },
    {
     "name": "stderr",
     "output_type": "stream",
     "text": [
      " 98%|█████████▊| 98/100 [08:16<00:10,  5.26s/it]"
     ]
    },
    {
     "name": "stdout",
     "output_type": "stream",
     "text": [
      "[('kangaroo', 0.12809330449943343), ('bull', 0.05879517811050383), ('mole', 0.02310605997379909), ('rooster', 0.0224091846962026), ('cow', 0.021327651845838427), ('koala', 0.02067296224396226), ('pangolin', 0.01914960890869519), ('rabbit', 0.018159686694303616), ('beetle', 0.016463064199876663), ('anglerfish', 0.016049775006610124), ('goliath frog', 0.015727691239573016), ('fox', 0.015445034945113616), ('beaver', 0.014644682935185317), ('kestrel', 0.014172316406221484), ('chakram', 0.01407165461822158), ('sea_otter', 0.013845128729559238), ('tarantula', 0.013419087124935343), ('parrotfish', 0.013323037493286845), ('phoenix fish', 0.013017446883062472), ('hamster', 0.012967641441255104), ('komodo_dragon', 0.012564216830414941), ('swan', 0.011966524870112284), ('katana', 0.011795671868324894), ('vulture', 0.011763375255329573), ('poodle', 0.011625672522248292), ('halberd', 0.011224142093592404), ('axe', 0.011139932675517421), ('platypus', 0.010354079785294278), ('wildcat', 0.010019780850280154), ('robot', 0.009810758102520242), ('puffin', 0.009680306968354358), ('flail', 0.009425183424112867), ('sabre', 0.008747865517913097), ('scythe', 0.008451592326426994), ('cannon', 0.008230848264321378), ('aerial_dogfight', 0.008221105341438212), ('bastard_sword', 0.008111760521868855), ('flanking_maneuver', 0.007997915847514206), ('bow', 0.007942212851281709), ('tentacled_sea_cucumber', 0.007700215389602813), ('artillery_strike', 0.007497122368897692), ('trident', 0.007400579860441662), ('gauntlet_knife', 0.007288074137128349), ('blowgun', 0.00728163823094365), ('morning_star', 0.007171796420870555), ('goldfish', 0.00714184850752441), ('shuriken', 0.007030970016575622), ('ballista', 0.006948494569671066), ('rapier', 0.0065130557846077), ('police_officer', 0.006415640728028346), ('sniper_attack', 0.006210715646871348), ('boomerang', 0.006202973487493942), ('guerrilla_skirmish', 0.006072822986398486), ('cavalry_charge', 0.006018285822719084), ('dentist', 0.0057996096633332744), ('actor', 0.005637526615655106), ('farmer', 0.005584925506031172), ('scimitar', 0.005475140659617891), ('data_analyst', 0.005462936993309478), ('museum', 0.00540707438433337), ('kayak', 0.005342911781654216), ('naval_bombardment', 0.005270889591813407), ('scientist', 0.004972436562311377), ('x4x4_off_road_car', 0.0049430933922317505), ('siege', 0.004862424304045084), ('castle', 0.004850965851213958), ('gondola', 0.004667353798886761), ('battlefield_retreat', 0.004629183275895445), ('electric_train', 0.004583791581203868), ('net_gun', 0.004564758057904449), ('trench_assault', 0.00455617516274939), ('hospital', 0.004543164837242214), ('lawyer', 0.004530737519336372), ('molotov_cocktail', 0.004521411815987233), ('canoe', 0.004499764306522843), ('tank_advance', 0.0044922801876405806), ('plumber', 0.004397241106365573), ('nurse', 0.00439421362887915), ('psychologist', 0.00437503633038099), ('teacher', 0.004267729034723167), ('factory', 0.004114059412497105), ('urban_public_transport_system', 0.004062312523616136), ('barista', 0.003997244263998439), ('bridge', 0.003953978847900454), ('journalist', 0.0038770573342533786), ('mechanic', 0.0038525104759005507), ('pilot', 0.0036702276614476487), ('paratrooper_drop', 0.0036596162319808916), ('apartment_building', 0.0036409326666492453), ('bayonet_charge', 0.0035142286665420467), ('multi_motor_trampoline', 0.003467303669563346), ('atv', 0.003456457901012174), ('airship_vehicle', 0.0034509720420774475), ('software developer', 0.003424957273390524), ('ambulance', 0.0033318370311010105), ('church', 0.003302642608898183), ('engineer', 0.0032912519824259295), ('chef', 0.003270130309546963), ('firefighter', 0.0032502540050170967), ('trolley', 0.003226653195375173), ('carpenter', 0.0032128255798015712), ('conveyor', 0.003070654864727529), ('event_planner', 0.002928512565422827), ('photographer', 0.0028193372708398), ('evacuation_operation', 0.002814184272602261), ('graphic_designer', 0.0025322806725353885), ('hotel', 0.002469467113809653), ('cottage', 0.0024398635825349274), ('architect', 0.0024380921549841663)]\n"
     ]
    },
    {
     "name": "stderr",
     "output_type": "stream",
     "text": [
      "100%|██████████| 100/100 [08:30<00:00,  5.11s/it]"
     ]
    },
    {
     "name": "stdout",
     "output_type": "stream",
     "text": [
      "\n",
      "Average Accuracy Metrics:\n",
      "binary_score: 94.00%\n",
      "binary_score_no_instance_name: 95.00%\n",
      "param_numerical_binary_score: 100.00%\n",
      "param_numerical_avg_score: 100.00%\n",
      "param_verbal_binary_score: 95.00%\n",
      "param_verbal_avg_score: 98.87%\n",
      "score_rule_instance_name: 99.00%\n",
      "classification score: 100.00%\n",
      "\n",
      "Average Accuracy Metrics:\n",
      "binary_score: 94.00%\n",
      "binary_score_no_instance_name: 95.00%\n",
      "param_numerical_binary_score: 100.00%\n",
      "param_numerical_avg_score: 100.00%\n",
      "param_verbal_binary_score: 95.00%\n",
      "param_verbal_avg_score: 98.87%\n",
      "score_rule_instance_name: 99.00%\n",
      "classification score: 100.00%\n"
     ]
    },
    {
     "name": "stderr",
     "output_type": "stream",
     "text": [
      "\n"
     ]
    },
    {
     "data": {
      "text/plain": [
       "{'binary_score': '94.00%',\n",
       " 'binary_score_no_instance_name': '95.00%',\n",
       " 'param_numerical_binary_score': '100.00%',\n",
       " 'param_numerical_avg_score': '100.00%',\n",
       " 'param_verbal_binary_score': '95.00%',\n",
       " 'param_verbal_avg_score': '98.87%',\n",
       " 'score_rule_instance_name': '99.00%',\n",
       " 'classification score': '100.00%'}"
      ]
     },
     "execution_count": 4,
     "metadata": {},
     "output_type": "execute_result"
    }
   ],
   "execution_count": 4
  },
  {
   "metadata": {},
   "cell_type": "code",
   "source": "",
   "id": "1bc030c413df1aec",
   "outputs": [],
   "execution_count": null
  }
 ],
 "metadata": {
  "kernelspec": {
   "display_name": "Python 3",
   "language": "python",
   "name": "python3"
  },
  "language_info": {
   "codemirror_mode": {
    "name": "ipython",
    "version": 2
   },
   "file_extension": ".py",
   "mimetype": "text/x-python",
   "name": "python",
   "nbconvert_exporter": "python",
   "pygments_lexer": "ipython2",
   "version": "2.7.6"
  }
 },
 "nbformat": 4,
 "nbformat_minor": 5
}
