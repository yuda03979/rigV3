{
 "cells": [
  {
   "metadata": {},
   "cell_type": "markdown",
   "source": [
    "# first:\n",
    "- download ollama \n",
    "- run in terminal ollama serve. \n",
    "- if you don't have internet - load the models (README - and the last cell)"
   ],
   "id": "4a2d43f6deccd5b0"
  },
  {
   "cell_type": "code",
   "id": "initial_id",
   "metadata": {
    "collapsed": true,
    "ExecuteTime": {
     "end_time": "2025-01-05T05:25:21.232600Z",
     "start_time": "2025-01-05T05:25:20.188892Z"
    }
   },
   "source": "from src.rule_instance_generator import Rig",
   "outputs": [],
   "execution_count": 1
  },
  {
   "metadata": {
    "ExecuteTime": {
     "end_time": "2025-01-05T05:25:21.305193Z",
     "start_time": "2025-01-05T05:25:21.233561Z"
    }
   },
   "cell_type": "code",
   "source": "rig = Rig()",
   "id": "a8d89b711cd268a1",
   "outputs": [],
   "execution_count": 2
  },
  {
   "metadata": {
    "ExecuteTime": {
     "end_time": "2025-01-05T05:12:05.257020Z",
     "start_time": "2025-01-05T05:12:02.528216Z"
    }
   },
   "cell_type": "code",
   "source": "rig.set_rules()",
   "id": "2b721a2c32794c50",
   "outputs": [
    {
     "data": {
      "text/plain": [
       "True"
      ]
     },
     "execution_count": 3,
     "metadata": {},
     "output_type": "execute_result"
    }
   ],
   "execution_count": 3
  },
  {
   "metadata": {
    "ExecuteTime": {
     "end_time": "2025-01-05T05:12:05.398736Z",
     "start_time": "2025-01-05T05:12:05.258004Z"
    }
   },
   "cell_type": "code",
   "source": "rig.add_rule(\"Actor.json\")",
   "id": "e195c1c5fc8409f",
   "outputs": [
    {
     "data": {
      "text/plain": [
       "True"
      ]
     },
     "execution_count": 4,
     "metadata": {},
     "output_type": "execute_result"
    }
   ],
   "execution_count": 4
  },
  {
   "metadata": {
    "ExecuteTime": {
     "end_time": "2025-01-05T05:12:05.402323Z",
     "start_time": "2025-01-05T05:12:05.399524Z"
    }
   },
   "cell_type": "code",
   "source": [
    "# get list of existing rule types:\n",
    "len(rig.get_rules_names())"
   ],
   "id": "40f11096719ee8f8",
   "outputs": [
    {
     "data": {
      "text/plain": [
       "109"
      ]
     },
     "execution_count": 5,
     "metadata": {},
     "output_type": "execute_result"
    }
   ],
   "execution_count": 5
  },
  {
   "metadata": {
    "ExecuteTime": {
     "end_time": "2025-01-05T05:21:47.976609Z",
     "start_time": "2025-01-05T05:21:47.972318Z"
    }
   },
   "cell_type": "code",
   "source": "rig.tweak_parameters(rag_threshold=0.5, examples_rag_threshold=0.9)",
   "id": "de07b79d8614b256",
   "outputs": [
    {
     "data": {
      "text/plain": [
       "True"
      ]
     },
     "execution_count": 6,
     "metadata": {},
     "output_type": "execute_result"
    }
   ],
   "execution_count": 6
  },
  {
   "metadata": {},
   "cell_type": "markdown",
   "source": "## get rule instance from free text",
   "id": "af0758f5e833cca9"
  },
  {
   "metadata": {
    "ExecuteTime": {
     "end_time": "2025-01-05T05:25:26.874367Z",
     "start_time": "2025-01-05T05:25:24.012637Z"
    }
   },
   "cell_type": "code",
   "source": [
    "free_text = \"An instance of ruleInstanceName - Falcon Evaluation needs to be created, dealing with the severity level two. The scavenging efficiency of this falcon is, let's say, 30. However, the beak sharpness is much sharper, let's say something like eight. The falcon's vision acuity is good, and the wing span is, um, eighty. The level of thermal riding skill is intermediate. The bone digestion efficiency is much higher, at about eighty-five. And the feather maintenance? That's excellent.\"\n",
    "\n",
    "response = rig.get_rule_instance(free_text) # return dictionary"
   ],
   "id": "d41d9ff66ad84cda",
   "outputs": [
    {
     "name": "stdout",
     "output_type": "stream",
     "text": [
      "\n",
      "        ### Rules:\n",
      "        1. Only use fields explicitly listed in the schema below.\n",
      "        2. Do not add or infer fields. Fields missing in the schema or text should be set to \"null\".\n",
      "        3. Carefully map field names from the schema to the text, even if the phrasing differs.\n",
      "        4. Treat words like \"without\", \"unknown\" as \"null\", while \"standard\" \"low\" etc. will return the value.\n",
      "        5. Output must match the schema exactly.\n",
      "    \n",
      "        ***Be sure to follow these rules***\n",
      "    \n",
      "        ### Examples:\n",
      "        \n",
      "        ### Example 1 (Similar Style Example):\n",
      "        ##Example 1:\n",
      "Free_text:\n",
      "An instance of ruleInstanceName - Falcon Evaluation needs to be created, dealing with the severity level two. The scavenging efficiency of this falcon is, let's say, 30. However, the beak sharpness is much sharper, let's say something like eight. The falcon's vision acuity is good, and the wing span is, um, eighty. The level of thermal riding skill is intermediate. The bone digestion efficiency is much higher, at about eighty-five. And the feather maintenance? That's excellent.,\n",
      "Schema:\n",
      "{'Scavenging efficiency': 'Int', 'Flight altitude': 'String', 'Beak sharpness': 'Int', 'Vision acuity': 'string', 'Wing span': 'Int', 'Thermal riding skill': 'string', 'Bone digestion': 'Int', 'Feather maintenance': 'String', 'ruleInstanceName': 'string', 'severity': 'int'},\n",
      "Output:\n",
      "{'Scavenging efficiency': 30, 'Flight altitude': 'null', 'Beak sharpness': 8, 'Vision acuity': 'good', 'Wing span': 80, 'Thermal riding skill': 'intermediate', 'Bone digestion': 85, 'Feather maintenance': 'excellent', 'ruleInstanceName': 'Falcon Evaluation', 'severity': 2}\n",
      "        \n",
      "        ### Example 2 (Closest Task Match) :\n",
      "        ##Example 2:\n",
      "Free_text:\n",
      "An instance of Bird Evaluation - Albatross Inspection needs to be set up, dealing with the species Albatross. The feather smoothness of the bird is, um, very rough. However, the wing strength was much more stable, let's say something like twenty. The bird's swimming elegance is low, and the complexity of the mating dance is complex. The nest-building skills of the bird are poor, and the seasonal migration is affirmative. The bird's position in the social hierarchy is lower, and the severity of the inspection is four.,\n",
      "schema:\n",
      "{'Feather smoothness': 'String', 'Neck length': 'Int', 'Swimming elegance': 'string', 'Mating dance complexity': 'String', 'Nest-building skills': 'string', 'Wing strength': 'Int', 'Seasonal migration': 'String', 'Social hierarchy': 'String', 'ruleInstanceName': 'string', 'severity': 'int'},\n",
      "Output:\n",
      "{'Feather smoothness': 'very rough', 'Neck length': 'null', 'Swimming elegance': 'low', 'Mating dance complexity': 'complex', 'Nest-building skills': 'poor', 'Wing strength': 20, 'Seasonal migration': 'affirmative', 'Social hierarchy': 'lower', 'ruleInstanceName': 'Albatross Inspection', 'severity': 4}\n",
      "        \n",
      "        ### Example 3 (Example for handling empty values):\n",
      "        \n",
      "        ---\n",
      "    \n",
      "        ### Context (do not use for filling fields, only as reference for the schema):\n",
      "        {'Scavenging efficiency_description': '', 'Flight altitude_description': '', 'Beak sharpness_description': '', 'Vision acuity_description': \"Allowed answers: 'excellent', 'good', 'average', or 'poor'\", 'Wing span_description': '', 'Thermal riding skill_description': \"Allowed answer: 'novice', 'intermediate', 'expert'\", 'Bone digestion_description': '', 'Feather maintenance_description': '', 'ruleInstanceName_description': 'About what the message is and its relation to the database.', 'severity_description': 'Level of importance, criticality, or risk.', 'event details': {}, 'global description': '', 'object name': 'Vulture'}\n",
      "    \n",
      "        ---\n",
      "        ### Task:\n",
      "        - Schema: {'Scavenging efficiency': 'Int', 'Flight altitude': 'String', 'Beak sharpness': 'Int', 'Vision acuity': 'string', 'Wing span': 'Int', 'Thermal riding skill': 'string', 'Bone digestion': 'Int', 'Feather maintenance': 'String', 'ruleInstanceName': 'string', 'severity': 'int'}\n",
      "        - Free text: An instance of ruleInstanceName - Falcon Evaluation needs to be created, dealing with the severity level two. The scavenging efficiency of this falcon is, let's say, 30. However, the beak sharpness is much sharper, let's say something like eight. The falcon's vision acuity is good, and the wing span is, um, eighty. The level of thermal riding skill is intermediate. The bone digestion efficiency is much higher, at about eighty-five. And the feather maintenance? That's excellent.\n",
      "        - Output:\n",
      "        \n",
      "{'query': \"An instance of ruleInstanceName - Falcon Evaluation needs to be created, dealing with the severity level two. The scavenging efficiency of this falcon is, let's say, 30. However, the beak sharpness is much sharper, let's say something like eight. The falcon's vision acuity is good, and the wing span is, um, eighty. The level of thermal riding skill is intermediate. The bone digestion efficiency is much higher, at about eighty-five. And the feather maintenance? That's excellent.\", 'message': {}, 'is_error': False, 'agents_massages': [{'agent_name': 'rule_classifier', 'agent_description': 'rag implemented for elta, suitable for small - medium size db. ', 'succeed': True, 'agent_input': \"classification: \\nAn instance of ruleInstanceName - Falcon Evaluation needs to be created, dealing with the severity level two. The scavenging efficiency of this falcon is, let's say, 30. However, the beak sharpness is much sharper, let's say something like eight. The falcon's vision acuity is good, and the wing span is, um, eighty. The level of thermal riding skill is intermediate. The bone digestion efficiency is much higher, at about eighty-five. And the feather maintenance? That's excellent.\", 'agent_message': 'vulture', 'message_model': [('vulture', 1.0), ('mechanic', 0.0), ('trench_assault', 0.0), ('flanking_maneuver', 0.0), ('komodo_dragon', 0.0), ('molotov_cocktail', 0.0), ('bull', 0.0), ('fox', 0.0), ('flail', 0.0), ('firefighter', 0.0), ('kayak', 0.0), ('ballista', 0.0), ('farmer', 0.0), ('evacuation_operation', 0.0), ('cow', 0.0), ('cannon', 0.0), ('chef', 0.0), ('actor', 0.0), ('atv', 0.0), ('castle', 0.0), ('multi_motor_trampoline', 0.0), ('parrotfish', 0.0), ('aerial_dogfight', 0.0), ('goldfish', 0.0), ('paratrooper_drop', 0.0), ('naval_bombardment', 0.0), ('beaver', 0.0), ('apartment_building', 0.0), ('bastard_sword', 0.0), ('architect', 0.0), ('tentacled_sea_cucumber', 0.0), ('cavalry_charge', 0.0), ('guerrilla_skirmish', 0.0), ('sea_otter', 0.0), ('morning_star', 0.0), ('journalist', 0.0), ('rapier', 0.0), ('graphic_designer', 0.0), ('puffin', 0.0), ('data_analyst', 0.0), ('teacher', 0.0), ('hamster', 0.0), ('katana', 0.0), ('scientist', 0.0), ('boomerang', 0.0), ('koala', 0.0), ('nurse', 0.0), ('dentist', 0.0), ('gondola', 0.0), ('halberd', 0.0), ('engineer', 0.0), ('hospital', 0.0), ('tarantula', 0.0), ('mole', 0.0), ('scimitar', 0.0), ('axe', 0.0), ('pangolin', 0.0), ('bow', 0.0), ('poodle', 0.0), ('plumber', 0.0), ('bayonet_charge', 0.0), ('net_gun', 0.0), ('battlefield_retreat', 0.0), ('kestrel', 0.0), ('swan', 0.0), ('electric_train', 0.0), ('blowgun', 0.0), ('ambulance', 0.0), ('chakram', 0.0), ('shuriken', 0.0), ('platypus', 0.0), ('rooster', 0.0), ('wildcat', 0.0), ('x4x4_off_road_car', 0.0), ('event_planner', 0.0), ('trident', 0.0), ('carpenter', 0.0), ('rabbit', 0.0), ('trolley', 0.0), ('urban_public_transport_system', 0.0), ('sniper_attack', 0.0), ('photographer', 0.0), ('police_officer', 0.0), ('museum', 0.0), ('lawyer', 0.0), ('canoe', 0.0), ('scythe', 0.0), ('goliath frog', 0.0), ('cottage', 0.0), ('conveyor', 0.0), ('software developer', 0.0), ('tank_advance', 0.0), ('church', 0.0), ('robot', 0.0), ('gauntlet_knife', 0.0), ('beetle', 0.0), ('factory', 0.0), ('airship_vehicle', 0.0), ('artillery_strike', 0.0), ('psychologist', 0.0), ('kangaroo', 0.0), ('anglerfish', 0.0), ('sabre', 0.0), ('phoenix fish', 0.0), ('siege', 0.0), ('barista', 0.0), ('pilot', 0.0), ('hotel', 0.0), ('bridge', 0.0)], 'dateTtime': datetime.datetime(2025, 1, 5, 7, 25, 24, 109061), 'infer_time': 0.09411001205444336}, {'agent_name': 'examples_finder', 'agent_description': 'rag implemented for elta, suitable for small - medium size db. ', 'succeed': True, 'agent_input': \"classification: \\nAn instance of ruleInstanceName - Falcon Evaluation needs to be created, dealing with the severity level two. The scavenging efficiency of this falcon is, let's say, 30. However, the beak sharpness is much sharper, let's say something like eight. The falcon's vision acuity is good, and the wing span is, um, eighty. The level of thermal riding skill is intermediate. The bone digestion efficiency is much higher, at about eighty-five. And the feather maintenance? That's excellent.\", 'agent_message': [\"An instance of ruleInstanceName - Falcon Evaluation needs to be created, dealing with the severity level two. The scavenging efficiency of this falcon is, let's say, 30. However, the beak sharpness is much sharper, let's say something like eight. The falcon's vision acuity is good, and the wing span is, um, eighty. The level of thermal riding skill is intermediate. The bone digestion efficiency is much higher, at about eighty-five. And the feather maintenance? That's excellent.\", \"An instance of Bird Evaluation - Albatross Inspection needs to be set up, dealing with the species Albatross. The feather smoothness of the bird is, um, very rough. However, the wing strength was much more stable, let's say something like twenty. The bird's swimming elegance is low, and the complexity of the mating dance is complex. The nest-building skills of the bird are poor, and the seasonal migration is affirmative. The bird's position in the social hierarchy is lower, and the severity of the inspection is four.\"], 'message_model': '[(\"An instance of ruleInstanceName - Falcon Evaluation needs to be created, dealing with the severity level two. The scavenging efficiency of this falcon is, let\\'s say, 30. However, the beak sharpness is much sharper, let\\'s say something like eight. The falcon\\'s vision acuity is good, and the wing span is, um, eighty. The level of thermal riding skill is intermediate. The bone digestion efficiency is much higher, at about eighty-five. And the feather maintenance? That\\'s excellent.\", 1.0), (\"An instance of Bird Evaluation - Albatross Inspection needs to be set up, dealing with the species Albatross. The feather smoothness of the bird is, um, very rough. However, the wing strength was much more stable, let\\'s say something like twenty. The bird\\'s swimming elegance is low, and the complexity of the mating dance is complex. The nest-building skills of the bird are poor, and the seasonal migration is affirmative. The bird\\'s position in the social hierarchy is lower, and the severity of the inspection is four.\", 0.0), (\"e need to create an instance of Car Inspection. The inspection covers various aspects of the car. The tires... well, they are at a four. The engine is doing pretty well, it\\'s at a five. The brakes system is good, no worries there. The car is a 4-wheel drive. The lights system, well, we don\\'t have any information on that. Oh, and by the way, the severity of this inspection is five.\", 0.0)]', 'dateTtime': datetime.datetime(2025, 1, 5, 7, 25, 24, 139439), 'infer_time': 0.02926492691040039}, {'agent_name': 'rule_instance_generator', 'agent_description': 'given schema and free text, (and maybe some more parameters - depends on the prompt you choose\\n    the agent job is to return the values from the free text according to the schema', 'succeed': True, 'agent_input': \"An instance of ruleInstanceName - Falcon Evaluation needs to be created, dealing with the severity level two. The scavenging efficiency of this falcon is, let's say, 30. However, the beak sharpness is much sharper, let's say something like eight. The falcon's vision acuity is good, and the wing span is, um, eighty. The level of thermal riding skill is intermediate. The bone digestion efficiency is much higher, at about eighty-five. And the feather maintenance? That's excellent.\", 'agent_message': {'Scavenging efficiency': 30, 'Flight altitude': 'null', 'Beak sharpness': 8, 'Vision acuity': 'good', 'Wing span': 80, 'Thermal riding skill': 'intermediate', 'Bone digestion': 85, 'Feather maintenance': 'excellent', 'ruleInstanceName': 'Falcon Evaluation', 'severity': 2}, 'message_model': \"```json\\n{'Scavenging efficiency': 30, 'Flight altitude': 'null', 'Beak sharpness': 8, 'Vision acuity': 'good', 'Wing span': 80, 'Thermal riding skill': 'intermediate', 'Bone digestion': 85, 'Feather maintenance': 'excellent', 'ruleInstanceName': 'Falcon Evaluation', 'severity': 2}\", 'dateTtime': datetime.datetime(2025, 1, 5, 7, 25, 26, 871585), 'infer_time': 2.728214979171753}], 'total_infer_time': 2.856729030609131, 'Uuid': UUID('0afdee59-3c1d-4680-b9c8-9035df6ef6f3'), 'dateTtime': datetime.datetime(2025, 1, 5, 7, 25, 24, 14904)}\n"
     ]
    }
   ],
   "execution_count": 3
  },
  {
   "metadata": {
    "ExecuteTime": {
     "end_time": "2025-01-05T05:12:11.657734Z",
     "start_time": "2025-01-05T05:12:11.654346Z"
    }
   },
   "cell_type": "code",
   "source": "response[\"rule_instance\"]",
   "id": "8272c662c671476c",
   "outputs": [
    {
     "data": {
      "text/plain": [
       "{}"
      ]
     },
     "execution_count": 8,
     "metadata": {},
     "output_type": "execute_result"
    }
   ],
   "execution_count": 8
  },
  {
   "metadata": {
    "ExecuteTime": {
     "end_time": "2025-01-05T05:12:12.654478Z",
     "start_time": "2025-01-05T05:12:12.651109Z"
    }
   },
   "cell_type": "code",
   "source": "response.keys()",
   "id": "291f52e6d13fea73",
   "outputs": [
    {
     "data": {
      "text/plain": [
       "dict_keys(['query', 'message', 'is_error', 'agents_massages', 'total_infer_time', 'Uuid', 'dateTtime', 'rule_name', 'rule_instance_params', 'rule_instance'])"
      ]
     },
     "execution_count": 9,
     "metadata": {},
     "output_type": "execute_result"
    }
   ],
   "execution_count": 9
  },
  {
   "metadata": {
    "ExecuteTime": {
     "end_time": "2025-01-05T05:22:37.220039Z",
     "start_time": "2025-01-05T05:22:35.105698Z"
    }
   },
   "cell_type": "code",
   "source": [
    "free_text = \"An instance of Bird Evaluation - Albatross Inspection needs to be set up, dealing with the species Albatross. The feather smoothness of the bird is, um, very rough. However, the wing strength was much more stable, let's say something like twenty. The bird's swimming elegance is low, and the complexity of the mating dance is complex. The nest-building skills of the bird are poor, and the seasonal migration is affirmative. The bird's position in the social hierarchy is lower, and the severity of the inspection is four.\"\n",
    "\n",
    "response = rig.get_rule_instance(free_text) # return dictionary\n"
   ],
   "id": "a0ff1b723ede9989",
   "outputs": [
    {
     "name": "stdout",
     "output_type": "stream",
     "text": [
      "{'query': \"An instance of Bird Evaluation - Albatross Inspection needs to be set up, dealing with the species Albatross. The feather smoothness of the bird is, um, very rough. However, the wing strength was much more stable, let's say something like twenty. The bird's swimming elegance is low, and the complexity of the mating dance is complex. The nest-building skills of the bird are poor, and the seasonal migration is affirmative. The bird's position in the social hierarchy is lower, and the severity of the inspection is four.\", 'message': {}, 'is_error': False, 'agents_massages': [{'agent_name': 'rule_classifier', 'agent_description': 'rag implemented for elta, suitable for small - medium size db. ', 'succeed': True, 'agent_input': \"classification: \\nAn instance of Bird Evaluation - Albatross Inspection needs to be set up, dealing with the species Albatross. The feather smoothness of the bird is, um, very rough. However, the wing strength was much more stable, let's say something like twenty. The bird's swimming elegance is low, and the complexity of the mating dance is complex. The nest-building skills of the bird are poor, and the seasonal migration is affirmative. The bird's position in the social hierarchy is lower, and the severity of the inspection is four.\", 'agent_message': 'swan', 'message_model': [('swan', 1.0), ('mechanic', 0.0), ('apartment_building', 0.0), ('flanking_maneuver', 0.0), ('komodo_dragon', 0.0), ('molotov_cocktail', 0.0), ('bull', 0.0), ('fox', 0.0), ('flail', 0.0), ('firefighter', 0.0), ('kayak', 0.0), ('ballista', 0.0), ('farmer', 0.0), ('evacuation_operation', 0.0), ('trench_assault', 0.0), ('cow', 0.0), ('chef', 0.0), ('actor', 0.0), ('atv', 0.0), ('castle', 0.0), ('multi_motor_trampoline', 0.0), ('parrotfish', 0.0), ('aerial_dogfight', 0.0), ('vulture', 0.0), ('goldfish', 0.0), ('paratrooper_drop', 0.0), ('naval_bombardment', 0.0), ('beaver', 0.0), ('bastard_sword', 0.0), ('cannon', 0.0), ('architect', 0.0), ('tentacled_sea_cucumber', 0.0), ('cavalry_charge', 0.0), ('guerrilla_skirmish', 0.0), ('sea_otter', 0.0), ('morning_star', 0.0), ('journalist', 0.0), ('rapier', 0.0), ('graphic_designer', 0.0), ('puffin', 0.0), ('data_analyst', 0.0), ('teacher', 0.0), ('hamster', 0.0), ('katana', 0.0), ('scientist', 0.0), ('boomerang', 0.0), ('koala', 0.0), ('nurse', 0.0), ('dentist', 0.0), ('gondola', 0.0), ('halberd', 0.0), ('engineer', 0.0), ('hospital', 0.0), ('tarantula', 0.0), ('mole', 0.0), ('scimitar', 0.0), ('axe', 0.0), ('police_officer', 0.0), ('bow', 0.0), ('poodle', 0.0), ('plumber', 0.0), ('bayonet_charge', 0.0), ('net_gun', 0.0), ('battlefield_retreat', 0.0), ('kestrel', 0.0), ('electric_train', 0.0), ('blowgun', 0.0), ('ambulance', 0.0), ('pangolin', 0.0), ('chakram', 0.0), ('platypus', 0.0), ('rooster', 0.0), ('wildcat', 0.0), ('x4x4_off_road_car', 0.0), ('event_planner', 0.0), ('trident', 0.0), ('carpenter', 0.0), ('rabbit', 0.0), ('trolley', 0.0), ('urban_public_transport_system', 0.0), ('sniper_attack', 0.0), ('photographer', 0.0), ('museum', 0.0), ('shuriken', 0.0), ('lawyer', 0.0), ('canoe', 0.0), ('scythe', 0.0), ('goliath frog', 0.0), ('cottage', 0.0), ('conveyor', 0.0), ('software developer', 0.0), ('tank_advance', 0.0), ('church', 0.0), ('robot', 0.0), ('gauntlet_knife', 0.0), ('beetle', 0.0), ('factory', 0.0), ('airship_vehicle', 0.0), ('artillery_strike', 0.0), ('psychologist', 0.0), ('kangaroo', 0.0), ('anglerfish', 0.0), ('sabre', 0.0), ('phoenix fish', 0.0), ('siege', 0.0), ('barista', 0.0), ('pilot', 0.0), ('hotel', 0.0), ('bridge', 0.0)], 'dateTtime': datetime.datetime(2025, 1, 5, 7, 22, 35, 186370), 'infer_time': 0.07893991470336914}, {'agent_name': 'examples_finder', 'agent_description': 'rag implemented for elta, suitable for small - medium size db. ', 'succeed': True, 'agent_input': \"classification: \\nAn instance of Bird Evaluation - Albatross Inspection needs to be set up, dealing with the species Albatross. The feather smoothness of the bird is, um, very rough. However, the wing strength was much more stable, let's say something like twenty. The bird's swimming elegance is low, and the complexity of the mating dance is complex. The nest-building skills of the bird are poor, and the seasonal migration is affirmative. The bird's position in the social hierarchy is lower, and the severity of the inspection is four.\", 'agent_message': [\"e need to create an instance of Car Inspection. The inspection covers various aspects of the car. The tires... well, they are at a four. The engine is doing pretty well, it's at a five. The brakes system is good, no worries there. The car is a 4-wheel drive. The lights system, well, we don't have any information on that. Oh, and by the way, the severity of this inspection is five.\", \"An instance of ruleInstanceName - Falcon Evaluation needs to be created, dealing with the severity level two. The scavenging efficiency of this falcon is, let's say, 30. However, the beak sharpness is much sharper, let's say something like eight. The falcon's vision acuity is good, and the wing span is, um, eighty. The level of thermal riding skill is intermediate. The bone digestion efficiency is much higher, at about eighty-five. And the feather maintenance? That's excellent.\"], 'message_model': '[(\"e need to create an instance of Car Inspection. The inspection covers various aspects of the car. The tires... well, they are at a four. The engine is doing pretty well, it\\'s at a five. The brakes system is good, no worries there. The car is a 4-wheel drive. The lights system, well, we don\\'t have any information on that. Oh, and by the way, the severity of this inspection is five.\", 1.0), (\"An instance of ruleInstanceName - Falcon Evaluation needs to be created, dealing with the severity level two. The scavenging efficiency of this falcon is, let\\'s say, 30. However, the beak sharpness is much sharper, let\\'s say something like eight. The falcon\\'s vision acuity is good, and the wing span is, um, eighty. The level of thermal riding skill is intermediate. The bone digestion efficiency is much higher, at about eighty-five. And the feather maintenance? That\\'s excellent.\", 0.0)]', 'dateTtime': datetime.datetime(2025, 1, 5, 7, 22, 35, 218572), 'infer_time': 0.0314481258392334}, {'agent_name': 'rule_instance_generator', 'agent_description': 'given schema and free text, (and maybe some more parameters - depends on the prompt you choose\\n    the agent job is to return the values from the free text according to the schema', 'succeed': True, 'agent_input': \"An instance of Bird Evaluation - Albatross Inspection needs to be set up, dealing with the species Albatross. The feather smoothness of the bird is, um, very rough. However, the wing strength was much more stable, let's say something like twenty. The bird's swimming elegance is low, and the complexity of the mating dance is complex. The nest-building skills of the bird are poor, and the seasonal migration is affirmative. The bird's position in the social hierarchy is lower, and the severity of the inspection is four.\", 'agent_message': {'Feather smoothness': 'very rough', 'Neck length': 'null', 'Swimming elegance': 'low', 'Mating dance complexity': 'complex', 'Nest-building skills': 'poor', 'Wing strength': 20, 'Seasonal migration': 'affirmative', 'Social hierarchy': 'lower', 'ruleInstanceName': 'Albatross Inspection', 'severity': 4}, 'message_model': \"```json\\n{'Feather smoothness': 'very rough', 'Neck length': null, 'Swimming elegance': 'low', 'Mating dance complexity': 'complex', 'Nest-building skills': 'poor', 'Wing strength': 20, 'Seasonal migration': 'affirmative', 'Social hierarchy': 'lower', 'ruleInstanceName': 'Albatross Inspection', 'severity': 4}\", 'dateTtime': datetime.datetime(2025, 1, 5, 7, 22, 37, 217757), 'infer_time': 1.9974308013916016}], 'total_infer_time': 2.1103932857513428, 'Uuid': UUID('d82fda39-f324-4ada-8ba7-e12559bf47a2'), 'dateTtime': datetime.datetime(2025, 1, 5, 7, 22, 35, 107372)}\n",
      "{'Feather smoothness': 'very rough', 'Neck length': 'null', 'Swimming elegance': 'low', 'Mating dance complexity': 'complex', 'Nest-building skills': 'poor', 'Wing strength': 20, 'Seasonal migration': 'affirmative', 'Social hierarchy': 'lower', 'ruleInstanceName': 'Albatross Inspection', 'severity': 4}\n"
     ]
    }
   ],
   "execution_count": 9
  },
  {
   "metadata": {
    "ExecuteTime": {
     "end_time": "2025-01-05T05:12:16.377056Z",
     "start_time": "2025-01-05T05:12:16.373808Z"
    }
   },
   "cell_type": "code",
   "source": "response[\"rule_instance\"]\n",
   "id": "29a3b3e30f4915aa",
   "outputs": [
    {
     "data": {
      "text/plain": [
       "{}"
      ]
     },
     "execution_count": 11,
     "metadata": {},
     "output_type": "execute_result"
    }
   ],
   "execution_count": 11
  },
  {
   "metadata": {
    "ExecuteTime": {
     "end_time": "2025-01-05T05:22:40.317421Z",
     "start_time": "2025-01-05T05:22:40.240595Z"
    }
   },
   "cell_type": "code",
   "source": [
    "# giving us feedback on the response. it will help us to improve the project. it stores in .logs file, without internet connection.\n",
    "rig.feedback(rig_response=response, good=True)  # or 0.8, or what ever you can  "
   ],
   "id": "1fd6dbf5fae064c9",
   "outputs": [
    {
     "data": {
      "text/plain": [
       "True"
      ]
     },
     "execution_count": 10,
     "metadata": {},
     "output_type": "execute_result"
    }
   ],
   "execution_count": 10
  },
  {
   "metadata": {},
   "cell_type": "markdown",
   "source": "# now you can run the evaluation:",
   "id": "e347cadf3211cca9"
  },
  {
   "metadata": {
    "ExecuteTime": {
     "end_time": "2024-12-31T21:03:14.158303Z",
     "start_time": "2024-12-31T21:03:02.741651Z"
    }
   },
   "cell_type": "code",
   "source": [
    "rig.evaluate(\n",
    "    start_point=100,\n",
    "    end_point=110,  #  -1 or None for all the data\n",
    "    sleep_time_each_10_iter=2,\n",
    "    batch_size=500\n",
    ")"
   ],
   "id": "3a636acd65e09e7b",
   "outputs": [
    {
     "name": "stderr",
     "output_type": "stream",
     "text": [
      "  0%|          | 0/10 [00:00<?, ?it/s]"
     ]
    },
    {
     "name": "stdout",
     "output_type": "stream",
     "text": [
      "\n",
      "    \n",
      "    step 1: \n",
      "    ### Rules:\n",
      "1. Only use fields explicitly listed in the schema below.\n",
      "2. Do not add or infer fields. Fields missing in the schema or text should be set to \"null\".\n",
      "3. Carefully map field names from the schema to the text, even if the phrasing differs.\n",
      "4. Treat words like \"without\", \"unknown\" as \"null\", while \"standard\" \"low\" etc. will return the value.\n",
      "5. Output must match the schema exactly.\n",
      "\n",
      "        ***Be sure to follow these rules***\n",
      "\n",
      "    ### Schema:\n",
      "    {'Conveyor belt': 'String', 'Conveyor wheels': 'String', 'Electrical connections': 'string', 'Speed adjustment': 'Int', 'Sensors': 'string', 'ruleInstanceName': 'string', 'severity': 'int'}\n",
      "\n",
      "    ### Examples:\n",
      "    \n",
      "\n",
      "### Example 1 :\n",
      "Free text:\n",
      "\"Add a report for 'Shell Delay'. Equipment Malfunction case. Type: shell. Site is not important. Malfunction at level five, urgency four. Desc: Detonation delayed in poland Severity i think 3.\"\n",
      "Schema:\n",
      "{\n",
      "    \"type\": \"string\",\n",
      "    \"site\": \"string\",\n",
      "    \"malfunctionLevel\": \"int\",\n",
      "    \"urgency\": \"int\",\n",
      "    \"description\": \" string\",\n",
      "    \"ruleInstanceName\": \"string\",\n",
      "    \"severity\": \"int\"\n",
      "}\n",
      "Output:\n",
      "{\n",
      "    \"type\": \"shell\",\n",
      "    \"site\": \"empty\",\n",
      "    \"malfunctionLevel\": 5,\n",
      "    \"urgency\": 4,\n",
      "    \"description\": \"Detonation delayed in poland\",\n",
      "    \"ruleInstanceName\": \"Equipment Malfunction - Shell Delay\",\n",
      "    \"severity\": 3\n",
      "}\n",
      "\n",
      "\n",
      "### Example 3 (Example for handling empty values):\n",
      "Free text:\n",
      "\"Please generate a Weather Alert - other for area code 2001. Alert type is Thunderstorm. Intensity: severe. Urgency: high. Ignore the forecast source for now. The duration of this case, I'd say, is around two. severity is empty or unclear\"\n",
      "Schema:\n",
      "{\n",
      "    \"alertType\": \"string\",\n",
      "    \"areaCode\": \"int\",\n",
      "    \"intensity\": \"string\",\n",
      "    \"urgency\": \"string\",\n",
      "    \"forecastSource\": \"string\",\n",
      "    \"duration\": \"int\",\n",
      "    \"ruleInstanceName\": \"string\",\n",
      "    \"severity\": \"int\"\n",
      "}\n",
      "Output:\n",
      "{\n",
      "    \"alertType\": \"Thunderstorm\",\n",
      "    \"areaCode\": 2001,\n",
      "    \"intensity\": \"severe\",\n",
      "    \"urgency\": \"high\",\n",
      "    \"forecastSource\": \"null\",\n",
      "    \"duration\": 2,\n",
      "    \"ruleInstanceName\": \"Weather Alert - other\",\n",
      "    \"severity\": \"null\"\n",
      "}\n",
      "\n",
      "        \n",
      "    ---\n",
      "\n",
      "    ### Context (do not use for filling fields, only as reference for the schema):\n",
      "    {'Conveyor belt_description': '', 'Conveyor wheels_description': '', 'Electrical connections_description': \"Allowed answers: 'connected', 'disconnected', 'partially connected'\", 'Speed adjustment_description': '', 'Sensors_description': \"Allowed answers: 'active', 'inactive', 'malfunctioning'\", 'ruleInstanceName_description': 'About what the message is and to what it relates in the DB.', 'severity_description': 'Level of importance, criticality, or risk.', 'global description': '', 'object name': 'Conveyor'}\n",
      "\n",
      "    ---\n",
      "    ### Task:\n",
      "    - Free text: A system overhaul is needed to examine the machinery, dealing with the severity level four. The state of the conveyor belt is functional and the conveyor wheels are working properly. However, there is no data on the electrical connections. The speed adjustment is set to a seven and the sensors are actively working.\n",
      "    - Output:\n",
      "     ```json\n",
      "{'ruleInstanceName': 'system overhaul', 'severity': '4', 'Conveyor belt': 'functional', 'Conveyor wheels': 'working properly', 'Electrical connections': 'null', 'Speed adjustment': '7', 'Sensors': 'active'}.\n",
      "    ------ FINISH!!! ------\n",
      "\n",
      "    step 2: \n",
      "    Task: explain why you generate this schema and if its good.  \n",
      "\n",
      "    **Evaluation Criteria:**  \n",
      "    - Do the fields in the schema not correspond to topics in the free text?  \n",
      "    - Are the values (not null) from the schema not present in the free text? \n",
      "\n",
      "    Example:\n",
      "    Free Text:\n",
      "    An instance of eagle assessment needs to be created, dealing with the type of assessment eagle. The scavenging efficiency of the eagle was around, um, eighty. However, the beak sharpness was much more severe, let's say something like seven. The flight altitude of the eagle is very high, and the severity of the event is four. The vision acuity of the eagle is excellent, with a wingspan of about two hundred. The thermal riding skill of the eagle is expert, and the bone digestion is ninety. We don't have information on the feather maintenance.\n",
      "\n",
      "    output:\n",
      "    {\n",
      "        \"ruleInstanceName\": \"eagle assessment\",\n",
      "        \"severity\": \"4\",\n",
      "        \"Scavenging efficiency\": \"80\",\n",
      "        \"Flight altitude\": \"high\",\n",
      "        \"Beak sharpness\": \"7\",\n",
      "        \"Vision acuity\": \"excellent\",\n",
      "        \"Wing span\": \"200\",\n",
      "        \"Thermal riding skill\": \"expert\",\n",
      "        \"Bone digestion\": \"90\",\n",
      "        \"Feather maintenance\": \"null\"\n",
      "    }\n",
      "\n",
      "    explanation: flight altitude should be \"very high\". so i did it wrong. all the other fields are good!\n",
      "\n",
      "    free text: A system overhaul is needed to examine the machinery, dealing with the severity level four. The state of the conveyor belt is functional and the conveyor wheels are working properly. However, there is no data on the electrical connections. The speed adjustment is set to a seven and the sensors are actively working.\n",
      "\n",
      "    output: ```json\n",
      "{'ruleInstanceName': 'system overhaul', 'severity': '4', 'Conveyor belt': 'functional', 'Conveyor wheels': 'working properly', 'Electrical connections': 'null', 'Speed adjustment': '7', 'Sensors': 'active'}\n",
      "    short explanation: The schema provided is designed to extract and map the relevant information from a free text description into structured data fields that correspond directly with predefined categories. Each field in the schema represents an aspect of the conveyor system or related processes, as described by the rules for handling missing values (treating words like \"without\" as null).\n",
      "\n",
      "The output correctly maps each piece of information from the free text to its corresponding field:\n",
      "- 'ruleInstanceName' is set to 'system overha\n",
      "    now generate again according the schema:\n",
      "    Output:\n",
      "    \n"
     ]
    },
    {
     "name": "stderr",
     "output_type": "stream",
     "text": [
      "  0%|          | 0/10 [00:11<?, ?it/s]\n",
      "\n",
      "KeyboardInterrupt\n",
      "\n"
     ]
    }
   ],
   "execution_count": 2
  }
 ],
 "metadata": {
  "kernelspec": {
   "display_name": "Python 3",
   "language": "python",
   "name": "python3"
  },
  "language_info": {
   "codemirror_mode": {
    "name": "ipython",
    "version": 2
   },
   "file_extension": ".py",
   "mimetype": "text/x-python",
   "name": "python",
   "nbconvert_exporter": "python",
   "pygments_lexer": "ipython2",
   "version": "2.7.6"
  }
 },
 "nbformat": 4,
 "nbformat_minor": 5
}
