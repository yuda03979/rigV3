{
 "cells": [
  {
   "metadata": {},
   "cell_type": "markdown",
   "source": [
    "# first:\n",
    "- download ollama \n",
    "- run in terminal ollama serve. \n",
    "- if you don't have internet - load the models (README - and the last cell)"
   ],
   "id": "4a2d43f6deccd5b0"
  },
  {
   "metadata": {
    "ExecuteTime": {
     "end_time": "2025-01-07T00:09:53.671259Z",
     "start_time": "2025-01-07T00:09:53.667508Z"
    }
   },
   "cell_type": "code",
   "source": [
    "import nest_asyncio\n",
    "nest_asyncio.apply()"
   ],
   "id": "f58f9f87f61705e4",
   "outputs": [],
   "execution_count": 1
  },
  {
   "cell_type": "code",
   "id": "initial_id",
   "metadata": {
    "collapsed": true,
    "ExecuteTime": {
     "end_time": "2025-01-07T00:09:54.822227Z",
     "start_time": "2025-01-07T00:09:53.879087Z"
    }
   },
   "source": "from src.rig import Rig",
   "outputs": [
    {
     "name": "stdout",
     "output_type": "stream",
     "text": [
      "{'__module__': 'src.globals', 'rule_classifier_agent': 'rule_classifier', 'examples_finder_agent': 'examples_finder', 'rule_instance_generator_agent': 'rule_instance_generator', 'generation_model_name': 'gemma-2-2b-it-Q8_0:rig', 'rag_model_name': 'snowflake-arctic-embed-137m:rig', 'project_dir': '/Users/yuda/PycharmProjects/RigV3/data_dir', 'classification_threshold': 0.005, 'classification_temperature': 0.01, 'examples_rag_threshold': 0.9, 'db_rules_path': '/Users/yuda/PycharmProjects/RigV3/data_dir/db_rules.csv', 'db_examples_path': '/Users/yuda/PycharmProjects/RigV3/data_dir/db_examples.csv', 'rules_folder_path': '/Users/yuda/PycharmProjects/RigV3/data_dir/eval/rule_types', 'evaluation_data_path': '/Users/yuda/PycharmProjects/RigV3/data_dir/eval/evaluation_data.csv', 'evaluation_output_dir': '/Users/yuda/PycharmProjects/RigV3/data_dir/eval/output', '__dict__': <attribute '__dict__' of 'Globals' objects>, '__weakref__': <attribute '__weakref__' of 'Globals' objects>, '__doc__': None}\n"
     ]
    }
   ],
   "execution_count": 2
  },
  {
   "metadata": {
    "ExecuteTime": {
     "end_time": "2025-01-07T00:09:54.918010Z",
     "start_time": "2025-01-07T00:09:54.825114Z"
    }
   },
   "cell_type": "code",
   "source": "rig = Rig()",
   "id": "a8d89b711cd268a1",
   "outputs": [],
   "execution_count": 3
  },
  {
   "metadata": {
    "ExecuteTime": {
     "end_time": "2025-01-06T09:59:03.201963Z",
     "start_time": "2025-01-06T09:59:01.713683Z"
    }
   },
   "cell_type": "code",
   "source": "rig.set_rules()",
   "id": "2b721a2c32794c50",
   "outputs": [
    {
     "data": {
      "text/plain": [
       "True"
      ]
     },
     "execution_count": 3,
     "metadata": {},
     "output_type": "execute_result"
    }
   ],
   "execution_count": 3
  },
  {
   "metadata": {},
   "cell_type": "code",
   "source": "rig.add_rule(\"Actor.json\")",
   "id": "e195c1c5fc8409f",
   "outputs": [],
   "execution_count": null
  },
  {
   "metadata": {
    "ExecuteTime": {
     "end_time": "2025-01-06T18:46:16.937251Z",
     "start_time": "2025-01-06T18:46:16.931513Z"
    }
   },
   "cell_type": "code",
   "source": [
    "# get list of existing rule types:\n",
    "len(rig.get_rules_names())"
   ],
   "id": "40f11096719ee8f8",
   "outputs": [
    {
     "data": {
      "text/plain": [
       "109"
      ]
     },
     "execution_count": 3,
     "metadata": {},
     "output_type": "execute_result"
    }
   ],
   "execution_count": 3
  },
  {
   "metadata": {
    "ExecuteTime": {
     "end_time": "2025-01-06T18:46:19.660781Z",
     "start_time": "2025-01-06T18:46:19.657859Z"
    }
   },
   "cell_type": "code",
   "source": "rig.tweak_parameters(rag_threshold=0.5, examples_rag_threshold=0.95)",
   "id": "de07b79d8614b256",
   "outputs": [
    {
     "data": {
      "text/plain": [
       "True"
      ]
     },
     "execution_count": 4,
     "metadata": {},
     "output_type": "execute_result"
    }
   ],
   "execution_count": 4
  },
  {
   "metadata": {},
   "cell_type": "markdown",
   "source": "## get rule instance from free text",
   "id": "af0758f5e833cca9"
  },
  {
   "metadata": {
    "ExecuteTime": {
     "end_time": "2025-01-06T20:02:47.840557Z",
     "start_time": "2025-01-06T20:02:35.246218Z"
    }
   },
   "cell_type": "code",
   "source": [
    "free_text = \"An instance of ruleInstanceName - mechanic Evaluation needs to be created, dealing with the severity level two. The scavenging efficiency of this falcon is, let's say, 30. However.\" + \", the beak sharpness is much sharper, let's say something like eight. The falcon's vision acuity is good, and the wing span is, um, eighty. The level of thermal riding skill is intermediate. The bone digestion efficiency is much higher, at about eighty-five. And the feather maintenance? That's excellent\"\n",
    "\n",
    "response = rig.get_rule_instance(free_text) # return dictionary\n",
    "response['is_error']"
   ],
   "id": "d41d9ff66ad84cda",
   "outputs": [
    {
     "name": "stdout",
     "output_type": "stream",
     "text": [
      "\n",
      "Timing Information:\n",
      "Model 1 (Sequential): 3.71s\n",
      "Model 2 (Sequential): 4.36s\n",
      "Total Sequential: 8.07s\n",
      "Total Parallel: 4.06s\n",
      "Speedup: 1.99x\n",
      "Total Execution: 12.13s\n"
     ]
    },
    {
     "data": {
      "text/plain": [
       "False"
      ]
     },
     "execution_count": 7,
     "metadata": {},
     "output_type": "execute_result"
    }
   ],
   "execution_count": 7
  },
  {
   "metadata": {
    "ExecuteTime": {
     "end_time": "2025-01-06T20:03:22.280770Z",
     "start_time": "2025-01-06T20:03:22.276413Z"
    }
   },
   "cell_type": "code",
   "source": "response[\"rule_instance\"]",
   "id": "8272c662c671476c",
   "outputs": [
    {
     "data": {
      "text/plain": [
       "{'_id': '00000000-0000-0000-0000-000000000000',\n",
       " 'description': 'string',\n",
       " 'isActive': True,\n",
       " 'lastUpdateTime': '00/00/0000 00:00:00',\n",
       " 'params': {'Scavenging efficiency': 30,\n",
       "  'Flight altitude': None,\n",
       "  'Beak sharpness': 8,\n",
       "  'Vision acuity': 'good',\n",
       "  'Wing span': 80,\n",
       "  'Thermal riding skill': 'intermediate',\n",
       "  'Bone digestion': 85,\n",
       "  'Feather maintenance': 'excellent'},\n",
       " 'ruleInstanceName': 'mechanic Evaluation',\n",
       " 'severity': 2,\n",
       " 'ruleType': 'structured',\n",
       " 'ruleOwner': '',\n",
       " 'ruleTypeId': '1b5db158-d5de-47c6-90f6-25688ffece4b',\n",
       " 'eventDetails': [{'objectName': 'Vulture',\n",
       "   'objectDescription': None,\n",
       "   'timeWindowInMilliseconds': 0,\n",
       "   'useLatest': False}],\n",
       " 'additionalInformation': {},\n",
       " 'presetId': '00000000-0000-0000-0000-000000000000'}"
      ]
     },
     "execution_count": 9,
     "metadata": {},
     "output_type": "execute_result"
    }
   ],
   "execution_count": 9
  },
  {
   "metadata": {
    "ExecuteTime": {
     "end_time": "2025-01-06T20:03:23.543708Z",
     "start_time": "2025-01-06T20:03:23.535355Z"
    }
   },
   "cell_type": "code",
   "source": "response[\"agents_massages\"]",
   "id": "291f52e6d13fea73",
   "outputs": [
    {
     "data": {
      "text/plain": [
       "[{'agent_name': 'rule_classifier',\n",
       "  'agent_description': 'rag implemented for elta, suitable for small - medium size db. ',\n",
       "  'succeed': True,\n",
       "  'agent_input': \"An instance of ruleInstanceName - mechanic Evaluation needs to be created, dealing with the severity level two. The scavenging efficiency of this falcon is, let's say, 30. However., the beak sharpness is much sharper, let's say something like eight. The falcon's vision acuity is good, and the wing span is, um, eighty. The level of thermal riding skill is intermediate. The bone digestion efficiency is much higher, at about eighty-five. And the feather maintenance? That's excellent\",\n",
       "  'agent_message': [('vulture', 0.11404471263161765),\n",
       "   ('kestrel', 0.05341543075667442),\n",
       "   ('swan', 0.021861345703026964),\n",
       "   ('beetle', 0.01954731546220382),\n",
       "   ('rooster', 0.019413949857195193),\n",
       "   ('rapier', 0.018919062018620005),\n",
       "   ('axe', 0.01854752717581687),\n",
       "   ('parrotfish', 0.01854248790379744),\n",
       "   ('shuriken', 0.018002302799404128),\n",
       "   ('puffin', 0.01669839966570087),\n",
       "   ('pangolin', 0.016201717105892733),\n",
       "   ('sabre', 0.015817535733992437),\n",
       "   ('scimitar', 0.014735041279618367),\n",
       "   ('robot', 0.014428167869822747),\n",
       "   ('cannon', 0.014231145490603718),\n",
       "   ('katana', 0.013801823904764315),\n",
       "   ('scythe', 0.013687069159246366),\n",
       "   ('chakram', 0.013160710605670931),\n",
       "   ('trident', 0.012857307337283307),\n",
       "   ('koala', 0.012226023761270143),\n",
       "   ('anglerfish', 0.012152485906942208),\n",
       "   ('fox', 0.012093203530166827),\n",
       "   ('mole', 0.012021492857254618),\n",
       "   ('gauntlet_knife', 0.011585080722413243),\n",
       "   ('halberd', 0.011217217214306456),\n",
       "   ('bull', 0.011118056351261868),\n",
       "   ('phoenix fish', 0.011109652977094391),\n",
       "   ('tarantula', 0.010587766747476074),\n",
       "   ('bow', 0.010546411413900503),\n",
       "   ('rabbit', 0.010052964003465465),\n",
       "   ('platypus', 0.009913113782864984),\n",
       "   ('beaver', 0.009830956058726574),\n",
       "   ('boomerang', 0.009642197804221604),\n",
       "   ('blowgun', 0.009637314704760229),\n",
       "   ('kangaroo', 0.009532459725958339),\n",
       "   ('cow', 0.009258631177291829),\n",
       "   ('bastard_sword', 0.009238625918392541),\n",
       "   ('komodo_dragon', 0.009190935819389257),\n",
       "   ('aerial_dogfight', 0.008798128854485634),\n",
       "   ('software developer', 0.008712418175350638),\n",
       "   ('artillery_strike', 0.008271540788582596),\n",
       "   ('flail', 0.007985733272605586),\n",
       "   ('sniper_attack', 0.007938860938280631),\n",
       "   ('hamster', 0.00765631160571472),\n",
       "   ('guerrilla_skirmish', 0.007639145262562059),\n",
       "   ('canoe', 0.007483083604943783),\n",
       "   ('mechanic', 0.007183630683862529),\n",
       "   ('goliath frog', 0.00717654003429056),\n",
       "   ('dentist', 0.007087858041454879),\n",
       "   ('morning_star', 0.007048182013187396),\n",
       "   ('bridge', 0.0069011592003833345),\n",
       "   ('cavalry_charge', 0.00689500423702219),\n",
       "   ('sea_otter', 0.006848367485881285),\n",
       "   ('graphic_designer', 0.006752077884047008),\n",
       "   ('carpenter', 0.006718395291288843),\n",
       "   ('ballista', 0.006518388991868492),\n",
       "   ('x4x4_off_road_car', 0.0064614441657462555),\n",
       "   ('goldfish', 0.006290454623016856),\n",
       "   ('tank_advance', 0.006260322927402154),\n",
       "   ('wildcat', 0.006246831854403835),\n",
       "   ('pilot', 0.0059560314349715125),\n",
       "   ('atv', 0.005913029722897473),\n",
       "   ('kayak', 0.005528138658862291),\n",
       "   ('paratrooper_drop', 0.005507156654429974),\n",
       "   ('molotov_cocktail', 0.005262514367571155),\n",
       "   ('plumber', 0.005079620569098515),\n",
       "   ('scientist', 0.005062938025870895),\n",
       "   ('net_gun', 0.004960985222767763),\n",
       "   ('flanking_maneuver', 0.004908011625280383),\n",
       "   ('gondola', 0.004781895787309924),\n",
       "   ('cottage', 0.004777039772652046),\n",
       "   ('hospital', 0.004768471359780259),\n",
       "   ('engineer', 0.004765168667126474),\n",
       "   ('barista', 0.004543922288728483),\n",
       "   ('poodle', 0.0044543133086971),\n",
       "   ('airship_vehicle', 0.004448842375305308),\n",
       "   ('actor', 0.0044351190577548785),\n",
       "   ('tentacled_sea_cucumber', 0.004397064709751082),\n",
       "   ('bayonet_charge', 0.004332279668129934),\n",
       "   ('farmer', 0.004281554025852915),\n",
       "   ('church', 0.004260116603103685),\n",
       "   ('trench_assault', 0.004220399963758284),\n",
       "   ('museum', 0.00412165546819753),\n",
       "   ('chef', 0.004105409452319022),\n",
       "   ('architect', 0.003996571460692024),\n",
       "   ('firefighter', 0.003936748633113791),\n",
       "   ('trolley', 0.003867723195151527),\n",
       "   ('data_analyst', 0.0038487737864059146),\n",
       "   ('conveyor', 0.0038444229922068173),\n",
       "   ('naval_bombardment', 0.0037047016391980997),\n",
       "   ('urban_public_transport_system', 0.0036313649747759867),\n",
       "   ('photographer', 0.0034648821263277),\n",
       "   ('nurse', 0.0033997949297367635),\n",
       "   ('factory', 0.0032060158547095063),\n",
       "   ('battlefield_retreat', 0.0031895754742795246),\n",
       "   ('ambulance', 0.0031385653224898645),\n",
       "   ('lawyer', 0.0030148813333061315),\n",
       "   ('psychologist', 0.0030085535182748854),\n",
       "   ('journalist', 0.0030070312405519133),\n",
       "   ('electric_train', 0.0029323289757960023),\n",
       "   ('evacuation_operation', 0.002881208073344762),\n",
       "   ('apartment_building', 0.0027521556615476696),\n",
       "   ('castle', 0.002743674635440415),\n",
       "   ('teacher', 0.002689329070847543),\n",
       "   ('police_officer', 0.0026480864887011477),\n",
       "   ('multi_motor_trampoline', 0.0025032102408437127),\n",
       "   ('siege', 0.002130062031956083),\n",
       "   ('hotel', 0.002055615413673636),\n",
       "   ('event_planner', 0.00179152126192101)],\n",
       "  'message_model': [('vulture', 0.11404471263161765),\n",
       "   ('kestrel', 0.05341543075667442),\n",
       "   ('swan', 0.021861345703026964),\n",
       "   ('beetle', 0.01954731546220382),\n",
       "   ('rooster', 0.019413949857195193),\n",
       "   ('rapier', 0.018919062018620005),\n",
       "   ('axe', 0.01854752717581687),\n",
       "   ('parrotfish', 0.01854248790379744),\n",
       "   ('shuriken', 0.018002302799404128),\n",
       "   ('puffin', 0.01669839966570087),\n",
       "   ('pangolin', 0.016201717105892733),\n",
       "   ('sabre', 0.015817535733992437),\n",
       "   ('scimitar', 0.014735041279618367),\n",
       "   ('robot', 0.014428167869822747),\n",
       "   ('cannon', 0.014231145490603718),\n",
       "   ('katana', 0.013801823904764315),\n",
       "   ('scythe', 0.013687069159246366),\n",
       "   ('chakram', 0.013160710605670931),\n",
       "   ('trident', 0.012857307337283307),\n",
       "   ('koala', 0.012226023761270143),\n",
       "   ('anglerfish', 0.012152485906942208),\n",
       "   ('fox', 0.012093203530166827),\n",
       "   ('mole', 0.012021492857254618),\n",
       "   ('gauntlet_knife', 0.011585080722413243),\n",
       "   ('halberd', 0.011217217214306456),\n",
       "   ('bull', 0.011118056351261868),\n",
       "   ('phoenix fish', 0.011109652977094391),\n",
       "   ('tarantula', 0.010587766747476074),\n",
       "   ('bow', 0.010546411413900503),\n",
       "   ('rabbit', 0.010052964003465465),\n",
       "   ('platypus', 0.009913113782864984),\n",
       "   ('beaver', 0.009830956058726574),\n",
       "   ('boomerang', 0.009642197804221604),\n",
       "   ('blowgun', 0.009637314704760229),\n",
       "   ('kangaroo', 0.009532459725958339),\n",
       "   ('cow', 0.009258631177291829),\n",
       "   ('bastard_sword', 0.009238625918392541),\n",
       "   ('komodo_dragon', 0.009190935819389257),\n",
       "   ('aerial_dogfight', 0.008798128854485634),\n",
       "   ('software developer', 0.008712418175350638),\n",
       "   ('artillery_strike', 0.008271540788582596),\n",
       "   ('flail', 0.007985733272605586),\n",
       "   ('sniper_attack', 0.007938860938280631),\n",
       "   ('hamster', 0.00765631160571472),\n",
       "   ('guerrilla_skirmish', 0.007639145262562059),\n",
       "   ('canoe', 0.007483083604943783),\n",
       "   ('mechanic', 0.007183630683862529),\n",
       "   ('goliath frog', 0.00717654003429056),\n",
       "   ('dentist', 0.007087858041454879),\n",
       "   ('morning_star', 0.007048182013187396),\n",
       "   ('bridge', 0.0069011592003833345),\n",
       "   ('cavalry_charge', 0.00689500423702219),\n",
       "   ('sea_otter', 0.006848367485881285),\n",
       "   ('graphic_designer', 0.006752077884047008),\n",
       "   ('carpenter', 0.006718395291288843),\n",
       "   ('ballista', 0.006518388991868492),\n",
       "   ('x4x4_off_road_car', 0.0064614441657462555),\n",
       "   ('goldfish', 0.006290454623016856),\n",
       "   ('tank_advance', 0.006260322927402154),\n",
       "   ('wildcat', 0.006246831854403835),\n",
       "   ('pilot', 0.0059560314349715125),\n",
       "   ('atv', 0.005913029722897473),\n",
       "   ('kayak', 0.005528138658862291),\n",
       "   ('paratrooper_drop', 0.005507156654429974),\n",
       "   ('molotov_cocktail', 0.005262514367571155),\n",
       "   ('plumber', 0.005079620569098515),\n",
       "   ('scientist', 0.005062938025870895),\n",
       "   ('net_gun', 0.004960985222767763),\n",
       "   ('flanking_maneuver', 0.004908011625280383),\n",
       "   ('gondola', 0.004781895787309924),\n",
       "   ('cottage', 0.004777039772652046),\n",
       "   ('hospital', 0.004768471359780259),\n",
       "   ('engineer', 0.004765168667126474),\n",
       "   ('barista', 0.004543922288728483),\n",
       "   ('poodle', 0.0044543133086971),\n",
       "   ('airship_vehicle', 0.004448842375305308),\n",
       "   ('actor', 0.0044351190577548785),\n",
       "   ('tentacled_sea_cucumber', 0.004397064709751082),\n",
       "   ('bayonet_charge', 0.004332279668129934),\n",
       "   ('farmer', 0.004281554025852915),\n",
       "   ('church', 0.004260116603103685),\n",
       "   ('trench_assault', 0.004220399963758284),\n",
       "   ('museum', 0.00412165546819753),\n",
       "   ('chef', 0.004105409452319022),\n",
       "   ('architect', 0.003996571460692024),\n",
       "   ('firefighter', 0.003936748633113791),\n",
       "   ('trolley', 0.003867723195151527),\n",
       "   ('data_analyst', 0.0038487737864059146),\n",
       "   ('conveyor', 0.0038444229922068173),\n",
       "   ('naval_bombardment', 0.0037047016391980997),\n",
       "   ('urban_public_transport_system', 0.0036313649747759867),\n",
       "   ('photographer', 0.0034648821263277),\n",
       "   ('nurse', 0.0033997949297367635),\n",
       "   ('factory', 0.0032060158547095063),\n",
       "   ('battlefield_retreat', 0.0031895754742795246),\n",
       "   ('ambulance', 0.0031385653224898645),\n",
       "   ('lawyer', 0.0030148813333061315),\n",
       "   ('psychologist', 0.0030085535182748854),\n",
       "   ('journalist', 0.0030070312405519133),\n",
       "   ('electric_train', 0.0029323289757960023),\n",
       "   ('evacuation_operation', 0.002881208073344762),\n",
       "   ('apartment_building', 0.0027521556615476696),\n",
       "   ('castle', 0.002743674635440415),\n",
       "   ('teacher', 0.002689329070847543),\n",
       "   ('police_officer', 0.0026480864887011477),\n",
       "   ('multi_motor_trampoline', 0.0025032102408437127),\n",
       "   ('siege', 0.002130062031956083),\n",
       "   ('hotel', 0.002055615413673636),\n",
       "   ('event_planner', 0.00179152126192101)],\n",
       "  'dateTtime': datetime.datetime(2025, 1, 6, 22, 2, 35, 676771),\n",
       "  'infer_time': 0.4284090995788574},\n",
       " {'agent_name': 'examples_finder',\n",
       "  'agent_description': 'rag implemented for elta, suitable for small - medium size db. ',\n",
       "  'succeed': True,\n",
       "  'agent_input': \"An instance of ruleInstanceName - mechanic Evaluation needs to be created, dealing with the severity level two. The scavenging efficiency of this falcon is, let's say, 30. However., the beak sharpness is much sharper, let's say something like eight. The falcon's vision acuity is good, and the wing span is, um, eighty. The level of thermal riding skill is intermediate. The bone digestion efficiency is much higher, at about eighty-five. And the feather maintenance? That's excellent\",\n",
       "  'agent_message': [\"An instance of ruleInstanceName - Falcon Evaluation needs to be created, dealing with the severity level two. The scavenging efficiency of this falcon is, let's say, 30. However, the beak sharpness is much sharper, let's say something like eight. The falcon's vision acuity is good, and the wing span is, um, eighty. The level of thermal riding skill is intermediate. The bone digestion efficiency is much higher, at about eighty-five. And the feather maintenance? That's excellent.\",\n",
       "   \"An instance of eagle assessment needs to be created, dealing with the type of assessment eagle. The scavenging efficiency of the eagle was around, um, eighty. However, the beak sharpness was much more severe, let's say something like seven. The flight altitude of the eagle is high, and the severity of the event is four. The vision acuity of the eagle is excellent, with a wingspan of about two hundred. The thermal riding skill of the eagle is expert, and the bone digestion is ninety. We don't have information on the feather maintenance.\"],\n",
       "  'message_model': '[(\"An instance of ruleInstanceName - Falcon Evaluation needs to be created, dealing with the severity level two. The scavenging efficiency of this falcon is, let\\'s say, 30. However, the beak sharpness is much sharper, let\\'s say something like eight. The falcon\\'s vision acuity is good, and the wing span is, um, eighty. The level of thermal riding skill is intermediate. The bone digestion efficiency is much higher, at about eighty-five. And the feather maintenance? That\\'s excellent.\", 0.9856687799256028), (\"An instance of eagle assessment needs to be created, dealing with the type of assessment eagle. The scavenging efficiency of the eagle was around, um, eighty. However, the beak sharpness was much more severe, let\\'s say something like seven. The flight altitude of the eagle is high, and the severity of the event is four. The vision acuity of the eagle is excellent, with a wingspan of about two hundred. The thermal riding skill of the eagle is expert, and the bone digestion is ninety. We don\\'t have information on the feather maintenance.\", 0.841193653291761)]',\n",
       "  'dateTtime': datetime.datetime(2025, 1, 6, 22, 2, 35, 705271),\n",
       "  'infer_time': 0.027858972549438477},\n",
       " {'agent_name': 'rule_instance_generator',\n",
       "  'agent_description': 'given schema and free text, the agent job is to return the values from the free text according to the schema',\n",
       "  'succeed': True,\n",
       "  'agent_input': \"An instance of ruleInstanceName - mechanic Evaluation needs to be created, dealing with the severity level two. The scavenging efficiency of this falcon is, let's say, 30. However., the beak sharpness is much sharper, let's say something like eight. The falcon's vision acuity is good, and the wing span is, um, eighty. The level of thermal riding skill is intermediate. The bone digestion efficiency is much higher, at about eighty-five. And the feather maintenance? That's excellent\",\n",
       "  'agent_message': [{'ruleInstanceName': 'mechanic Evaluation',\n",
       "    'severity': 2,\n",
       "    'scavengingEfficiency': 30,\n",
       "    'beakSharpness': 8,\n",
       "    'visionAcuity': 'good',\n",
       "    'wingSpan': 80,\n",
       "    'thermalRidingSkill': 'intermediate',\n",
       "    'boneDigestion': 85,\n",
       "    'featherMaintenance': 'excellent'},\n",
       "   {'ruleInstanceName': 'mechanic Evaluation',\n",
       "    'severity': 2,\n",
       "    'scavengingEfficiency': 30,\n",
       "    'beakSharpness': 8,\n",
       "    'visionAcuity': 'good',\n",
       "    'wingSpan': 80,\n",
       "    'thermalRidingSkill': 'intermediate',\n",
       "    'boneDigestion': 85,\n",
       "    'featherMaintenance': 'excellent'}],\n",
       "  'message_model': \"```json\\n{'ruleInstanceName': 'mechanic Evaluation', 'severity': 2, 'scavengingEfficiency': 30, 'beakSharpness': 8, 'visionAcuity': 'good', 'wingSpan': 80, 'thermalRidingSkill': 'intermediate', 'boneDigestion': 85, 'featherMaintenance': 'excellent'}\",\n",
       "  'dateTtime': datetime.datetime(2025, 1, 6, 22, 2, 47, 836250),\n",
       "  'infer_time': 12.127629041671753}]"
      ]
     },
     "execution_count": 10,
     "metadata": {},
     "output_type": "execute_result"
    }
   ],
   "execution_count": 10
  },
  {
   "metadata": {
    "ExecuteTime": {
     "end_time": "2025-01-06T19:17:39.935221Z",
     "start_time": "2025-01-06T19:17:23.059899Z"
    }
   },
   "cell_type": "code",
   "source": [
    "free_text = \"An instance of Bird Evaluation - Albatross Inspection needs to be set up, dealing with the species Albatross. The feather smoothness of the bird is, um, very rough. However, the wing strength was much more stable, let's say something like twenty. The bird's swimming elegance is low, and the complexity of the mating dance is complex. The nest-building skills of the bird are poor, and the seasonal migration is affirmative. The bird's position in the social hierarchy is lower, and the severity of the inspection is four.\"\n",
    "\n",
    "response = rig.get_rule_instance(free_text) # return dictionary\n"
   ],
   "id": "a0ff1b723ede9989",
   "outputs": [],
   "execution_count": 11
  },
  {
   "metadata": {
    "ExecuteTime": {
     "end_time": "2025-01-06T19:17:42.842939Z",
     "start_time": "2025-01-06T19:17:42.839251Z"
    }
   },
   "cell_type": "code",
   "source": "response[\"rule_instance\"]\n",
   "id": "29a3b3e30f4915aa",
   "outputs": [
    {
     "data": {
      "text/plain": [
       "{'_id': '00000000-0000-0000-0000-000000000000',\n",
       " 'description': 'string',\n",
       " 'isActive': True,\n",
       " 'lastUpdateTime': '00/00/0000 00:00:00',\n",
       " 'params': {'Feather smoothness': 'very rough',\n",
       "  'Neck length': 'null',\n",
       "  'Swimming elegance': 'low',\n",
       "  'Mating dance complexity': 'complex',\n",
       "  'Nest-building skills': 'poor',\n",
       "  'Wing strength': 20,\n",
       "  'Seasonal migration': 'affirmative',\n",
       "  'Social hierarchy': 'lower'},\n",
       " 'ruleInstanceName': 'Albatross Inspection',\n",
       " 'severity': 4,\n",
       " 'ruleType': 'structured',\n",
       " 'ruleOwner': '',\n",
       " 'ruleTypeId': '100044a9-1493-41c0-b9cb-3ad4dd2ff9ee',\n",
       " 'eventDetails': [{'objectName': 'Swan',\n",
       "   'objectDescription': None,\n",
       "   'timeWindowInMilliseconds': 0,\n",
       "   'useLatest': False}],\n",
       " 'additionalInformation': {},\n",
       " 'presetId': '00000000-0000-0000-0000-000000000000'}"
      ]
     },
     "execution_count": 12,
     "metadata": {},
     "output_type": "execute_result"
    }
   ],
   "execution_count": 12
  },
  {
   "metadata": {
    "ExecuteTime": {
     "end_time": "2025-01-06T12:32:11.097531Z",
     "start_time": "2025-01-06T12:32:10.997083Z"
    }
   },
   "cell_type": "code",
   "source": [
    "# giving us feedback on the response. it will help us to improve the project. it stores in .logs file, without internet connection.\n",
    "rig.feedback(rig_response=response, good=True)  # or 0.8, or what ever you can  "
   ],
   "id": "1fd6dbf5fae064c9",
   "outputs": [
    {
     "data": {
      "text/plain": [
       "True"
      ]
     },
     "execution_count": 8,
     "metadata": {},
     "output_type": "execute_result"
    }
   ],
   "execution_count": 8
  },
  {
   "metadata": {},
   "cell_type": "markdown",
   "source": "# now you can run the evaluation:",
   "id": "e347cadf3211cca9"
  },
  {
   "metadata": {
    "ExecuteTime": {
     "end_time": "2025-01-07T00:38:11.471147Z",
     "start_time": "2025-01-07T00:10:00.650860Z"
    }
   },
   "cell_type": "code",
   "source": [
    "rig.evaluate(\n",
    "    start_point=0,\n",
    "    end_point=-1,  #  -1 or None for all the data\n",
    "    jump=5,\n",
    "    sleep_time_each_10_iter=5,\n",
    "    batch_size=1000\n",
    ")"
   ],
   "id": "3a636acd65e09e7b",
   "outputs": [
    {
     "name": "stderr",
     "output_type": "stream",
     "text": [
      " 11%|█         | 57/525 [03:11<24:44,  3.17s/it] "
     ]
    },
    {
     "name": "stdout",
     "output_type": "stream",
     "text": [
      "[('tarantula', 0.27237009568354714), ('komodo_dragon', 0.18050244435029317)]\n"
     ]
    },
    {
     "name": "stderr",
     "output_type": "stream",
     "text": [
      " 11%|█         | 58/525 [03:16<29:27,  3.78s/it]"
     ]
    },
    {
     "name": "stdout",
     "output_type": "stream",
     "text": [
      "solved\n"
     ]
    },
    {
     "name": "stderr",
     "output_type": "stream",
     "text": [
      " 19%|█▊        | 98/525 [05:26<22:36,  3.18s/it]"
     ]
    },
    {
     "name": "stdout",
     "output_type": "stream",
     "text": [
      "[('kangaroo', 0.9790411696189711), ('bull', 0.01994698947823113)]\n"
     ]
    },
    {
     "name": "stderr",
     "output_type": "stream",
     "text": [
      " 19%|█▉        | 99/525 [05:31<26:50,  3.78s/it]"
     ]
    },
    {
     "name": "stdout",
     "output_type": "stream",
     "text": [
      "solved\n"
     ]
    },
    {
     "name": "stderr",
     "output_type": "stream",
     "text": [
      " 23%|██▎       | 123/525 [06:52<23:20,  3.48s/it]"
     ]
    },
    {
     "name": "stdout",
     "output_type": "stream",
     "text": [
      "[('beaver', 0.9908756438432981), ('rabbit', 0.002074629155057957)]\n"
     ]
    },
    {
     "name": "stderr",
     "output_type": "stream",
     "text": [
      " 24%|██▎       | 124/525 [06:57<26:39,  3.99s/it]"
     ]
    },
    {
     "name": "stdout",
     "output_type": "stream",
     "text": [
      "unsolved 2th attempt\n",
      "error:  {'query': \"An instance of Animal Profile - Beaver Profile needs to be created, dealing with the creature type beaver. The venom delivery system is, um, none. However, the fur insulation is much more robust, let's say something like eight. The swimming skill of the creature is good, and the severity of the event is one.\", 'message': {}, 'is_error': True, 'agents_massages': [{'agent_name': 'rule_classifier', 'agent_description': 'rag implemented for elta, suitable for small - medium size db. ', 'succeed': True, 'agent_input': \"An instance of Animal Profile - Beaver Profile needs to be created, dealing with the creature type beaver. The venom delivery system is, um, none. However, the fur insulation is much more robust, let's say something like eight. The swimming skill of the creature is good, and the severity of the event is one.\", 'agent_message': [('beaver', 0.9908756438432981), ('rabbit', 0.002074629155057957), ('sea_otter', 0.0011570615386049664), ('kangaroo', 0.0006900256926226552), ('anglerfish', 0.0006306387771162944), ('bow', 0.000538347034000458), ('fox', 0.00048443618745375064), ('platypus', 0.0004272843310769013), ('phoenix fish', 0.00035856792064390905), ('beetle', 0.0003473107049820422), ('tentacled_sea_cucumber', 0.000298839706049318), ('tarantula', 0.00024064608040954403), ('axe', 0.00020049731909442455), ('trident', 0.00013960670378927294), ('wildcat', 0.00012716829350177224), ('blowgun', 0.00012567610172980413), ('parrotfish', 9.360658895255654e-05), ('halberd', 8.339360824554388e-05), ('komodo_dragon', 8.189957566603678e-05), ('chakram', 7.690467874792796e-05), ('sabre', 7.228234361070442e-05), ('poodle', 7.061258430172289e-05), ('bull', 7.020386223908081e-05), ('puffin', 6.653943040791927e-05), ('koala', 6.211211249390486e-05), ('canoe', 5.9558335102815086e-05), ('swan', 5.263213368079579e-05), ('mole', 4.929725576381298e-05), ('shuriken', 4.071577155976977e-05), ('goldfish', 3.6522248241594734e-05), ('goliath frog', 3.5354214640664204e-05), ('cannon', 3.423468084407796e-05), ('pangolin', 3.1325289690471714e-05), ('hamster', 2.8706429489321372e-05), ('kayak', 2.4121189496174162e-05), ('artillery_strike', 2.1264632560417747e-05), ('robot', 1.9431645734524365e-05), ('scientist', 1.796963235160761e-05), ('kestrel', 1.6986929952671848e-05), ('gauntlet_knife', 1.4575333208472841e-05), ('actor', 1.2984678554174949e-05), ('sniper_attack', 1.2882770166179993e-05), ('vulture', 1.1688626419346e-05), ('flail', 9.620498727844337e-06), ('katana', 7.876675044356514e-06), ('scimitar', 5.814537994670766e-06), ('cow', 5.405695201652574e-06), ('rooster', 4.723699044287713e-06), ('boomerang', 4.61687845422084e-06), ('morning_star', 3.670682622329696e-06), ('battlefield_retreat', 3.517400606412946e-06), ('rapier', 3.055151130705786e-06), ('scythe', 2.9126881661015213e-06), ('net_gun', 2.5048303852315434e-06), ('guerrilla_skirmish', 1.7897277865116951e-06), ('bastard_sword', 1.6754584960954419e-06), ('siege', 1.6262302648671888e-06), ('cavalry_charge', 1.2992746782338805e-06), ('flanking_maneuver', 1.2445601753646824e-06), ('naval_bombardment', 1.1941254954406121e-06), ('castle', 1.1931212964652657e-06), ('dentist', 1.1752169059554311e-06), ('trench_assault', 1.1708887589787595e-06), ('tank_advance', 1.0752985623975532e-06), ('ballista', 1.0400654163644435e-06), ('atv', 9.291728290028993e-07), ('carpenter', 9.133848750218009e-07), ('molotov_cocktail', 9.016405638650017e-07), ('cottage', 7.998049182797484e-07), ('nurse', 7.75169704387175e-07), ('museum', 7.717545340690303e-07), ('lawyer', 7.638714390707564e-07), ('data_analyst', 7.482191533903347e-07), ('plumber', 7.291164246145428e-07), ('airship_vehicle', 6.793268376135586e-07), ('hospital', 6.422276802673736e-07), ('bridge', 6.228253057729325e-07), ('police_officer', 6.177308728127849e-07), ('software developer', 6.020409282217479e-07), ('gondola', 5.896484695796113e-07), ('engineer', 5.394526097977883e-07), ('firefighter', 5.384139887175194e-07), ('photographer', 5.238298407516126e-07), ('bayonet_charge', 4.6818548207181816e-07), ('evacuation_operation', 3.863120454837922e-07), ('journalist', 3.7721403991680524e-07), ('mechanic', 3.4688477364615786e-07), ('chef', 3.2514664795833745e-07), ('ambulance', 2.9590601169830073e-07), ('psychologist', 2.4557904461304346e-07), ('teacher', 2.44291352515149e-07), ('trolley', 2.4075869500432264e-07), ('barista', 1.8868347468878906e-07), ('paratrooper_drop', 1.8439477165855583e-07), ('electric_train', 1.548686468994964e-07), ('multi_motor_trampoline', 1.534615282506675e-07), ('farmer', 1.5158107254398866e-07), ('church', 1.302597195812256e-07), ('x4x4_off_road_car', 1.2680041926370868e-07), ('graphic_designer', 1.1727289859403198e-07), ('architect', 1.1214834471215322e-07), ('urban_public_transport_system', 1.1018366808866398e-07), ('factory', 1.0827421914888034e-07), ('aerial_dogfight', 1.0298462806620042e-07), ('conveyor', 9.848970572501266e-08), ('apartment_building', 7.50073470541024e-08), ('pilot', 6.389139078696887e-08), ('hotel', 5.7917813907979224e-08), ('event_planner', 5.719451512203319e-08)], 'message_model': [('beaver', 0.9908756438432981), ('rabbit', 0.002074629155057957), ('sea_otter', 0.0011570615386049664), ('kangaroo', 0.0006900256926226552), ('anglerfish', 0.0006306387771162944), ('bow', 0.000538347034000458), ('fox', 0.00048443618745375064), ('platypus', 0.0004272843310769013), ('phoenix fish', 0.00035856792064390905), ('beetle', 0.0003473107049820422), ('tentacled_sea_cucumber', 0.000298839706049318), ('tarantula', 0.00024064608040954403), ('axe', 0.00020049731909442455), ('trident', 0.00013960670378927294), ('wildcat', 0.00012716829350177224), ('blowgun', 0.00012567610172980413), ('parrotfish', 9.360658895255654e-05), ('halberd', 8.339360824554388e-05), ('komodo_dragon', 8.189957566603678e-05), ('chakram', 7.690467874792796e-05), ('sabre', 7.228234361070442e-05), ('poodle', 7.061258430172289e-05), ('bull', 7.020386223908081e-05), ('puffin', 6.653943040791927e-05), ('koala', 6.211211249390486e-05), ('canoe', 5.9558335102815086e-05), ('swan', 5.263213368079579e-05), ('mole', 4.929725576381298e-05), ('shuriken', 4.071577155976977e-05), ('goldfish', 3.6522248241594734e-05), ('goliath frog', 3.5354214640664204e-05), ('cannon', 3.423468084407796e-05), ('pangolin', 3.1325289690471714e-05), ('hamster', 2.8706429489321372e-05), ('kayak', 2.4121189496174162e-05), ('artillery_strike', 2.1264632560417747e-05), ('robot', 1.9431645734524365e-05), ('scientist', 1.796963235160761e-05), ('kestrel', 1.6986929952671848e-05), ('gauntlet_knife', 1.4575333208472841e-05), ('actor', 1.2984678554174949e-05), ('sniper_attack', 1.2882770166179993e-05), ('vulture', 1.1688626419346e-05), ('flail', 9.620498727844337e-06), ('katana', 7.876675044356514e-06), ('scimitar', 5.814537994670766e-06), ('cow', 5.405695201652574e-06), ('rooster', 4.723699044287713e-06), ('boomerang', 4.61687845422084e-06), ('morning_star', 3.670682622329696e-06), ('battlefield_retreat', 3.517400606412946e-06), ('rapier', 3.055151130705786e-06), ('scythe', 2.9126881661015213e-06), ('net_gun', 2.5048303852315434e-06), ('guerrilla_skirmish', 1.7897277865116951e-06), ('bastard_sword', 1.6754584960954419e-06), ('siege', 1.6262302648671888e-06), ('cavalry_charge', 1.2992746782338805e-06), ('flanking_maneuver', 1.2445601753646824e-06), ('naval_bombardment', 1.1941254954406121e-06), ('castle', 1.1931212964652657e-06), ('dentist', 1.1752169059554311e-06), ('trench_assault', 1.1708887589787595e-06), ('tank_advance', 1.0752985623975532e-06), ('ballista', 1.0400654163644435e-06), ('atv', 9.291728290028993e-07), ('carpenter', 9.133848750218009e-07), ('molotov_cocktail', 9.016405638650017e-07), ('cottage', 7.998049182797484e-07), ('nurse', 7.75169704387175e-07), ('museum', 7.717545340690303e-07), ('lawyer', 7.638714390707564e-07), ('data_analyst', 7.482191533903347e-07), ('plumber', 7.291164246145428e-07), ('airship_vehicle', 6.793268376135586e-07), ('hospital', 6.422276802673736e-07), ('bridge', 6.228253057729325e-07), ('police_officer', 6.177308728127849e-07), ('software developer', 6.020409282217479e-07), ('gondola', 5.896484695796113e-07), ('engineer', 5.394526097977883e-07), ('firefighter', 5.384139887175194e-07), ('photographer', 5.238298407516126e-07), ('bayonet_charge', 4.6818548207181816e-07), ('evacuation_operation', 3.863120454837922e-07), ('journalist', 3.7721403991680524e-07), ('mechanic', 3.4688477364615786e-07), ('chef', 3.2514664795833745e-07), ('ambulance', 2.9590601169830073e-07), ('psychologist', 2.4557904461304346e-07), ('teacher', 2.44291352515149e-07), ('trolley', 2.4075869500432264e-07), ('barista', 1.8868347468878906e-07), ('paratrooper_drop', 1.8439477165855583e-07), ('electric_train', 1.548686468994964e-07), ('multi_motor_trampoline', 1.534615282506675e-07), ('farmer', 1.5158107254398866e-07), ('church', 1.302597195812256e-07), ('x4x4_off_road_car', 1.2680041926370868e-07), ('graphic_designer', 1.1727289859403198e-07), ('architect', 1.1214834471215322e-07), ('urban_public_transport_system', 1.1018366808866398e-07), ('factory', 1.0827421914888034e-07), ('aerial_dogfight', 1.0298462806620042e-07), ('conveyor', 9.848970572501266e-08), ('apartment_building', 7.50073470541024e-08), ('pilot', 6.389139078696887e-08), ('hotel', 5.7917813907979224e-08), ('event_planner', 5.719451512203319e-08)], 'dateTtime': datetime.datetime(2025, 1, 7, 2, 16, 53, 685415), 'infer_time': 0.03852224349975586, 'additional_data': None}, {'agent_name': 'examples_finder', 'agent_description': 'rag implemented for elta, suitable for small - medium size db. ', 'succeed': True, 'agent_input': \"An instance of Animal Profile - Beaver Profile needs to be created, dealing with the creature type beaver. The venom delivery system is, um, none. However, the fur insulation is much more robust, let's say something like eight. The swimming skill of the creature is good, and the severity of the event is one.\", 'agent_message': [\"An instance of Beaver Colony Census needs to be created, dealing with a colony of beavers possessing novice dam-building skills. The strength of the tails in the colony is, well, four. However, their tree-cutting efficiency is much lower, let's say something like low. The fur of the beavers is water-resistant, and their underwater navigation is poor. The wood storage is as much as fifty. But their flood control is, well, poor. The severity of the situation is two.\", \"We need to create a feature for Cobra Characteristics, dealing with a snake, namely a cobra. The snake's venom delivery is pretty fast and its bill sensitivity is high. The snake's swimming skill is, let's say, fair. It can lay around forty eggs. It lacks fur insulation but it has no electroreception either. The cobra doesn't indulge in riverbed digging, and its heat conservation is two. The severity of the cobra's venom is five.\"], 'message_model': [(\"An instance of Beaver Colony Census needs to be created, dealing with a colony of beavers possessing novice dam-building skills. The strength of the tails in the colony is, well, four. However, their tree-cutting efficiency is much lower, let's say something like low. The fur of the beavers is water-resistant, and their underwater navigation is poor. The wood storage is as much as fifty. But their flood control is, well, poor. The severity of the situation is two.\", 0.7909194842847509), (\"We need to create a feature for Cobra Characteristics, dealing with a snake, namely a cobra. The snake's venom delivery is pretty fast and its bill sensitivity is high. The snake's swimming skill is, let's say, fair. It can lay around forty eggs. It lacks fur insulation but it has no electroreception either. The cobra doesn't indulge in riverbed digging, and its heat conservation is two. The severity of the cobra's venom is five.\", 0.7672539518415448)], 'dateTtime': datetime.datetime(2025, 1, 7, 2, 16, 53, 709791), 'infer_time': 0.023874759674072266, 'additional_data': None}, {'agent_name': 'rule_instance_generator', 'agent_description': 'given schema and free text, the agent job is to return the values from the free text according to the schema', 'succeed': True, 'agent_input': \"An instance of Animal Profile - Beaver Profile needs to be created, dealing with the creature type beaver. The venom delivery system is, um, none. However, the fur insulation is much more robust, let's say something like eight. The swimming skill of the creature is good, and the severity of the event is one.\", 'agent_message': [{'Dam-building skill': 'null', 'Tail strength': 'null', 'Tree-cutting efficiency': 'null', 'Waterproof fur': 'eight', 'Colony size': 'null', 'Underwater navigation': 'good', 'Wood storage': 'null', 'Flood control': 'null', 'ruleInstanceName': 'Animal Profile - Beaver Profile', 'severity': 1}, 0], 'message_model': [\"```json\\n{'Dam-building skill': 'null', 'Tail strength': null, 'Tree-cutting efficiency': 'null', 'Waterproof fur': 'eight', 'Colony size': null, 'Underwater navigation': 'good', 'Wood storage': null, 'Flood control': 'null', 'ruleInstanceName': 'Animal Profile - Beaver Profile', 'severity': 1}\", \"        {'Dam-building skill': 'null', 'Tail strength': null, 'Tree-cutting efficiency': 'null', 'Waterproof fur': 'robust', 'Colony size': null, 'Underwater navigation': null, 'Wood storage': null, 'Flood control': null, 'ruleInstanceName': 'Animal Profile - Beaver Profile', 'severity': 1}\"], 'dateTtime': datetime.datetime(2025, 1, 7, 2, 16, 56, 713329), 'infer_time': 3.0006661415100098, 'additional_data': {'model1': {'dict_response': {'Dam-building skill': 'null', 'Tail strength': 'null', 'Tree-cutting efficiency': 'null', 'Waterproof fur': 'eight', 'Colony size': 'null', 'Underwater navigation': 'good', 'Wood storage': 'null', 'Flood control': 'null', 'ruleInstanceName': 'Animal Profile - Beaver Profile', 'severity': 1}, 'succeed': True, 'str_response': \"```json\\n{'Dam-building skill': 'null', 'Tail strength': null, 'Tree-cutting efficiency': 'null', 'Waterproof fur': 'eight', 'Colony size': null, 'Underwater navigation': 'good', 'Wood storage': null, 'Flood control': 'null', 'ruleInstanceName': 'Animal Profile - Beaver Profile', 'severity': 1}\"}, 'model2': {'dict_response': {'Dam-building skill': 'null', 'Tail strength': 'null', 'Tree-cutting efficiency': 'null', 'Waterproof fur': 'robust', 'Colony size': 'null', 'Underwater navigation': 'null', 'Wood storage': 'null', 'Flood control': 'null', 'ruleInstanceName': 'Animal Profile - Beaver Profile', 'severity': 1}, 'succeed': True, 'str_response': \"        {'Dam-building skill': 'null', 'Tail strength': null, 'Tree-cutting efficiency': 'null', 'Waterproof fur': 'robust', 'Colony size': null, 'Underwater navigation': null, 'Wood storage': null, 'Flood control': null, 'ruleInstanceName': 'Animal Profile - Beaver Profile', 'severity': 1}\"}, 'response': 'model1'}}], 'total_infer_time': 3.066467046737671, 'Uuid': UUID('d70bfceb-1313-4934-b273-bb133c921fb6'), 'dateTtime': datetime.datetime(2025, 1, 7, 2, 16, 53, 646883), 'rule_name': 'beaver', 'rule_instance_params': {'Dam-building skill': 'null', 'Tail strength': 'null', 'Tree-cutting efficiency': 'null', 'Waterproof fur': 'eight', 'Colony size': 'null', 'Underwater navigation': 'good', 'Wood storage': 'null', 'Flood control': 'null', 'ruleInstanceName': 'Animal Profile - Beaver Profile', 'severity': 1}, 'confidence': -1, 'error_message': \"since more then 50% of the fields are None/'null', we assume its classification mismatch, and we can't solve it\", 'rule_instance': {'_id': '00000000-0000-0000-0000-000000000000', 'description': 'string', 'isActive': True, 'lastUpdateTime': '00/00/0000 00:00:00', 'params': {'Dam-building skill': 'null', 'Tail strength': 'null', 'Tree-cutting efficiency': 'null', 'Waterproof fur': 'eight', 'Colony size': 'null', 'Underwater navigation': 'good', 'Wood storage': 'null', 'Flood control': 'null', 'ruleInstanceName': 'Animal Profile - Beaver Profile', 'severity': 1}, 'ruleInstanceName': 'Animal Profile - Beaver Profile', 'severity': 1, 'ruleType': 'structured', 'ruleOwner': '', 'ruleTypeId': 'c5b8d1b2-868b-4ac4-83de-7f028034071e', 'eventDetails': [{'objectName': 'Beaver', 'objectDescription': None, 'timeWindowInMilliseconds': 0, 'useLatest': False}], 'additionalInformation': {}, 'presetId': '00000000-0000-0000-0000-000000000000'}}\n",
      "Error processing row 124, free_text: An instance of Animal Profile - Beaver Profile needs to be created, dealing with the creature type beaver. The venom delivery system is, um, none. However, the fur insulation is much more robust, let's say something like eight. The swimming skill of the creature is good, and the severity of the event is one., Error: No active exception to reraise\n"
     ]
    },
    {
     "name": "stderr",
     "output_type": "stream",
     "text": [
      " 29%|██▉       | 153/525 [08:26<20:09,  3.25s/it]"
     ]
    },
    {
     "name": "stdout",
     "output_type": "stream",
     "text": [
      "[('canoe', 0.2540677550915071), ('multi_motor_trampoline', 0.24323161602124033)]\n"
     ]
    },
    {
     "name": "stderr",
     "output_type": "stream",
     "text": [
      " 29%|██▉       | 154/525 [08:30<20:57,  3.39s/it]"
     ]
    },
    {
     "name": "stdout",
     "output_type": "stream",
     "text": [
      "solved\n"
     ]
    },
    {
     "name": "stderr",
     "output_type": "stream",
     "text": [
      " 40%|████      | 211/525 [11:45<20:54,  3.99s/it]"
     ]
    },
    {
     "name": "stdout",
     "output_type": "stream",
     "text": [
      "[('robot', 0.9821932370315665), ('conveyor', 0.013363232361638002)]\n"
     ]
    },
    {
     "name": "stderr",
     "output_type": "stream",
     "text": [
      " 40%|████      | 212/525 [11:49<21:32,  4.13s/it]"
     ]
    },
    {
     "name": "stdout",
     "output_type": "stream",
     "text": [
      "solved\n"
     ]
    },
    {
     "name": "stderr",
     "output_type": "stream",
     "text": [
      " 47%|████▋     | 247/525 [13:34<14:16,  3.08s/it]"
     ]
    },
    {
     "name": "stdout",
     "output_type": "stream",
     "text": [
      "[('factory', 0.22474838551819967), ('engineer', 0.20321730880142336)]\n"
     ]
    },
    {
     "name": "stderr",
     "output_type": "stream",
     "text": [
      " 47%|████▋     | 248/525 [13:39<16:04,  3.48s/it]"
     ]
    },
    {
     "name": "stdout",
     "output_type": "stream",
     "text": [
      "solved\n"
     ]
    },
    {
     "name": "stderr",
     "output_type": "stream",
     "text": [
      " 56%|█████▌    | 293/525 [15:57<11:46,  3.04s/it]"
     ]
    },
    {
     "name": "stdout",
     "output_type": "stream",
     "text": [
      "[('flanking_maneuver', 0.9425069688653492), ('naval_bombardment', 0.05328434154153606)]\n",
      "solved\n"
     ]
    },
    {
     "name": "stderr",
     "output_type": "stream",
     "text": [
      " 62%|██████▏   | 327/525 [17:39<08:42,  2.64s/it]"
     ]
    },
    {
     "name": "stdout",
     "output_type": "stream",
     "text": [
      "[('robot', 0.1378720700634761), ('beaver', 0.13694279689455224)]\n"
     ]
    },
    {
     "name": "stderr",
     "output_type": "stream",
     "text": [
      " 62%|██████▏   | 328/525 [17:44<10:46,  3.28s/it]"
     ]
    },
    {
     "name": "stdout",
     "output_type": "stream",
     "text": [
      "unsolved 2th attempt\n",
      "error:  {'query': \"A scenario of Cyber Attack needs to be set up, specifically dealing with the kind of attack called qualitative. There's no specific data analysis to be reported, but the technical writing involved is Technical Documentation. The innovation skills required to tackle this situation are high, and the scenario calls for conflict resolution skills in peer collaboration. The critical thinking approach to be used in this situation is decision making. The severity of the event is five.\", 'message': {}, 'is_error': True, 'agents_massages': [{'agent_name': 'rule_classifier', 'agent_description': 'rag implemented for elta, suitable for small - medium size db. ', 'succeed': True, 'agent_input': \"A scenario of Cyber Attack needs to be set up, specifically dealing with the kind of attack called qualitative. There's no specific data analysis to be reported, but the technical writing involved is Technical Documentation. The innovation skills required to tackle this situation are high, and the scenario calls for conflict resolution skills in peer collaboration. The critical thinking approach to be used in this situation is decision making. The severity of the event is five.\", 'agent_message': [('robot', 0.1378720700634761), ('beaver', 0.13694279689455224), ('sniper_attack', 0.08115703651823979), ('nurse', 0.04147158161280875), ('artillery_strike', 0.04125970422312889), ('scientist', 0.04040538276807765), ('siege', 0.03754138759025254), ('software developer', 0.027822548360211256), ('hospital', 0.027304240444647465), ('tarantula', 0.027195644018974893), ('beetle', 0.021976152338188493), ('data_analyst', 0.020979980108617964), ('axe', 0.01842924950154254), ('police_officer', 0.018139123115908595), ('chakram', 0.016439199384193644), ('plumber', 0.01482139262513278), ('sabre', 0.014767923634838972), ('mole', 0.013562041057922643), ('flanking_maneuver', 0.01330613374974014), ('gauntlet_knife', 0.011911355602530496), ('engineer', 0.010032464411807756), ('katana', 0.009267249927609042), ('firefighter', 0.009021499340266914), ('guerrilla_skirmish', 0.008943792856834621), ('swan', 0.008930859351978635), ('trident', 0.00859184453698831), ('journalist', 0.008541712689423888), ('pangolin', 0.008470436312091463), ('platypus', 0.007670579868864336), ('aerial_dogfight', 0.007403735957648841), ('bridge', 0.0071021450286565), ('parrotfish', 0.006741282553686912), ('cannon', 0.005794399990169402), ('teacher', 0.005323913518314187), ('lawyer', 0.004570526155117559), ('trench_assault', 0.004494460677072305), ('halberd', 0.004474513918023651), ('tentacled_sea_cucumber', 0.003926334034865609), ('bull', 0.0038985873663850822), ('kestrel', 0.003631271916213802), ('event_planner', 0.0034894049962443234), ('phoenix fish', 0.0034306399253419976), ('dentist', 0.0032830554337343375), ('net_gun', 0.0032099136505124273), ('wildcat', 0.0031912291062913406), ('cow', 0.003037963865283414), ('sea_otter', 0.0029148488287649137), ('mechanic', 0.0028615183526210985), ('pilot', 0.002806656098937164), ('evacuation_operation', 0.0027971979153229814), ('naval_bombardment', 0.0026607066529716443), ('kangaroo', 0.002643607350910833), ('museum', 0.0026280375310474844), ('farmer', 0.002584266210582324), ('ballista', 0.0025559961182339847), ('fox', 0.002553129734593573), ('tank_advance', 0.0025015366551442413), ('barista', 0.0024661362036806854), ('paratrooper_drop', 0.00246548931460299), ('battlefield_retreat', 0.0022119558340623117), ('komodo_dragon', 0.002168414086727324), ('blowgun', 0.0020885068327355116), ('psychologist', 0.0019814313646042323), ('cavalry_charge', 0.001940954089631177), ('goliath frog', 0.0018621350145380609), ('rooster', 0.0017951641183745221), ('scimitar', 0.001780127134715655), ('urban_public_transport_system', 0.0016977373015617274), ('chef', 0.0016373871988125828), ('hotel', 0.0016170476113464294), ('actor', 0.0015744451353976309), ('shuriken', 0.0015398956019529667), ('vulture', 0.0015379543399077526), ('ambulance', 0.001475391627048816), ('boomerang', 0.001216567214320529), ('bow', 0.0011870448932775966), ('rabbit', 0.0010849604128660897), ('castle', 0.0010033370572844042), ('flail', 0.0009582446500383687), ('electric_train', 0.0009402748507064291), ('factory', 0.0008817200318747279), ('anglerfish', 0.0007999223926155192), ('rapier', 0.0007910537371822999), ('canoe', 0.0007611032642297758), ('gondola', 0.0007139927475952217), ('goldfish', 0.000661804611078287), ('kayak', 0.0006543171073538531), ('molotov_cocktail', 0.0006333803568686254), ('bayonet_charge', 0.0006241661853120238), ('atv', 0.0005935476438211096), ('architect', 0.0005478615534555601), ('photographer', 0.0005070714135044658), ('graphic_designer', 0.0004775532763865233), ('poodle', 0.0004666470847786574), ('church', 0.0004030560164095039), ('conveyor', 0.0003535769188813789), ('scythe', 0.00034822194072358243), ('puffin', 0.00034081961439932175), ('koala', 0.0003304245141758223), ('apartment_building', 0.0002921987503176885), ('carpenter', 0.00026662855021780343), ('morning_star', 0.000239141677342622), ('hamster', 0.00023424896106436502), ('cottage', 0.00020922097139974307), ('x4x4_off_road_car', 0.00016428645659683457), ('trolley', 0.00010225283159171584), ('airship_vehicle', 3.772160129957392e-05), ('bastard_sword', 3.319681192868208e-05), ('multi_motor_trampoline', 1.3998637858210616e-05)], 'message_model': [('robot', 0.1378720700634761), ('beaver', 0.13694279689455224), ('sniper_attack', 0.08115703651823979), ('nurse', 0.04147158161280875), ('artillery_strike', 0.04125970422312889), ('scientist', 0.04040538276807765), ('siege', 0.03754138759025254), ('software developer', 0.027822548360211256), ('hospital', 0.027304240444647465), ('tarantula', 0.027195644018974893), ('beetle', 0.021976152338188493), ('data_analyst', 0.020979980108617964), ('axe', 0.01842924950154254), ('police_officer', 0.018139123115908595), ('chakram', 0.016439199384193644), ('plumber', 0.01482139262513278), ('sabre', 0.014767923634838972), ('mole', 0.013562041057922643), ('flanking_maneuver', 0.01330613374974014), ('gauntlet_knife', 0.011911355602530496), ('engineer', 0.010032464411807756), ('katana', 0.009267249927609042), ('firefighter', 0.009021499340266914), ('guerrilla_skirmish', 0.008943792856834621), ('swan', 0.008930859351978635), ('trident', 0.00859184453698831), ('journalist', 0.008541712689423888), ('pangolin', 0.008470436312091463), ('platypus', 0.007670579868864336), ('aerial_dogfight', 0.007403735957648841), ('bridge', 0.0071021450286565), ('parrotfish', 0.006741282553686912), ('cannon', 0.005794399990169402), ('teacher', 0.005323913518314187), ('lawyer', 0.004570526155117559), ('trench_assault', 0.004494460677072305), ('halberd', 0.004474513918023651), ('tentacled_sea_cucumber', 0.003926334034865609), ('bull', 0.0038985873663850822), ('kestrel', 0.003631271916213802), ('event_planner', 0.0034894049962443234), ('phoenix fish', 0.0034306399253419976), ('dentist', 0.0032830554337343375), ('net_gun', 0.0032099136505124273), ('wildcat', 0.0031912291062913406), ('cow', 0.003037963865283414), ('sea_otter', 0.0029148488287649137), ('mechanic', 0.0028615183526210985), ('pilot', 0.002806656098937164), ('evacuation_operation', 0.0027971979153229814), ('naval_bombardment', 0.0026607066529716443), ('kangaroo', 0.002643607350910833), ('museum', 0.0026280375310474844), ('farmer', 0.002584266210582324), ('ballista', 0.0025559961182339847), ('fox', 0.002553129734593573), ('tank_advance', 0.0025015366551442413), ('barista', 0.0024661362036806854), ('paratrooper_drop', 0.00246548931460299), ('battlefield_retreat', 0.0022119558340623117), ('komodo_dragon', 0.002168414086727324), ('blowgun', 0.0020885068327355116), ('psychologist', 0.0019814313646042323), ('cavalry_charge', 0.001940954089631177), ('goliath frog', 0.0018621350145380609), ('rooster', 0.0017951641183745221), ('scimitar', 0.001780127134715655), ('urban_public_transport_system', 0.0016977373015617274), ('chef', 0.0016373871988125828), ('hotel', 0.0016170476113464294), ('actor', 0.0015744451353976309), ('shuriken', 0.0015398956019529667), ('vulture', 0.0015379543399077526), ('ambulance', 0.001475391627048816), ('boomerang', 0.001216567214320529), ('bow', 0.0011870448932775966), ('rabbit', 0.0010849604128660897), ('castle', 0.0010033370572844042), ('flail', 0.0009582446500383687), ('electric_train', 0.0009402748507064291), ('factory', 0.0008817200318747279), ('anglerfish', 0.0007999223926155192), ('rapier', 0.0007910537371822999), ('canoe', 0.0007611032642297758), ('gondola', 0.0007139927475952217), ('goldfish', 0.000661804611078287), ('kayak', 0.0006543171073538531), ('molotov_cocktail', 0.0006333803568686254), ('bayonet_charge', 0.0006241661853120238), ('atv', 0.0005935476438211096), ('architect', 0.0005478615534555601), ('photographer', 0.0005070714135044658), ('graphic_designer', 0.0004775532763865233), ('poodle', 0.0004666470847786574), ('church', 0.0004030560164095039), ('conveyor', 0.0003535769188813789), ('scythe', 0.00034822194072358243), ('puffin', 0.00034081961439932175), ('koala', 0.0003304245141758223), ('apartment_building', 0.0002921987503176885), ('carpenter', 0.00026662855021780343), ('morning_star', 0.000239141677342622), ('hamster', 0.00023424896106436502), ('cottage', 0.00020922097139974307), ('x4x4_off_road_car', 0.00016428645659683457), ('trolley', 0.00010225283159171584), ('airship_vehicle', 3.772160129957392e-05), ('bastard_sword', 3.319681192868208e-05), ('multi_motor_trampoline', 1.3998637858210616e-05)], 'dateTtime': datetime.datetime(2025, 1, 7, 2, 27, 40, 836433), 'infer_time': 0.04257512092590332, 'additional_data': None}, {'agent_name': 'examples_finder', 'agent_description': 'rag implemented for elta, suitable for small - medium size db. ', 'succeed': True, 'agent_input': \"A scenario of Cyber Attack needs to be set up, specifically dealing with the kind of attack called qualitative. There's no specific data analysis to be reported, but the technical writing involved is Technical Documentation. The innovation skills required to tackle this situation are high, and the scenario calls for conflict resolution skills in peer collaboration. The critical thinking approach to be used in this situation is decision making. The severity of the event is five.\", 'agent_message': ['A situation of data breach needs to be addressed, dealing with the type of issue data breach. The severity of the issue is four. However, the method of experimental design is somewhat mixed methods. The data analysis technique used is data mining. The technical writing skill is null. The level of innovation skills needed is medium. The peer collaboration method used is project management, and the critical thinking skill required is problem solving.', \"An instance of Hazardous Material Incident needs to be created, dealing with the type of experimental design as quantitative. The analysis used in the incident was, well, Statistical Analysis. The writing style used for the report was Report Writing. The level of innovation skills needed for this incident was high, and the level of peer collaboration was Team Coordination. The critical thinking involved in the incident was, let's say, not specified. The severity of the event is five.\"], 'message_model': [('A situation of data breach needs to be addressed, dealing with the type of issue data breach. The severity of the issue is four. However, the method of experimental design is somewhat mixed methods. The data analysis technique used is data mining. The technical writing skill is null. The level of innovation skills needed is medium. The peer collaboration method used is project management, and the critical thinking skill required is problem solving.', 0.8105044425686555), (\"An instance of Hazardous Material Incident needs to be created, dealing with the type of experimental design as quantitative. The analysis used in the incident was, well, Statistical Analysis. The writing style used for the report was Report Writing. The level of innovation skills needed for this incident was high, and the level of peer collaboration was Team Coordination. The critical thinking involved in the incident was, let's say, not specified. The severity of the event is five.\", 0.8084684512137708)], 'dateTtime': datetime.datetime(2025, 1, 7, 2, 27, 40, 881139), 'infer_time': 0.04352521896362305, 'additional_data': None}, {'agent_name': 'rule_instance_generator', 'agent_description': 'given schema and free text, the agent job is to return the values from the free text according to the schema', 'succeed': True, 'agent_input': \"A scenario of Cyber Attack needs to be set up, specifically dealing with the kind of attack called qualitative. There's no specific data analysis to be reported, but the technical writing involved is Technical Documentation. The innovation skills required to tackle this situation are high, and the scenario calls for conflict resolution skills in peer collaboration. The critical thinking approach to be used in this situation is decision making. The severity of the event is five.\", 'agent_message': [{'Processor speed': 'null', 'Battery life': 'null', 'Task adaptability': 'null', 'Sensor precision': 'null', 'Material durability': 'null', 'Mobility': 'null', 'AI learning capability': 'null', 'ruleInstanceName': 'Cyber Attack', 'severity': 5}, 0], 'message_model': [\"```json\\n{'Processor speed': null, 'Battery life': null, 'Task adaptability': 'null', 'Sensor precision': null, 'Material durability': null, 'Mobility': null, 'AI learning capability': 'null', 'ruleInstanceName': 'Cyber Attack', 'severity': 5}\", \"        {'Processor speed': null, 'Battery life': null, 'Task adaptability': 'Medium', 'Sensor precision': null, 'Material durability': null, 'Mobility': null, 'AI learning capability': null, 'ruleInstanceName': 'Cyber Attack', 'severity': 5}\"], 'dateTtime': datetime.datetime(2025, 1, 7, 2, 27, 43, 353326), 'infer_time': 2.4684600830078125, 'additional_data': {'model1': {'dict_response': {'Processor speed': 'null', 'Battery life': 'null', 'Task adaptability': 'null', 'Sensor precision': 'null', 'Material durability': 'null', 'Mobility': 'null', 'AI learning capability': 'null', 'ruleInstanceName': 'Cyber Attack', 'severity': 5}, 'succeed': True, 'str_response': \"```json\\n{'Processor speed': null, 'Battery life': null, 'Task adaptability': 'null', 'Sensor precision': null, 'Material durability': null, 'Mobility': null, 'AI learning capability': 'null', 'ruleInstanceName': 'Cyber Attack', 'severity': 5}\"}, 'model2': {'dict_response': {'Processor speed': 'null', 'Battery life': 'null', 'Task adaptability': 'Medium', 'Sensor precision': 'null', 'Material durability': 'null', 'Mobility': 'null', 'AI learning capability': 'null', 'ruleInstanceName': 'Cyber Attack', 'severity': 5}, 'succeed': True, 'str_response': \"        {'Processor speed': null, 'Battery life': null, 'Task adaptability': 'Medium', 'Sensor precision': null, 'Material durability': null, 'Mobility': null, 'AI learning capability': null, 'ruleInstanceName': 'Cyber Attack', 'severity': 5}\"}, 'response': 'model1'}}], 'total_infer_time': 2.5610790252685547, 'Uuid': UUID('30705f83-3cbf-446b-836d-cdfec9514e45'), 'dateTtime': datetime.datetime(2025, 1, 7, 2, 27, 40, 793817), 'rule_name': 'robot', 'rule_instance_params': {'Processor speed': 'null', 'Battery life': 'null', 'Task adaptability': 'null', 'Sensor precision': 'null', 'Material durability': 'null', 'Mobility': 'null', 'AI learning capability': 'null', 'ruleInstanceName': 'Cyber Attack', 'severity': 5}, 'confidence': -1, 'error_message': \"since more then 50% of the fields are None/'null', we assume its classification mismatch, and we can't solve it\", 'rule_instance': {'_id': '00000000-0000-0000-0000-000000000000', 'description': 'string', 'isActive': True, 'lastUpdateTime': '00/00/0000 00:00:00', 'params': {'Processor speed': 'null', 'Battery life': 'null', 'Task adaptability': 'null', 'Sensor precision': 'null', 'Material durability': 'null', 'Mobility': 'null', 'AI learning capability': 'null', 'ruleInstanceName': 'Cyber Attack', 'severity': 5}, 'ruleInstanceName': 'Cyber Attack', 'severity': 5, 'ruleType': 'structured', 'ruleOwner': '', 'ruleTypeId': 'c3fbb6e9-bbda-4257-b279-bea1771c6a8a', 'eventDetails': [{'objectName': 'Robot', 'objectDescription': None, 'timeWindowInMilliseconds': 0, 'useLatest': False}], 'additionalInformation': {}, 'presetId': '00000000-0000-0000-0000-000000000000'}}\n",
      "Error processing row 328, free_text: A scenario of Cyber Attack needs to be set up, specifically dealing with the kind of attack called qualitative. There's no specific data analysis to be reported, but the technical writing involved is Technical Documentation. The innovation skills required to tackle this situation are high, and the scenario calls for conflict resolution skills in peer collaboration. The critical thinking approach to be used in this situation is decision making. The severity of the event is five., Error: No active exception to reraise\n"
     ]
    },
    {
     "name": "stderr",
     "output_type": "stream",
     "text": [
      " 82%|████████▏ | 428/525 [22:49<03:54,  2.41s/it]"
     ]
    },
    {
     "name": "stdout",
     "output_type": "stream",
     "text": [
      "[('artillery_strike', 0.5005128850955836), ('tank_advance', 0.360810527323016)]\n",
      "solved\n"
     ]
    },
    {
     "name": "stderr",
     "output_type": "stream",
     "text": [
      " 87%|████████▋ | 456/525 [24:20<03:31,  3.06s/it]"
     ]
    },
    {
     "name": "stdout",
     "output_type": "stream",
     "text": [
      "[('hospital', 0.26567997967988555), ('museum', 0.191528556229751)]\n"
     ]
    },
    {
     "name": "stderr",
     "output_type": "stream",
     "text": [
      " 87%|████████▋ | 457/525 [24:24<04:00,  3.54s/it]"
     ]
    },
    {
     "name": "stdout",
     "output_type": "stream",
     "text": [
      "unsolved 2th attempt\n",
      "error:  {'query': \"We need to put together an instance of Construction Site Safety Evaluation, dealing with the safety rules of a construction site. The severity of the safety evaluation is, um, four. The budget allocated for management is a solid fifty thousand. The selected venue for the construction is Building A, although we haven't figured out the vendor coordination yet. The level of creativity required is medium, while time management is considered to be good. And the ability to handle a crisis? That's excellent.\", 'message': {}, 'is_error': True, 'agents_massages': [{'agent_name': 'rule_classifier', 'agent_description': 'rag implemented for elta, suitable for small - medium size db. ', 'succeed': True, 'agent_input': \"We need to put together an instance of Construction Site Safety Evaluation, dealing with the safety rules of a construction site. The severity of the safety evaluation is, um, four. The budget allocated for management is a solid fifty thousand. The selected venue for the construction is Building A, although we haven't figured out the vendor coordination yet. The level of creativity required is medium, while time management is considered to be good. And the ability to handle a crisis? That's excellent.\", 'agent_message': [('hospital', 0.26567997967988555), ('museum', 0.191528556229751), ('bridge', 0.12594185070170127), ('beaver', 0.09346162742371099), ('event_planner', 0.09234827902584673), ('factory', 0.03307019976199063), ('hotel', 0.015539700563331087), ('chakram', 0.014211168549675026), ('cannon', 0.012524752471254813), ('church', 0.012170534118885568), ('engineer', 0.011571531795483096), ('plumber', 0.006993018408773983), ('apartment_building', 0.006587305147213303), ('robot', 0.006305226208179559), ('scientist', 0.006206691460737155), ('software developer', 0.0057499767633155075), ('dentist', 0.004902091765325853), ('trident', 0.004685169777928057), ('axe', 0.004237583158642482), ('katana', 0.004193202940158663), ('flail', 0.003887404428982167), ('firefighter', 0.0036498273252579647), ('castle', 0.0034324932983629936), ('cottage', 0.0033245971607761236), ('architect', 0.0029615528258195908), ('nurse', 0.0029261281539020583), ('bow', 0.0028543507661724396), ('platypus', 0.0027650599097442095), ('evacuation_operation', 0.0025699560609576634), ('swan', 0.0024777627984601115), ('beetle', 0.002394714399829512), ('mechanic', 0.0023803169595451954), ('mole', 0.002295806611155217), ('tarantula', 0.002232032890580141), ('journalist', 0.0021539915279965433), ('gauntlet_knife', 0.002081491879928847), ('gondola', 0.0017633594891572305), ('pilot', 0.0015976244361857303), ('halberd', 0.0015592706893592435), ('cow', 0.0013214990087926726), ('pangolin', 0.0011609796284706693), ('kangaroo', 0.0011318538943615477), ('urban_public_transport_system', 0.0011224524442424882), ('kayak', 0.0010415388393917163), ('farmer', 0.0010207341389752455), ('siege', 0.0009739474126470569), ('fox', 0.0009167253782862107), ('sabre', 0.0008910661446397861), ('actor', 0.0008801207360065625), ('net_gun', 0.0008541922588972083), ('teacher', 0.0008449650144667102), ('ballista', 0.0007971566676932121), ('sea_otter', 0.0007737290488285587), ('ambulance', 0.0007713407970725413), ('parrotfish', 0.0007408821515071485), ('blowgun', 0.0007319305482353012), ('guerrilla_skirmish', 0.0006797477636469407), ('canoe', 0.0006707640827578861), ('police_officer', 0.0006369674867279534), ('artillery_strike', 0.000614252677323799), ('shuriken', 0.0006003188432873606), ('chef', 0.000596822340206512), ('x4x4_off_road_car', 0.0005894148838886458), ('psychologist', 0.0005845835269945543), ('rabbit', 0.0005754053847859336), ('data_analyst', 0.0005639614116440568), ('trolley', 0.0005192595846774294), ('barista', 0.0005015806084455839), ('photographer', 0.000488166668897543), ('wildcat', 0.0004572501652263509), ('atv', 0.0004550728381847658), ('phoenix fish', 0.00045166222175726557), ('sniper_attack', 0.00042449429163699687), ('anglerfish', 0.0004213493288273857), ('tentacled_sea_cucumber', 0.0004095027199646607), ('carpenter', 0.00040198685284674706), ('rooster', 0.00040165284852456236), ('paratrooper_drop', 0.0003926285959817845), ('molotov_cocktail', 0.00038079024742234096), ('lawyer', 0.0003799124698463764), ('battlefield_retreat', 0.0003781663139967656), ('bull', 0.00037612530042536573), ('trench_assault', 0.00027301344426699197), ('boomerang', 0.000262593043236114), ('tank_advance', 0.00026001071842775405), ('goliath frog', 0.00024664600199782253), ('puffin', 0.00023695159985117836), ('naval_bombardment', 0.00023337396807064482), ('conveyor', 0.00022954957913270103), ('morning_star', 0.00022601514086977302), ('scimitar', 0.0001960082138545378), ('flanking_maneuver', 0.00018339410064875143), ('aerial_dogfight', 0.00017121540203850728), ('komodo_dragon', 0.00016666386704196866), ('graphic_designer', 0.00014499814798520715), ('hamster', 0.00013215772013277214), ('goldfish', 0.00012127608917795487), ('scythe', 0.00011819900600662996), ('cavalry_charge', 0.0001062334209317656), ('kestrel', 9.405545346714096e-05), ('vulture', 9.295582193599775e-05), ('rapier', 8.005493741132585e-05), ('koala', 7.685618588321684e-05), ('airship_vehicle', 6.116372216309629e-05), ('poodle', 5.218821868453638e-05), ('electric_train', 4.07828711396653e-05), ('bayonet_charge', 2.4242033303188934e-05), ('multi_motor_trampoline', 1.9721757622087973e-05), ('bastard_sword', 6.538400315229132e-06)], 'message_model': [('hospital', 0.26567997967988555), ('museum', 0.191528556229751), ('bridge', 0.12594185070170127), ('beaver', 0.09346162742371099), ('event_planner', 0.09234827902584673), ('factory', 0.03307019976199063), ('hotel', 0.015539700563331087), ('chakram', 0.014211168549675026), ('cannon', 0.012524752471254813), ('church', 0.012170534118885568), ('engineer', 0.011571531795483096), ('plumber', 0.006993018408773983), ('apartment_building', 0.006587305147213303), ('robot', 0.006305226208179559), ('scientist', 0.006206691460737155), ('software developer', 0.0057499767633155075), ('dentist', 0.004902091765325853), ('trident', 0.004685169777928057), ('axe', 0.004237583158642482), ('katana', 0.004193202940158663), ('flail', 0.003887404428982167), ('firefighter', 0.0036498273252579647), ('castle', 0.0034324932983629936), ('cottage', 0.0033245971607761236), ('architect', 0.0029615528258195908), ('nurse', 0.0029261281539020583), ('bow', 0.0028543507661724396), ('platypus', 0.0027650599097442095), ('evacuation_operation', 0.0025699560609576634), ('swan', 0.0024777627984601115), ('beetle', 0.002394714399829512), ('mechanic', 0.0023803169595451954), ('mole', 0.002295806611155217), ('tarantula', 0.002232032890580141), ('journalist', 0.0021539915279965433), ('gauntlet_knife', 0.002081491879928847), ('gondola', 0.0017633594891572305), ('pilot', 0.0015976244361857303), ('halberd', 0.0015592706893592435), ('cow', 0.0013214990087926726), ('pangolin', 0.0011609796284706693), ('kangaroo', 0.0011318538943615477), ('urban_public_transport_system', 0.0011224524442424882), ('kayak', 0.0010415388393917163), ('farmer', 0.0010207341389752455), ('siege', 0.0009739474126470569), ('fox', 0.0009167253782862107), ('sabre', 0.0008910661446397861), ('actor', 0.0008801207360065625), ('net_gun', 0.0008541922588972083), ('teacher', 0.0008449650144667102), ('ballista', 0.0007971566676932121), ('sea_otter', 0.0007737290488285587), ('ambulance', 0.0007713407970725413), ('parrotfish', 0.0007408821515071485), ('blowgun', 0.0007319305482353012), ('guerrilla_skirmish', 0.0006797477636469407), ('canoe', 0.0006707640827578861), ('police_officer', 0.0006369674867279534), ('artillery_strike', 0.000614252677323799), ('shuriken', 0.0006003188432873606), ('chef', 0.000596822340206512), ('x4x4_off_road_car', 0.0005894148838886458), ('psychologist', 0.0005845835269945543), ('rabbit', 0.0005754053847859336), ('data_analyst', 0.0005639614116440568), ('trolley', 0.0005192595846774294), ('barista', 0.0005015806084455839), ('photographer', 0.000488166668897543), ('wildcat', 0.0004572501652263509), ('atv', 0.0004550728381847658), ('phoenix fish', 0.00045166222175726557), ('sniper_attack', 0.00042449429163699687), ('anglerfish', 0.0004213493288273857), ('tentacled_sea_cucumber', 0.0004095027199646607), ('carpenter', 0.00040198685284674706), ('rooster', 0.00040165284852456236), ('paratrooper_drop', 0.0003926285959817845), ('molotov_cocktail', 0.00038079024742234096), ('lawyer', 0.0003799124698463764), ('battlefield_retreat', 0.0003781663139967656), ('bull', 0.00037612530042536573), ('trench_assault', 0.00027301344426699197), ('boomerang', 0.000262593043236114), ('tank_advance', 0.00026001071842775405), ('goliath frog', 0.00024664600199782253), ('puffin', 0.00023695159985117836), ('naval_bombardment', 0.00023337396807064482), ('conveyor', 0.00022954957913270103), ('morning_star', 0.00022601514086977302), ('scimitar', 0.0001960082138545378), ('flanking_maneuver', 0.00018339410064875143), ('aerial_dogfight', 0.00017121540203850728), ('komodo_dragon', 0.00016666386704196866), ('graphic_designer', 0.00014499814798520715), ('hamster', 0.00013215772013277214), ('goldfish', 0.00012127608917795487), ('scythe', 0.00011819900600662996), ('cavalry_charge', 0.0001062334209317656), ('kestrel', 9.405545346714096e-05), ('vulture', 9.295582193599775e-05), ('rapier', 8.005493741132585e-05), ('koala', 7.685618588321684e-05), ('airship_vehicle', 6.116372216309629e-05), ('poodle', 5.218821868453638e-05), ('electric_train', 4.07828711396653e-05), ('bayonet_charge', 2.4242033303188934e-05), ('multi_motor_trampoline', 1.9721757622087973e-05), ('bastard_sword', 6.538400315229132e-06)], 'dateTtime': datetime.datetime(2025, 1, 7, 2, 34, 21, 204672), 'infer_time': 0.03491616249084473, 'additional_data': None}, {'agent_name': 'examples_finder', 'agent_description': 'rag implemented for elta, suitable for small - medium size db. ', 'succeed': True, 'agent_input': \"We need to put together an instance of Construction Site Safety Evaluation, dealing with the safety rules of a construction site. The severity of the safety evaluation is, um, four. The budget allocated for management is a solid fifty thousand. The selected venue for the construction is Building A, although we haven't figured out the vendor coordination yet. The level of creativity required is medium, while time management is considered to be good. And the ability to handle a crisis? That's excellent.\", 'agent_message': [\"An instance of event planner assessment needs to be created, dealing with the severity of two. The budget for the event is just, um, ten thousand. However, the venue selected is much grander, let's say something like grand hall. The vendor for the event is elite events, and the level of creativity required is high. The time management is efficient. But, um, how good are they at crisis handling? That's null.\", \"An instance of Urban Planning Evaluation needs to be created, focusing on the project named Urban Planning Evaluation. The severity of the evaluation is a mere, um, one. The level of Design Creativity is, for the moment, not defined. However, the Structural Understanding is quite poor, let's say something like poor. The Client Communication is average, and the Project Planning is poor. On the brighter side, the Sustainability Focus is excellent and the Technical Drawing is good.\"], 'message_model': [(\"An instance of event planner assessment needs to be created, dealing with the severity of two. The budget for the event is just, um, ten thousand. However, the venue selected is much grander, let's say something like grand hall. The vendor for the event is elite events, and the level of creativity required is high. The time management is efficient. But, um, how good are they at crisis handling? That's null.\", 0.8117908856345715), (\"An instance of Urban Planning Evaluation needs to be created, focusing on the project named Urban Planning Evaluation. The severity of the evaluation is a mere, um, one. The level of Design Creativity is, for the moment, not defined. However, the Structural Understanding is quite poor, let's say something like poor. The Client Communication is average, and the Project Planning is poor. On the brighter side, the Sustainability Focus is excellent and the Technical Drawing is good.\", 0.7988342977067678)], 'dateTtime': datetime.datetime(2025, 1, 7, 2, 34, 21, 238476), 'infer_time': 0.03329777717590332, 'additional_data': None}, {'agent_name': 'rule_instance_generator', 'agent_description': 'given schema and free text, the agent job is to return the values from the free text according to the schema', 'succeed': True, 'agent_input': \"We need to put together an instance of Construction Site Safety Evaluation, dealing with the safety rules of a construction site. The severity of the safety evaluation is, um, four. The budget allocated for management is a solid fifty thousand. The selected venue for the construction is Building A, although we haven't figured out the vendor coordination yet. The level of creativity required is medium, while time management is considered to be good. And the ability to handle a crisis? That's excellent.\", 'agent_message': [{'Patient capacity': 'null', 'Operating room design': 'null', 'Hygiene standards': 'null', 'Emergency room access': 'null', 'Energy efficiency': 'null', 'Staff facilities': 'null', 'Medical equipment quality': 'null', 'ruleInstanceName': 'Construction Site Safety Evaluation', 'severity': 4}, 1], 'message_model': [\"```json\\n{'Patient capacity': null, 'Operating room design': null, 'Hygiene standards': null, 'Emergency room access': null, 'Energy efficiency': null, 'Staff facilities': null, 'Medical equipment quality': null, 'ruleInstanceName': 'Construction Site Safety Evaluation', 'severity': 4, }\", \"        {'Patient capacity': null, 'Operating room design': null, 'Hygiene standards': null, 'Emergency room access': null, 'Energy efficiency': null, 'Staff facilities': null, 'Medical equipment quality': null, 'ruleInstanceName': 'Construction Site Safety Evaluation', 'severity': 4}\"], 'dateTtime': datetime.datetime(2025, 1, 7, 2, 34, 23, 758310), 'infer_time': 2.5160059928894043, 'additional_data': {'model1': {'dict_response': {'Patient capacity': 'null', 'Operating room design': 'null', 'Hygiene standards': 'null', 'Emergency room access': 'null', 'Energy efficiency': 'null', 'Staff facilities': 'null', 'Medical equipment quality': 'null', 'ruleInstanceName': 'Construction Site Safety Evaluation', 'severity': 4}, 'succeed': True, 'str_response': \"```json\\n{'Patient capacity': null, 'Operating room design': null, 'Hygiene standards': null, 'Emergency room access': null, 'Energy efficiency': null, 'Staff facilities': null, 'Medical equipment quality': null, 'ruleInstanceName': 'Construction Site Safety Evaluation', 'severity': 4, }\"}, 'model2': {'dict_response': {'Patient capacity': 'null', 'Operating room design': 'null', 'Hygiene standards': 'null', 'Emergency room access': 'null', 'Energy efficiency': 'null', 'Staff facilities': 'null', 'Medical equipment quality': 'null', 'ruleInstanceName': 'Construction Site Safety Evaluation', 'severity': 4}, 'succeed': True, 'str_response': \"        {'Patient capacity': null, 'Operating room design': null, 'Hygiene standards': null, 'Emergency room access': null, 'Energy efficiency': null, 'Staff facilities': null, 'Medical equipment quality': null, 'ruleInstanceName': 'Construction Site Safety Evaluation', 'severity': 4}\"}, 'response': 'model1'}}], 'total_infer_time': 2.588616132736206, 'Uuid': UUID('b178af74-eef7-4f42-8539-606e869fcf32'), 'dateTtime': datetime.datetime(2025, 1, 7, 2, 34, 21, 169733), 'rule_name': 'hospital', 'rule_instance_params': {'Patient capacity': 'null', 'Operating room design': 'null', 'Hygiene standards': 'null', 'Emergency room access': 'null', 'Energy efficiency': 'null', 'Staff facilities': 'null', 'Medical equipment quality': 'null', 'ruleInstanceName': 'Construction Site Safety Evaluation', 'severity': 4}, 'confidence': -1, 'error_message': \"since more then 50% of the fields are None/'null', we assume its classification mismatch, and we can't solve it\", 'rule_instance': {'_id': '00000000-0000-0000-0000-000000000000', 'description': 'string', 'isActive': True, 'lastUpdateTime': '00/00/0000 00:00:00', 'params': {'Patient capacity': 'null', 'Operating room design': 'null', 'Hygiene standards': 'null', 'Emergency room access': 'null', 'Energy efficiency': 'null', 'Staff facilities': 'null', 'Medical equipment quality': 'null', 'ruleInstanceName': 'Construction Site Safety Evaluation', 'severity': 4}, 'ruleInstanceName': 'Construction Site Safety Evaluation', 'severity': 4, 'ruleType': 'structured', 'ruleOwner': '', 'ruleTypeId': '45f2ac81-7138-4c67-b829-fc7516c189b9', 'eventDetails': [{'objectName': 'Hospital', 'objectDescription': None, 'timeWindowInMilliseconds': 0, 'useLatest': False}], 'additionalInformation': {}, 'presetId': '00000000-0000-0000-0000-000000000000'}}\n",
      "Error processing row 457, free_text: We need to put together an instance of Construction Site Safety Evaluation, dealing with the safety rules of a construction site. The severity of the safety evaluation is, um, four. The budget allocated for management is a solid fifty thousand. The selected venue for the construction is Building A, although we haven't figured out the vendor coordination yet. The level of creativity required is medium, while time management is considered to be good. And the ability to handle a crisis? That's excellent., Error: No active exception to reraise\n"
     ]
    },
    {
     "name": "stderr",
     "output_type": "stream",
     "text": [
      " 87%|████████▋ | 459/525 [24:30<03:19,  3.02s/it]"
     ]
    },
    {
     "name": "stdout",
     "output_type": "stream",
     "text": [
      "[('software developer', 0.7764054025309343), ('event_planner', 0.05103143878515804)]\n",
      "solved\n"
     ]
    },
    {
     "name": "stderr",
     "output_type": "stream",
     "text": [
      "100%|██████████| 525/525 [28:10<00:00,  3.22s/it]\n"
     ]
    },
    {
     "name": "stdout",
     "output_type": "stream",
     "text": [
      "\n",
      "Average Accuracy Metrics:\n",
      "binary_score: 91.15%\n",
      "binary_score_no_instance_name: 92.50%\n",
      "param_numerical_binary_score: 99.42%\n",
      "param_numerical_avg_score: 99.87%\n",
      "param_verbal_binary_score: 93.08%\n",
      "param_verbal_avg_score: 98.31%\n",
      "score_rule_instance_name: 98.27%\n",
      "classification score: 100.00%\n",
      "\n",
      "Average Accuracy Metrics:\n",
      "binary_score: 90.29%\n",
      "binary_score_no_instance_name: 91.62%\n",
      "param_numerical_binary_score: 98.67%\n",
      "param_numerical_avg_score: 99.21%\n",
      "param_verbal_binary_score: 92.19%\n",
      "param_verbal_avg_score: 97.45%\n",
      "score_rule_instance_name: 97.71%\n",
      "classification score: 99.05%\n"
     ]
    },
    {
     "data": {
      "text/plain": [
       "{'binary_score': '90.29%',\n",
       " 'binary_score_no_instance_name': '91.62%',\n",
       " 'param_numerical_binary_score': '98.67%',\n",
       " 'param_numerical_avg_score': '99.21%',\n",
       " 'param_verbal_binary_score': '92.19%',\n",
       " 'param_verbal_avg_score': '97.45%',\n",
       " 'score_rule_instance_name': '97.71%',\n",
       " 'classification score': '99.05%'}"
      ]
     },
     "execution_count": 4,
     "metadata": {},
     "output_type": "execute_result"
    }
   ],
   "execution_count": 4
  },
  {
   "metadata": {},
   "cell_type": "code",
   "source": "",
   "id": "1bc030c413df1aec",
   "outputs": [],
   "execution_count": null
  }
 ],
 "metadata": {
  "kernelspec": {
   "display_name": "Python 3",
   "language": "python",
   "name": "python3"
  },
  "language_info": {
   "codemirror_mode": {
    "name": "ipython",
    "version": 2
   },
   "file_extension": ".py",
   "mimetype": "text/x-python",
   "name": "python",
   "nbconvert_exporter": "python",
   "pygments_lexer": "ipython2",
   "version": "2.7.6"
  }
 },
 "nbformat": 4,
 "nbformat_minor": 5
}
