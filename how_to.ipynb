{
 "cells": [
  {
   "metadata": {},
   "cell_type": "markdown",
   "source": [
    "# first:\n",
    "- download ollama \n",
    "- run in terminal ollama serve. \n",
    "- if you don't have internet - load the models (README - and the last cell)"
   ],
   "id": "4a2d43f6deccd5b0"
  },
  {
   "cell_type": "code",
   "id": "initial_id",
   "metadata": {
    "collapsed": true,
    "ExecuteTime": {
     "end_time": "2025-01-05T01:39:44.552826Z",
     "start_time": "2025-01-05T01:39:43.572229Z"
    }
   },
   "source": "from src.rule_instance_generator import Rig",
   "outputs": [],
   "execution_count": 1
  },
  {
   "metadata": {
    "ExecuteTime": {
     "end_time": "2025-01-05T01:39:45.371971Z",
     "start_time": "2025-01-05T01:39:45.313373Z"
    }
   },
   "cell_type": "code",
   "source": "rig = Rig()",
   "id": "a8d89b711cd268a1",
   "outputs": [],
   "execution_count": 2
  },
  {
   "metadata": {
    "ExecuteTime": {
     "end_time": "2025-01-05T01:39:47.829022Z",
     "start_time": "2025-01-05T01:39:46.049645Z"
    }
   },
   "cell_type": "code",
   "source": "rig.set_rule_types()",
   "id": "2b721a2c32794c50",
   "outputs": [],
   "execution_count": 3
  },
  {
   "metadata": {
    "ExecuteTime": {
     "end_time": "2025-01-05T01:39:48.417815Z",
     "start_time": "2025-01-05T01:39:48.412772Z"
    }
   },
   "cell_type": "code",
   "source": [
    "# get list of existing rule types:\n",
    "len(rig.get_rule_types_names())"
   ],
   "id": "40f11096719ee8f8",
   "outputs": [
    {
     "data": {
      "text/plain": [
       "109"
      ]
     },
     "execution_count": 4,
     "metadata": {},
     "output_type": "execute_result"
    }
   ],
   "execution_count": 4
  },
  {
   "metadata": {
    "ExecuteTime": {
     "end_time": "2025-01-05T01:40:03.367722Z",
     "start_time": "2025-01-05T01:40:03.365505Z"
    }
   },
   "cell_type": "code",
   "source": "rig.tweak_parameters(rag_threshold=0.5)",
   "id": "de07b79d8614b256",
   "outputs": [],
   "execution_count": 7
  },
  {
   "metadata": {},
   "cell_type": "markdown",
   "source": "## get rule instance from free text",
   "id": "af0758f5e833cca9"
  },
  {
   "metadata": {
    "ExecuteTime": {
     "end_time": "2025-01-05T01:40:08.495426Z",
     "start_time": "2025-01-05T01:40:05.418216Z"
    }
   },
   "cell_type": "code",
   "source": [
    "free_text = \"An instance of ruleInstanceName - Falcon Evaluation needs to be created, dealing with the severity level two. The scavenging efficiency of this falcon is, let's say, 30. However, the beak sharpness is much sharper, let's say something like eight. The falcon's vision acuity is good, and the wing span is, um, eighty. The level of thermal riding skill is intermediate. The bone digestion efficiency is much higher, at about eighty-five. And the feather maintenance? That's excellent.\"\n",
    "\n",
    "response = rig.get_rule_instance(free_text) # return dictionary"
   ],
   "id": "d41d9ff66ad84cda",
   "outputs": [
    {
     "name": "stdout",
     "output_type": "stream",
     "text": [
      "there's no rules!\n"
     ]
    }
   ],
   "execution_count": 8
  },
  {
   "metadata": {
    "ExecuteTime": {
     "end_time": "2025-01-05T01:40:41.052430Z",
     "start_time": "2025-01-05T01:40:41.048055Z"
    }
   },
   "cell_type": "code",
   "source": "response[\"rule_instance\"]",
   "id": "8272c662c671476c",
   "outputs": [
    {
     "data": {
      "text/plain": [
       "{'Scavenging efficiency': 30,\n",
       " 'Flight altitude': 'null',\n",
       " 'Beak sharpness': 8,\n",
       " 'Vision acuity': 'good',\n",
       " 'Wing span': 80,\n",
       " 'Thermal riding skill': 'intermediate',\n",
       " 'Bone digestion': 85,\n",
       " 'Feather maintenance': 'excellent',\n",
       " 'ruleInstanceName': 'Falcon Evaluation',\n",
       " 'severity': 2}"
      ]
     },
     "execution_count": 9,
     "metadata": {},
     "output_type": "execute_result"
    }
   ],
   "execution_count": 9
  },
  {
   "metadata": {
    "ExecuteTime": {
     "end_time": "2025-01-05T01:40:42.293397Z",
     "start_time": "2025-01-05T01:40:42.289590Z"
    }
   },
   "cell_type": "code",
   "source": "response.keys()",
   "id": "291f52e6d13fea73",
   "outputs": [
    {
     "data": {
      "text/plain": [
       "dict_keys(['query', 'message', 'is_error', 'agents_massages', 'total_infer_time', 'Uuid', 'dateTtime', 'rule_name', 'rule_instance'])"
      ]
     },
     "execution_count": 10,
     "metadata": {},
     "output_type": "execute_result"
    }
   ],
   "execution_count": 10
  },
  {
   "metadata": {
    "ExecuteTime": {
     "end_time": "2025-01-05T01:40:51.512522Z",
     "start_time": "2025-01-05T01:40:51.448351Z"
    }
   },
   "cell_type": "code",
   "source": [
    "# giving us feedback on the response. it will help us to improve the project. it stores in .logs file, without internet connection.\n",
    "rig.feedback(rig_response=response, good=True)  # or 0.8, or what ever you can  "
   ],
   "id": "1fd6dbf5fae064c9",
   "outputs": [
    {
     "name": "stdout",
     "output_type": "stream",
     "text": [
      "there's no rules!\n"
     ]
    }
   ],
   "execution_count": 11
  },
  {
   "metadata": {},
   "cell_type": "markdown",
   "source": "# now you can run the evaluation:",
   "id": "e347cadf3211cca9"
  },
  {
   "metadata": {
    "ExecuteTime": {
     "end_time": "2024-12-31T21:03:14.158303Z",
     "start_time": "2024-12-31T21:03:02.741651Z"
    }
   },
   "cell_type": "code",
   "source": [
    "rig.evaluate(\n",
    "    start_point=100,\n",
    "    end_point=110,  #  -1 or None for all the data\n",
    "    sleep_time_each_10_iter=2,\n",
    "    batch_size=500\n",
    ")"
   ],
   "id": "3a636acd65e09e7b",
   "outputs": [
    {
     "name": "stderr",
     "output_type": "stream",
     "text": [
      "  0%|          | 0/10 [00:00<?, ?it/s]"
     ]
    },
    {
     "name": "stdout",
     "output_type": "stream",
     "text": [
      "\n",
      "    \n",
      "    step 1: \n",
      "    ### Rules:\n",
      "1. Only use fields explicitly listed in the schema below.\n",
      "2. Do not add or infer fields. Fields missing in the schema or text should be set to \"null\".\n",
      "3. Carefully map field names from the schema to the text, even if the phrasing differs.\n",
      "4. Treat words like \"without\", \"unknown\" as \"null\", while \"standard\" \"low\" etc. will return the value.\n",
      "5. Output must match the schema exactly.\n",
      "\n",
      "        ***Be sure to follow these rules***\n",
      "\n",
      "    ### Schema:\n",
      "    {'Conveyor belt': 'String', 'Conveyor wheels': 'String', 'Electrical connections': 'string', 'Speed adjustment': 'Int', 'Sensors': 'string', 'ruleInstanceName': 'string', 'severity': 'int'}\n",
      "\n",
      "    ### Examples:\n",
      "    \n",
      "\n",
      "### Example 1 :\n",
      "Free text:\n",
      "\"Add a report for 'Shell Delay'. Equipment Malfunction case. Type: shell. Site is not important. Malfunction at level five, urgency four. Desc: Detonation delayed in poland Severity i think 3.\"\n",
      "Schema:\n",
      "{\n",
      "    \"type\": \"string\",\n",
      "    \"site\": \"string\",\n",
      "    \"malfunctionLevel\": \"int\",\n",
      "    \"urgency\": \"int\",\n",
      "    \"description\": \" string\",\n",
      "    \"ruleInstanceName\": \"string\",\n",
      "    \"severity\": \"int\"\n",
      "}\n",
      "Output:\n",
      "{\n",
      "    \"type\": \"shell\",\n",
      "    \"site\": \"empty\",\n",
      "    \"malfunctionLevel\": 5,\n",
      "    \"urgency\": 4,\n",
      "    \"description\": \"Detonation delayed in poland\",\n",
      "    \"ruleInstanceName\": \"Equipment Malfunction - Shell Delay\",\n",
      "    \"severity\": 3\n",
      "}\n",
      "\n",
      "\n",
      "### Example 3 (Example for handling empty values):\n",
      "Free text:\n",
      "\"Please generate a Weather Alert - other for area code 2001. Alert type is Thunderstorm. Intensity: severe. Urgency: high. Ignore the forecast source for now. The duration of this case, I'd say, is around two. severity is empty or unclear\"\n",
      "Schema:\n",
      "{\n",
      "    \"alertType\": \"string\",\n",
      "    \"areaCode\": \"int\",\n",
      "    \"intensity\": \"string\",\n",
      "    \"urgency\": \"string\",\n",
      "    \"forecastSource\": \"string\",\n",
      "    \"duration\": \"int\",\n",
      "    \"ruleInstanceName\": \"string\",\n",
      "    \"severity\": \"int\"\n",
      "}\n",
      "Output:\n",
      "{\n",
      "    \"alertType\": \"Thunderstorm\",\n",
      "    \"areaCode\": 2001,\n",
      "    \"intensity\": \"severe\",\n",
      "    \"urgency\": \"high\",\n",
      "    \"forecastSource\": \"null\",\n",
      "    \"duration\": 2,\n",
      "    \"ruleInstanceName\": \"Weather Alert - other\",\n",
      "    \"severity\": \"null\"\n",
      "}\n",
      "\n",
      "        \n",
      "    ---\n",
      "\n",
      "    ### Context (do not use for filling fields, only as reference for the schema):\n",
      "    {'Conveyor belt_description': '', 'Conveyor wheels_description': '', 'Electrical connections_description': \"Allowed answers: 'connected', 'disconnected', 'partially connected'\", 'Speed adjustment_description': '', 'Sensors_description': \"Allowed answers: 'active', 'inactive', 'malfunctioning'\", 'ruleInstanceName_description': 'About what the message is and to what it relates in the DB.', 'severity_description': 'Level of importance, criticality, or risk.', 'global description': '', 'object name': 'Conveyor'}\n",
      "\n",
      "    ---\n",
      "    ### Task:\n",
      "    - Free text: A system overhaul is needed to examine the machinery, dealing with the severity level four. The state of the conveyor belt is functional and the conveyor wheels are working properly. However, there is no data on the electrical connections. The speed adjustment is set to a seven and the sensors are actively working.\n",
      "    - Output:\n",
      "     ```json\n",
      "{'ruleInstanceName': 'system overhaul', 'severity': '4', 'Conveyor belt': 'functional', 'Conveyor wheels': 'working properly', 'Electrical connections': 'null', 'Speed adjustment': '7', 'Sensors': 'active'}.\n",
      "    ------ FINISH!!! ------\n",
      "\n",
      "    step 2: \n",
      "    Task: explain why you generate this schema and if its good.  \n",
      "\n",
      "    **Evaluation Criteria:**  \n",
      "    - Do the fields in the schema not correspond to topics in the free text?  \n",
      "    - Are the values (not null) from the schema not present in the free text? \n",
      "\n",
      "    Example:\n",
      "    Free Text:\n",
      "    An instance of eagle assessment needs to be created, dealing with the type of assessment eagle. The scavenging efficiency of the eagle was around, um, eighty. However, the beak sharpness was much more severe, let's say something like seven. The flight altitude of the eagle is very high, and the severity of the event is four. The vision acuity of the eagle is excellent, with a wingspan of about two hundred. The thermal riding skill of the eagle is expert, and the bone digestion is ninety. We don't have information on the feather maintenance.\n",
      "\n",
      "    output:\n",
      "    {\n",
      "        \"ruleInstanceName\": \"eagle assessment\",\n",
      "        \"severity\": \"4\",\n",
      "        \"Scavenging efficiency\": \"80\",\n",
      "        \"Flight altitude\": \"high\",\n",
      "        \"Beak sharpness\": \"7\",\n",
      "        \"Vision acuity\": \"excellent\",\n",
      "        \"Wing span\": \"200\",\n",
      "        \"Thermal riding skill\": \"expert\",\n",
      "        \"Bone digestion\": \"90\",\n",
      "        \"Feather maintenance\": \"null\"\n",
      "    }\n",
      "\n",
      "    explanation: flight altitude should be \"very high\". so i did it wrong. all the other fields are good!\n",
      "\n",
      "    free text: A system overhaul is needed to examine the machinery, dealing with the severity level four. The state of the conveyor belt is functional and the conveyor wheels are working properly. However, there is no data on the electrical connections. The speed adjustment is set to a seven and the sensors are actively working.\n",
      "\n",
      "    output: ```json\n",
      "{'ruleInstanceName': 'system overhaul', 'severity': '4', 'Conveyor belt': 'functional', 'Conveyor wheels': 'working properly', 'Electrical connections': 'null', 'Speed adjustment': '7', 'Sensors': 'active'}\n",
      "    short explanation: The schema provided is designed to extract and map the relevant information from a free text description into structured data fields that correspond directly with predefined categories. Each field in the schema represents an aspect of the conveyor system or related processes, as described by the rules for handling missing values (treating words like \"without\" as null).\n",
      "\n",
      "The output correctly maps each piece of information from the free text to its corresponding field:\n",
      "- 'ruleInstanceName' is set to 'system overha\n",
      "    now generate again according the schema:\n",
      "    Output:\n",
      "    \n"
     ]
    },
    {
     "name": "stderr",
     "output_type": "stream",
     "text": [
      "  0%|          | 0/10 [00:11<?, ?it/s]\n",
      "\n",
      "KeyboardInterrupt\n",
      "\n"
     ]
    }
   ],
   "execution_count": 2
  },
  {
   "metadata": {
    "ExecuteTime": {
     "end_time": "2024-12-30T14:47:37.353776Z",
     "start_time": "2024-12-30T14:47:37.352318Z"
    }
   },
   "cell_type": "code",
   "source": "",
   "id": "5882112bdfd4dc0f",
   "outputs": [],
   "execution_count": 9
  }
 ],
 "metadata": {
  "kernelspec": {
   "display_name": "Python 3",
   "language": "python",
   "name": "python3"
  },
  "language_info": {
   "codemirror_mode": {
    "name": "ipython",
    "version": 2
   },
   "file_extension": ".py",
   "mimetype": "text/x-python",
   "name": "python",
   "nbconvert_exporter": "python",
   "pygments_lexer": "ipython2",
   "version": "2.7.6"
  }
 },
 "nbformat": 4,
 "nbformat_minor": 5
}
