{
 "cells": [
  {
   "metadata": {},
   "cell_type": "markdown",
   "source": [
    "# first:\n",
    "- download ollama \n",
    "- run in terminal ollama serve. \n",
    "- if you don't have internet - load the models (README - and the last cell)"
   ],
   "id": "4a2d43f6deccd5b0"
  },
  {
   "cell_type": "code",
   "id": "initial_id",
   "metadata": {
    "collapsed": true,
    "ExecuteTime": {
     "end_time": "2025-01-06T14:25:31.775165Z",
     "start_time": "2025-01-06T14:25:30.761131Z"
    }
   },
   "source": "from src.rig import Rig",
   "outputs": [
    {
     "name": "stdout",
     "output_type": "stream",
     "text": [
      "{'__module__': 'src.globals', 'rule_classifier_agent': 'rule_classifier', 'examples_finder_agent': 'examples_finder', 'rule_instance_generator_agent': 'rule_instance_generator', 'generation_model_name': 'gemma-2-2b-it-Q8_0:rig', 'rag_model_name': 'snowflake-arctic-embed-137m:rig', 'project_dir': '/Users/yuda/PycharmProjects/RigV3/data_dir', 'classification_threshold': 0.005, 'classification_temperature': 0.05, 'examples_rag_threshold': 0.9, 'db_rules_path': '/Users/yuda/PycharmProjects/RigV3/data_dir/db_rules.csv', 'db_examples_path': '/Users/yuda/PycharmProjects/RigV3/data_dir/db_examples.csv', 'rules_folder_path': '/Users/yuda/PycharmProjects/RigV3/data_dir/eval/rule_types', 'evaluation_data_path': '/Users/yuda/PycharmProjects/RigV3/data_dir/eval/evaluation_data.csv', 'evaluation_output_dir': '/Users/yuda/PycharmProjects/RigV3/data_dir/eval/output', '__dict__': <attribute '__dict__' of 'Globals' objects>, '__weakref__': <attribute '__weakref__' of 'Globals' objects>, '__doc__': None}\n"
     ]
    }
   ],
   "execution_count": 1
  },
  {
   "metadata": {
    "ExecuteTime": {
     "end_time": "2025-01-06T14:22:06.427403Z",
     "start_time": "2025-01-06T14:22:06.353424Z"
    }
   },
   "cell_type": "code",
   "source": "rig = Rig()",
   "id": "a8d89b711cd268a1",
   "outputs": [],
   "execution_count": 2
  },
  {
   "metadata": {
    "ExecuteTime": {
     "end_time": "2025-01-06T14:22:39.777223Z",
     "start_time": "2025-01-06T14:22:39.771808Z"
    }
   },
   "cell_type": "code",
   "source": "from src.globals import GLOBALS",
   "id": "e7e2b8daddcf2a94",
   "outputs": [
    {
     "data": {
      "text/plain": [
       "{}"
      ]
     },
     "execution_count": 4,
     "metadata": {},
     "output_type": "execute_result"
    }
   ],
   "execution_count": 4
  },
  {
   "metadata": {
    "ExecuteTime": {
     "end_time": "2025-01-06T09:59:03.201963Z",
     "start_time": "2025-01-06T09:59:01.713683Z"
    }
   },
   "cell_type": "code",
   "source": "rig.set_rules()",
   "id": "2b721a2c32794c50",
   "outputs": [
    {
     "data": {
      "text/plain": [
       "True"
      ]
     },
     "execution_count": 3,
     "metadata": {},
     "output_type": "execute_result"
    }
   ],
   "execution_count": 3
  },
  {
   "metadata": {},
   "cell_type": "code",
   "source": "rig.add_rule(\"Actor.json\")",
   "id": "e195c1c5fc8409f",
   "outputs": [],
   "execution_count": null
  },
  {
   "metadata": {
    "ExecuteTime": {
     "end_time": "2025-01-06T13:38:56.049802Z",
     "start_time": "2025-01-06T13:38:56.044922Z"
    }
   },
   "cell_type": "code",
   "source": [
    "# get list of existing rule types:\n",
    "len(rig.get_rules_names())"
   ],
   "id": "40f11096719ee8f8",
   "outputs": [
    {
     "data": {
      "text/plain": [
       "109"
      ]
     },
     "execution_count": 4,
     "metadata": {},
     "output_type": "execute_result"
    }
   ],
   "execution_count": 4
  },
  {
   "metadata": {
    "ExecuteTime": {
     "end_time": "2025-01-06T12:31:50.256971Z",
     "start_time": "2025-01-06T12:31:50.253995Z"
    }
   },
   "cell_type": "code",
   "source": "rig.tweak_parameters(rag_threshold=0.5, examples_rag_threshold=0.95)",
   "id": "de07b79d8614b256",
   "outputs": [
    {
     "data": {
      "text/plain": [
       "True"
      ]
     },
     "execution_count": 5,
     "metadata": {},
     "output_type": "execute_result"
    }
   ],
   "execution_count": 5
  },
  {
   "metadata": {},
   "cell_type": "markdown",
   "source": "## get rule instance from free text",
   "id": "af0758f5e833cca9"
  },
  {
   "metadata": {
    "ExecuteTime": {
     "end_time": "2025-01-06T14:13:22.474798Z",
     "start_time": "2025-01-06T14:13:20.897820Z"
    }
   },
   "cell_type": "code",
   "source": [
    "free_text = \"An instance of ruleInstanceName - mechanic Evaluation needs to be created, dealing with the severity level two. The scavenging efficiency of this falcon is, let's say, 30. However.\" + \", the beak sharpness is much sharper, let's say something like eight. The falcon's vision acuity is good, and the wing span is, um, eighty. The level of thermal riding skill is intermediate. The bone digestion efficiency is much higher, at about eighty-five. And the feather maintenance? That's excellent\"\n",
    "\n",
    "response = rig.get_rule_instance(free_text) # return dictionary\n",
    "response['is_error']"
   ],
   "id": "d41d9ff66ad84cda",
   "outputs": [
    {
     "data": {
      "text/plain": [
       "False"
      ]
     },
     "execution_count": 9,
     "metadata": {},
     "output_type": "execute_result"
    }
   ],
   "execution_count": 9
  },
  {
   "metadata": {
    "ExecuteTime": {
     "end_time": "2025-01-06T14:13:24.899433Z",
     "start_time": "2025-01-06T14:13:24.894802Z"
    }
   },
   "cell_type": "code",
   "source": "response[\"rule_instance\"]",
   "id": "8272c662c671476c",
   "outputs": [
    {
     "data": {
      "text/plain": [
       "{'_id': '00000000-0000-0000-0000-000000000000',\n",
       " 'description': 'string',\n",
       " 'isActive': True,\n",
       " 'lastUpdateTime': '00/00/0000 00:00:00',\n",
       " 'params': {'Scavenging efficiency': 30,\n",
       "  'Flight altitude': None,\n",
       "  'Beak sharpness': 8,\n",
       "  'Vision acuity': 'good',\n",
       "  'Wing span': 80,\n",
       "  'Thermal riding skill': 'intermediate',\n",
       "  'Bone digestion': 85,\n",
       "  'Feather maintenance': 'excellent'},\n",
       " 'ruleInstanceName': 'mechanic Evaluation',\n",
       " 'severity': 2,\n",
       " 'ruleType': 'structured',\n",
       " 'ruleOwner': '',\n",
       " 'ruleTypeId': '1b5db158-d5de-47c6-90f6-25688ffece4b',\n",
       " 'eventDetails': [{'objectName': 'Vulture',\n",
       "   'objectDescription': None,\n",
       "   'timeWindowInMilliseconds': 0,\n",
       "   'useLatest': False}],\n",
       " 'additionalInformation': {},\n",
       " 'presetId': '00000000-0000-0000-0000-000000000000'}"
      ]
     },
     "execution_count": 10,
     "metadata": {},
     "output_type": "execute_result"
    }
   ],
   "execution_count": 10
  },
  {
   "metadata": {
    "ExecuteTime": {
     "end_time": "2025-01-06T14:13:07.668130Z",
     "start_time": "2025-01-06T14:13:07.663885Z"
    }
   },
   "cell_type": "code",
   "source": "response.keys()",
   "id": "291f52e6d13fea73",
   "outputs": [
    {
     "data": {
      "text/plain": [
       "dict_keys(['query', 'message', 'is_error', 'agents_massages', 'total_infer_time', 'Uuid', 'dateTtime', 'rule_name', 'rule_instance_params', 'error_message', 'rule_instance'])"
      ]
     },
     "execution_count": 7,
     "metadata": {},
     "output_type": "execute_result"
    }
   ],
   "execution_count": 7
  },
  {
   "metadata": {},
   "cell_type": "code",
   "source": [
    "free_text = \"An instance of Bird Evaluation - Albatross Inspection needs to be set up, dealing with the species Albatross. The feather smoothness of the bird is, um, very rough. However, the wing strength was much more stable, let's say something like twenty. The bird's swimming elegance is low, and the complexity of the mating dance is complex. The nest-building skills of the bird are poor, and the seasonal migration is affirmative. The bird's position in the social hierarchy is lower, and the severity of the inspection is four.\"\n",
    "\n",
    "response = rig.get_rule_instance(free_text) # return dictionary\n"
   ],
   "id": "a0ff1b723ede9989",
   "outputs": [],
   "execution_count": null
  },
  {
   "metadata": {},
   "cell_type": "code",
   "source": "response[\"rule_instance\"]\n",
   "id": "29a3b3e30f4915aa",
   "outputs": [],
   "execution_count": null
  },
  {
   "metadata": {
    "ExecuteTime": {
     "end_time": "2025-01-06T12:32:11.097531Z",
     "start_time": "2025-01-06T12:32:10.997083Z"
    }
   },
   "cell_type": "code",
   "source": [
    "# giving us feedback on the response. it will help us to improve the project. it stores in .logs file, without internet connection.\n",
    "rig.feedback(rig_response=response, good=True)  # or 0.8, or what ever you can  "
   ],
   "id": "1fd6dbf5fae064c9",
   "outputs": [
    {
     "data": {
      "text/plain": [
       "True"
      ]
     },
     "execution_count": 8,
     "metadata": {},
     "output_type": "execute_result"
    }
   ],
   "execution_count": 8
  },
  {
   "metadata": {},
   "cell_type": "markdown",
   "source": "# now you can run the evaluation:",
   "id": "e347cadf3211cca9"
  },
  {
   "metadata": {
    "ExecuteTime": {
     "end_time": "2025-01-06T10:00:03.133350Z",
     "start_time": "2025-01-06T09:59:40.967380Z"
    }
   },
   "cell_type": "code",
   "source": [
    "rig.evaluate(\n",
    "    start_point=0,\n",
    "    end_point=20,  #  -1 or None for all the data\n",
    "    sleep_time_each_10_iter=2,\n",
    "    batch_size=500\n",
    ")"
   ],
   "id": "3a636acd65e09e7b",
   "outputs": [
    {
     "name": "stderr",
     "output_type": "stream",
     "text": [
      " 10%|█         | 1/10 [00:04<00:37,  4.14s/it]"
     ]
    },
    {
     "name": "stdout",
     "output_type": "stream",
     "text": [
      "there's similar examples already. no action perform.\n"
     ]
    },
    {
     "name": "stderr",
     "output_type": "stream",
     "text": [
      " 20%|██        | 2/10 [00:06<00:22,  2.82s/it]"
     ]
    },
    {
     "name": "stdout",
     "output_type": "stream",
     "text": [
      "there's similar examples already. no action perform.\n"
     ]
    },
    {
     "name": "stderr",
     "output_type": "stream",
     "text": [
      " 30%|███       | 3/10 [00:08<00:17,  2.50s/it]"
     ]
    },
    {
     "name": "stdout",
     "output_type": "stream",
     "text": [
      "there's similar examples already. no action perform.\n"
     ]
    },
    {
     "name": "stderr",
     "output_type": "stream",
     "text": [
      " 40%|████      | 4/10 [00:10<00:14,  2.34s/it]"
     ]
    },
    {
     "name": "stdout",
     "output_type": "stream",
     "text": [
      "there's similar examples already. no action perform.\n"
     ]
    },
    {
     "name": "stderr",
     "output_type": "stream",
     "text": [
      " 50%|█████     | 5/10 [00:12<00:11,  2.23s/it]"
     ]
    },
    {
     "name": "stdout",
     "output_type": "stream",
     "text": [
      "there's similar examples already. no action perform.\n"
     ]
    },
    {
     "name": "stderr",
     "output_type": "stream",
     "text": [
      " 60%|██████    | 6/10 [00:14<00:08,  2.15s/it]"
     ]
    },
    {
     "name": "stdout",
     "output_type": "stream",
     "text": [
      "We need to set up a Beaver Skills Evaluation instance, focusing on dam-building skills, which are, uh, intermediate. The beaver's tail strength is about six, and the tree-cutting efficiency is, well, medium. No comments on waterproof fur though. The size of the beaver colony is, um, twenty. Underwater navigation is average and wood storage is seventy. Oh, and flood control is moderate. The severity of this evaluation is three.\n",
      "A process of Beaver Dam Inspection Report needs to be initiated, dealing with the skill level of dam-building, expert. The strength of the beaver's tail was, um, eight. However, the tree-cutting efficiency was much more effective, let's say something like high. The beaver's fur is water-resistant, and the size of the colony is thirty. The underwater navigation of the beavers is efficient, with a wood storage of one hundred. The severity of the event is five.\n"
     ]
    },
    {
     "name": "stderr",
     "output_type": "stream",
     "text": [
      " 70%|███████   | 7/10 [00:17<00:07,  2.34s/it]"
     ]
    },
    {
     "name": "stdout",
     "output_type": "stream",
     "text": [
      "there's similar examples already. no action perform.\n",
      "We need to set up a Beaver Skills Evaluation instance, focusing on dam-building skills, which are, uh, intermediate. The beaver's tail strength is about six, and the tree-cutting efficiency is, well, medium. No comments on waterproof fur though. The size of the beaver colony is, um, twenty. Underwater navigation is average and wood storage is seventy. Oh, and flood control is moderate. The severity of this evaluation is three.\n",
      "A process of Beaver Dam Inspection Report needs to be initiated, dealing with the skill level of dam-building, expert. The strength of the beaver's tail was, um, eight. However, the tree-cutting efficiency was much more effective, let's say something like high. The beaver's fur is water-resistant, and the size of the colony is thirty. The underwater navigation of the beavers is efficient, with a wood storage of one hundred. The severity of the event is five.\n"
     ]
    },
    {
     "name": "stderr",
     "output_type": "stream",
     "text": [
      " 80%|████████  | 8/10 [00:18<00:04,  2.12s/it]"
     ]
    },
    {
     "name": "stdout",
     "output_type": "stream",
     "text": [
      "there's similar examples already. no action perform.\n",
      "We need to set up a Beaver Skills Evaluation instance, focusing on dam-building skills, which are, uh, intermediate. The beaver's tail strength is about six, and the tree-cutting efficiency is, well, medium. No comments on waterproof fur though. The size of the beaver colony is, um, twenty. Underwater navigation is average and wood storage is seventy. Oh, and flood control is moderate. The severity of this evaluation is three.\n",
      "A process of Beaver Dam Inspection Report needs to be initiated, dealing with the skill level of dam-building, expert. The strength of the beaver's tail was, um, eight. However, the tree-cutting efficiency was much more effective, let's say something like high. The beaver's fur is water-resistant, and the size of the colony is thirty. The underwater navigation of the beavers is efficient, with a wood storage of one hundred. The severity of the event is five.\n"
     ]
    },
    {
     "name": "stderr",
     "output_type": "stream",
     "text": [
      " 90%|█████████ | 9/10 [00:20<00:01,  1.97s/it]"
     ]
    },
    {
     "name": "stdout",
     "output_type": "stream",
     "text": [
      "there's similar examples already. no action perform.\n",
      "We need to set up a Beaver Skills Evaluation instance, focusing on dam-building skills, which are, uh, intermediate. The beaver's tail strength is about six, and the tree-cutting efficiency is, well, medium. No comments on waterproof fur though. The size of the beaver colony is, um, twenty. Underwater navigation is average and wood storage is seventy. Oh, and flood control is moderate. The severity of this evaluation is three.\n",
      "A process of Beaver Dam Inspection Report needs to be initiated, dealing with the skill level of dam-building, expert. The strength of the beaver's tail was, um, eight. However, the tree-cutting efficiency was much more effective, let's say something like high. The beaver's fur is water-resistant, and the size of the colony is thirty. The underwater navigation of the beavers is efficient, with a wood storage of one hundred. The severity of the event is five.\n"
     ]
    },
    {
     "name": "stderr",
     "output_type": "stream",
     "text": [
      "100%|██████████| 10/10 [00:21<00:00,  2.19s/it]"
     ]
    },
    {
     "name": "stdout",
     "output_type": "stream",
     "text": [
      "there's similar examples already. no action perform.\n",
      "\n",
      "Average Accuracy Metrics:\n",
      "binary_score: 100.00%\n",
      "binary_score_no_instance_name: 100.00%\n",
      "param_numerical_binary_score: 100.00%\n",
      "param_numerical_avg_score: 100.00%\n",
      "param_verbal_binary_score: 100.00%\n",
      "param_verbal_avg_score: 100.00%\n",
      "score_rule_instance_name: 100.00%\n",
      "classification score: 100.00%\n",
      "\n",
      "Average Accuracy Metrics:\n",
      "binary_score: 100.00%\n",
      "binary_score_no_instance_name: 100.00%\n",
      "param_numerical_binary_score: 100.00%\n",
      "param_numerical_avg_score: 100.00%\n",
      "param_verbal_binary_score: 100.00%\n",
      "param_verbal_avg_score: 100.00%\n",
      "score_rule_instance_name: 100.00%\n",
      "classification score: 100.00%\n"
     ]
    },
    {
     "name": "stderr",
     "output_type": "stream",
     "text": [
      "\n"
     ]
    }
   ],
   "execution_count": 5
  },
  {
   "metadata": {},
   "cell_type": "code",
   "source": "",
   "id": "1bc030c413df1aec",
   "outputs": [],
   "execution_count": null
  }
 ],
 "metadata": {
  "kernelspec": {
   "display_name": "Python 3",
   "language": "python",
   "name": "python3"
  },
  "language_info": {
   "codemirror_mode": {
    "name": "ipython",
    "version": 2
   },
   "file_extension": ".py",
   "mimetype": "text/x-python",
   "name": "python",
   "nbconvert_exporter": "python",
   "pygments_lexer": "ipython2",
   "version": "2.7.6"
  }
 },
 "nbformat": 4,
 "nbformat_minor": 5
}
