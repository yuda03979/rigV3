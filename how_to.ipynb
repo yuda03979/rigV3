{
 "cells": [
  {
   "metadata": {},
   "cell_type": "markdown",
   "source": [
    "# first:\n",
    "- download ollama \n",
    "- run in terminal ollama serve. \n",
    "- if you don't have internet - load the models (README - and the last cell)"
   ],
   "id": "4a2d43f6deccd5b0"
  },
  {
   "cell_type": "code",
   "id": "initial_id",
   "metadata": {
    "collapsed": true,
    "ExecuteTime": {
     "end_time": "2025-01-04T21:56:42.985003Z",
     "start_time": "2025-01-04T21:56:42.754240Z"
    }
   },
   "source": "from src.rule_instance_generator import Rig",
   "outputs": [
    {
     "ename": "ImportError",
     "evalue": "attempted relative import with no known parent package",
     "output_type": "error",
     "traceback": [
      "\u001B[0;31m---------------------------------------------------------------------------\u001B[0m",
      "\u001B[0;31mImportError\u001B[0m                               Traceback (most recent call last)",
      "Cell \u001B[0;32mIn[1], line 1\u001B[0m\n\u001B[0;32m----> 1\u001B[0m \u001B[38;5;28;01mfrom\u001B[39;00m \u001B[38;5;21;01m.\u001B[39;00m\u001B[38;5;21;01msrc\u001B[39;00m\u001B[38;5;21;01m.\u001B[39;00m\u001B[38;5;21;01mrule_instance_generator\u001B[39;00m \u001B[38;5;28;01mimport\u001B[39;00m Rig\n",
      "\u001B[0;31mImportError\u001B[0m: attempted relative import with no known parent package"
     ]
    }
   ],
   "execution_count": 1
  },
  {
   "metadata": {
    "ExecuteTime": {
     "end_time": "2024-12-31T19:52:57.669408Z",
     "start_time": "2024-12-31T19:52:57.472804Z"
    }
   },
   "cell_type": "code",
   "source": "rig = Rig()",
   "id": "a8d89b711cd268a1",
   "outputs": [],
   "execution_count": 3
  },
  {
   "metadata": {
    "ExecuteTime": {
     "end_time": "2024-12-30T14:47:14.375010Z",
     "start_time": "2024-12-30T14:47:06.648273Z"
    }
   },
   "cell_type": "code",
   "source": "rig.set_rule_types()",
   "id": "2b721a2c32794c50",
   "outputs": [
    {
     "name": "stdout",
     "output_type": "stream",
     "text": [
      "Loading Bridge.json\n",
      "Loading Tentacled_Sea_Cucumber.json\n",
      "Loading Cavalry_Charge.json\n",
      "Loading Guerrilla_Skirmish.json\n",
      "Loading Sea_Otter.json\n",
      "Loading Morning_Star.json\n",
      "Loading Journalist.json\n",
      "Loading Rapier.json\n",
      "Loading Graphic_Designer.json\n",
      "Loading Puffin.json\n",
      "Loading Data_Analyst.json\n",
      "Loading Teacher.json\n",
      "Loading Hamster.json\n",
      "Loading Katana.json\n",
      "Loading Scientist.json\n",
      "Loading Boomerang.json\n",
      "Loading Koala.json\n",
      "Loading Nurse.json\n",
      "Loading Dentist.json\n",
      "Loading Gondola.json\n",
      "Loading Halberd.json\n",
      "Loading Engineer.json\n",
      "Loading Hospital.json\n",
      "Loading Tarantula.json\n",
      "Loading Architect.json\n",
      "Loading Bastard_Sword.json\n",
      "Loading Apartment_Building.json\n",
      "Loading Beaver.json\n",
      "Loading Flanking_Maneuver.json\n",
      "Loading Komodo_Dragon.json\n",
      "Loading Molotov_Cocktail.json\n",
      "Loading Bull.json\n",
      "Loading Fox.json\n",
      "Loading Flail.json\n",
      "Loading Firefighter.json\n",
      "Loading Kayak.json\n",
      "Loading Ballista.json\n",
      "Loading Farmer.json\n",
      "Loading Evacuation_Operation.json\n",
      "Loading Trench_Assault.json\n",
      "Loading Cow.json\n",
      "Loading Chef.json\n",
      "Loading Actor.json\n",
      "Loading ATV.json\n",
      "Loading Castle.json\n",
      "Loading Multi_Motor_Trampoline.json\n",
      "Loading Parrotfish.json\n",
      "Loading Aerial_Dogfight.json\n",
      "Loading Vulture.json\n",
      "Loading Goldfish.json\n",
      "Loading Paratrooper_Drop.json\n",
      "Loading Naval_Bombardment.json\n",
      "Loading Mole.json\n",
      "Loading Cannon.json\n",
      "Loading Scimitar.json\n",
      "Loading Shuriken.json\n",
      "Loading Canoe.json\n",
      "Loading Scythe.json\n",
      "Loading Goliath_Frog.json\n",
      "Loading Cottage.json\n",
      "Loading Conveyor.json\n",
      "Loading Software_Developer.json\n",
      "Loading Tank_Advance.json\n",
      "Loading Church.json\n",
      "Loading Robot.json\n",
      "Loading Gauntlet_Knife.json\n",
      "Loading Beetle.json\n",
      "Loading Factory.json\n",
      "Loading Airship_Vehicle.json\n",
      "Loading Artillery_Strike.json\n",
      "Loading Psychologist.json\n",
      "Loading Kangaroo.json\n",
      "Loading Anglerfish.json\n",
      "Loading Sabre.json\n",
      "Loading Phoenix_Fish.json\n",
      "Loading Siege.json\n",
      "Loading Barista.json\n",
      "Loading Pilot.json\n",
      "Loading Hotel.json\n",
      "Loading Lawyer.json\n",
      "Loading Museum.json\n",
      "Loading Police_Officer.json\n",
      "Loading Photographer.json\n",
      "Loading Bow.json\n",
      "Loading Poodle.json\n",
      "Loading Plumber.json\n",
      "Loading Bayonet_Charge.json\n",
      "Loading Net_Gun.json\n",
      "Loading Battlefield_Retreat.json\n",
      "Loading Kestrel.json\n",
      "Loading Swan.json\n",
      "Loading Electric_Train.json\n",
      "Loading Blowgun.json\n",
      "Loading Ambulance.json\n",
      "Loading Pangolin.json\n",
      "Loading Chakram.json\n",
      "Loading Platypus.json\n",
      "Loading Rooster.json\n",
      "Loading Wildcat.json\n",
      "Loading x4X4_Off_Road_Car.json\n",
      "Loading Event_Planner.json\n",
      "Loading Trident.json\n",
      "Loading Carpenter.json\n",
      "Loading Rabbit.json\n",
      "Loading Trolley.json\n",
      "Loading Urban_Public_Transport_System.json\n",
      "Loading Sniper_Attack.json\n",
      "Loading Axe.json\n",
      "Loading Mechanic.json\n"
     ]
    },
    {
     "data": {
      "text/plain": [
       "True"
      ]
     },
     "execution_count": 3,
     "metadata": {},
     "output_type": "execute_result"
    }
   ],
   "execution_count": 3
  },
  {
   "metadata": {
    "ExecuteTime": {
     "end_time": "2024-12-30T14:47:14.378240Z",
     "start_time": "2024-12-30T14:47:14.375657Z"
    }
   },
   "cell_type": "code",
   "source": [
    "# get list of existing rule types:\n",
    "len(rig.get_rule_types_names())"
   ],
   "id": "40f11096719ee8f8",
   "outputs": [
    {
     "data": {
      "text/plain": [
       "109"
      ]
     },
     "execution_count": 4,
     "metadata": {},
     "output_type": "execute_result"
    }
   ],
   "execution_count": 4
  },
  {
   "metadata": {},
   "cell_type": "code",
   "outputs": [],
   "execution_count": null,
   "source": "rig.tweak_rag_parameters(rag_difference=0.002, rag_threshold=0.5)",
   "id": "de07b79d8614b256"
  },
  {
   "metadata": {},
   "cell_type": "markdown",
   "source": "## get rule instance from free text",
   "id": "af0758f5e833cca9"
  },
  {
   "metadata": {
    "ExecuteTime": {
     "end_time": "2024-12-31T19:53:05.087543Z",
     "start_time": "2024-12-31T19:52:59.194044Z"
    }
   },
   "cell_type": "code",
   "source": [
    "free_text = \"An instance of ruleInstanceName - Falcon Evaluation needs to be created, dealing with the severity level two. The scavenging efficiency of this falcon is, let's say, 30. However, the beak sharpness is much sharper, let's say something like eight. The falcon's vision acuity is good, and the wing span is, um, eighty. The level of thermal riding skill is intermediate. The bone digestion efficiency is much higher, at about eighty-five. And the feather maintenance? That's excellent.\"\n",
    "\n",
    "response = rig.get_rule_instance(free_text) # return dictionary"
   ],
   "id": "d41d9ff66ad84cda",
   "outputs": [
    {
     "name": "stdout",
     "output_type": "stream",
     "text": [
      "Model output: {'ruleInstanceName': 'falcon evaluation', 'severity': '2', 'Scavenging efficiency': '30', 'Flight altitude': 'null', 'Beak sharpness': '8', 'Vision acuity': 'good', 'Wing span': '80', 'Thermal riding skill': 'intermediate', 'Bone digestion': '85', 'Feather maintenance': 'excellent'\n",
      "Model output: <class 'dict'>\n"
     ]
    }
   ],
   "execution_count": 4
  },
  {
   "metadata": {
    "ExecuteTime": {
     "end_time": "2024-12-31T18:51:53.881268Z",
     "start_time": "2024-12-31T18:51:53.876597Z"
    }
   },
   "cell_type": "code",
   "source": "response",
   "id": "8272c662c671476c",
   "outputs": [
    {
     "data": {
      "text/plain": [
       "{'rule_instance': {'_id': '00000000-0000-0000-0000-000000000000',\n",
       "  'description': 'string',\n",
       "  'isActive': True,\n",
       "  'lastUpdateTime': '00/00/0000 00:00:00',\n",
       "  'params': {'Scavenging efficiency': None,\n",
       "   'Flight altitude': None,\n",
       "   'Beak sharpness': None,\n",
       "   'Vision acuity': None,\n",
       "   'Wing span': None,\n",
       "   'Thermal riding skill': 'intermediate',\n",
       "   'Bone digestion': 85,\n",
       "   'Feather maintenance': 'excellent'},\n",
       "  'ruleInstanceName': None,\n",
       "  'severity': None,\n",
       "  'ruleType': 'structured',\n",
       "  'ruleOwner': '',\n",
       "  'ruleTypeId': '1b5db158-d5de-47c6-90f6-25688ffece4b',\n",
       "  'eventDetails': [{'objectName': 'Vulture',\n",
       "    'objectDescription': None,\n",
       "    'timeWindowInMilliseconds': 0,\n",
       "    'useLatest': False}],\n",
       "  'additionalInformation': {},\n",
       "  'presetId': '00000000-0000-0000-0000-000000000000'},\n",
       " 'is_error': False,\n",
       " 'error_message': '',\n",
       " 'free_text': \" riding skill is intermediate. The bone digestion efficiency is much higher, at about eighty-five. And the feather maintenance? That's excellent.\",\n",
       " 'type_name': 'vulture',\n",
       " 'rag_score': 438.68655816053194,\n",
       " 'model_response': \"```json\\n{'Thermal riding skill': 'intermediate', 'Bone digestion': '85', 'Feather maintenance': 'excellent'}\",\n",
       " 'examples': {'example_1': {'distance': 19.020386124776238,\n",
       "   'free_text': '[\"We have to establish an instance of Emergency Medical Response. This operation is a bit serious, I mean it\\'s severity level is five. They are moving in pretty quick, you could say at a speed of advance of fifty. The impact force? Well, that\\'s moderate. As for the rider coordination, I can\\'t say much about that. However, the defensive penetration is quite high.\"]',\n",
       "   'response': \"{'ruleInstanceName': 'Emergency Medical Response', 'severity': 5, 'Speed of advance': 50, 'Impact force': 'Moderate', 'Rider coordination': '', 'Defensive penetration': 'High'}\",\n",
       "   'response_id': 'Cavalry_ChargeD2Q3',\n",
       "   'type_name': 'Cavalry_Charge'},\n",
       "  'example_2': {'distance': 491.196620454601,\n",
       "   'free_text': \"An instance of ruleInstanceName - Falcon Evaluation needs to be created, dealing with the severity level two. The scavenging efficiency of this falcon is, let's say, 30. However, the beak sharpness is much sharper, let's say something like eight. The falcon's vision acuity is good, and the wing span is, um, eighty. The level of thermal riding skill is intermediate. The bone digestion efficiency is much higher, at about eighty-five. And the feather maintenance? That's excellent.\",\n",
       "   'response': \"```json\\n{'ruleInstanceName': 'falcon evaluation', 'severity': '2', 'Scavenging efficiency': '30', 'Flight altitude': 'null', 'Beak sharpness': '8', 'Vision acuity': 'good', 'Wing span': '80', 'Thermal riding skill': 'intermediate', 'Bone digestion': '85', 'Feather maintenance': 'excellent'}\",\n",
       "   'response_id': '',\n",
       "   'type_name': 'vulture'}},\n",
       " 'schema': {'Scavenging efficiency': 'Int',\n",
       "  'Flight altitude': 'String',\n",
       "  'Beak sharpness': 'Int',\n",
       "  'Vision acuity': 'string',\n",
       "  'Wing span': 'Int',\n",
       "  'Thermal riding skill': 'string',\n",
       "  'Bone digestion': 'Int',\n",
       "  'Feather maintenance': 'String',\n",
       "  'ruleInstanceName': 'string',\n",
       "  'severity': 'int'},\n",
       " 'validation_score': 3,\n",
       " 'time': '2024-12-31|20:51:53',\n",
       " 'inference_time': 3.836480140686035}"
      ]
     },
     "execution_count": 4,
     "metadata": {},
     "output_type": "execute_result"
    }
   ],
   "execution_count": 4
  },
  {
   "metadata": {
    "ExecuteTime": {
     "end_time": "2024-12-31T13:59:47.823058Z",
     "start_time": "2024-12-31T13:59:47.819180Z"
    }
   },
   "cell_type": "code",
   "source": "response.keys()",
   "id": "291f52e6d13fea73",
   "outputs": [
    {
     "data": {
      "text/plain": [
       "dict_keys(['rule_instance', 'is_error', 'error_message', 'free_text', 'type_name', 'rag_score', 'model_response', 'examples', 'schema', 'validation_score', 'time', 'inference_time'])"
      ]
     },
     "execution_count": 5,
     "metadata": {},
     "output_type": "execute_result"
    }
   ],
   "execution_count": 5
  },
  {
   "metadata": {
    "ExecuteTime": {
     "end_time": "2024-12-31T12:43:20.108959Z",
     "start_time": "2024-12-31T12:43:20.104638Z"
    }
   },
   "cell_type": "code",
   "source": "response[\"rule_instance\"] # the package response",
   "id": "6dbad012ab6f1195",
   "outputs": [
    {
     "data": {
      "text/plain": [
       "{'_id': '00000000-0000-0000-0000-000000000000',\n",
       " 'description': 'string',\n",
       " 'isActive': True,\n",
       " 'lastUpdateTime': '00/00/0000 00:00:00',\n",
       " 'params': {'Scavenging efficiency': 30,\n",
       "  'Flight altitude': 'null',\n",
       "  'Beak sharpness': 8,\n",
       "  'Vision acuity': 'good',\n",
       "  'Wing span': 80,\n",
       "  'Thermal riding skill': 'intermediate',\n",
       "  'Bone digestion': 85,\n",
       "  'Feather maintenance': 'excellent'},\n",
       " 'ruleInstanceName': 'falcon evaluation',\n",
       " 'severity': 2,\n",
       " 'ruleType': 'structured',\n",
       " 'ruleOwner': '',\n",
       " 'ruleTypeId': '1b5db158-d5de-47c6-90f6-25688ffece4b',\n",
       " 'eventDetails': [{'objectName': 'Vulture',\n",
       "   'objectDescription': None,\n",
       "   'timeWindowInMilliseconds': 0,\n",
       "   'useLatest': False}],\n",
       " 'additionalInformation': {},\n",
       " 'presetId': '00000000-0000-0000-0000-000000000000'}"
      ]
     },
     "execution_count": 5,
     "metadata": {},
     "output_type": "execute_result"
    }
   ],
   "execution_count": 5
  },
  {
   "metadata": {
    "ExecuteTime": {
     "end_time": "2024-12-30T14:47:20.373079Z",
     "start_time": "2024-12-30T14:47:20.324658Z"
    }
   },
   "cell_type": "code",
   "source": [
    "# giving us feedback on the response. it will help us to improve the project. it stores in .logs file, without internet connection.\n",
    "rig.feedback(rig_response=response, good=True)  # or 0.8, or what ever you can  "
   ],
   "id": "1fd6dbf5fae064c9",
   "outputs": [
    {
     "data": {
      "text/plain": [
       "'Thank you :)'"
      ]
     },
     "execution_count": 8,
     "metadata": {},
     "output_type": "execute_result"
    }
   ],
   "execution_count": 8
  },
  {
   "metadata": {},
   "cell_type": "markdown",
   "source": "# now you can run the evaluation:",
   "id": "e347cadf3211cca9"
  },
  {
   "metadata": {
    "ExecuteTime": {
     "end_time": "2024-12-31T21:03:02.740550Z",
     "start_time": "2024-12-31T21:02:59.959793Z"
    }
   },
   "cell_type": "code",
   "source": [
    "from RIG.rule_instance_generator import RuleInstanceGenerator\n",
    "rig = RuleInstanceGenerator()"
   ],
   "id": "261113b402da6920",
   "outputs": [],
   "execution_count": 1
  },
  {
   "metadata": {
    "ExecuteTime": {
     "end_time": "2024-12-31T21:03:14.158303Z",
     "start_time": "2024-12-31T21:03:02.741651Z"
    }
   },
   "cell_type": "code",
   "source": [
    "rig.evaluate(\n",
    "    start_point=100,\n",
    "    end_point=110,  #  -1 or None for all the data\n",
    "    sleep_time_each_10_iter=2,\n",
    "    batch_size=500\n",
    ")"
   ],
   "id": "3a636acd65e09e7b",
   "outputs": [
    {
     "name": "stderr",
     "output_type": "stream",
     "text": [
      "  0%|          | 0/10 [00:00<?, ?it/s]"
     ]
    },
    {
     "name": "stdout",
     "output_type": "stream",
     "text": [
      "\n",
      "    \n",
      "    step 1: \n",
      "    ### Rules:\n",
      "1. Only use fields explicitly listed in the schema below.\n",
      "2. Do not add or infer fields. Fields missing in the schema or text should be set to \"null\".\n",
      "3. Carefully map field names from the schema to the text, even if the phrasing differs.\n",
      "4. Treat words like \"without\", \"unknown\" as \"null\", while \"standard\" \"low\" etc. will return the value.\n",
      "5. Output must match the schema exactly.\n",
      "\n",
      "        ***Be sure to follow these rules***\n",
      "\n",
      "    ### Schema:\n",
      "    {'Conveyor belt': 'String', 'Conveyor wheels': 'String', 'Electrical connections': 'string', 'Speed adjustment': 'Int', 'Sensors': 'string', 'ruleInstanceName': 'string', 'severity': 'int'}\n",
      "\n",
      "    ### Examples:\n",
      "    \n",
      "\n",
      "### Example 1 :\n",
      "Free text:\n",
      "\"Add a report for 'Shell Delay'. Equipment Malfunction case. Type: shell. Site is not important. Malfunction at level five, urgency four. Desc: Detonation delayed in poland Severity i think 3.\"\n",
      "Schema:\n",
      "{\n",
      "    \"type\": \"string\",\n",
      "    \"site\": \"string\",\n",
      "    \"malfunctionLevel\": \"int\",\n",
      "    \"urgency\": \"int\",\n",
      "    \"description\": \" string\",\n",
      "    \"ruleInstanceName\": \"string\",\n",
      "    \"severity\": \"int\"\n",
      "}\n",
      "Output:\n",
      "{\n",
      "    \"type\": \"shell\",\n",
      "    \"site\": \"empty\",\n",
      "    \"malfunctionLevel\": 5,\n",
      "    \"urgency\": 4,\n",
      "    \"description\": \"Detonation delayed in poland\",\n",
      "    \"ruleInstanceName\": \"Equipment Malfunction - Shell Delay\",\n",
      "    \"severity\": 3\n",
      "}\n",
      "\n",
      "\n",
      "### Example 3 (Example for handling empty values):\n",
      "Free text:\n",
      "\"Please generate a Weather Alert - other for area code 2001. Alert type is Thunderstorm. Intensity: severe. Urgency: high. Ignore the forecast source for now. The duration of this case, I'd say, is around two. severity is empty or unclear\"\n",
      "Schema:\n",
      "{\n",
      "    \"alertType\": \"string\",\n",
      "    \"areaCode\": \"int\",\n",
      "    \"intensity\": \"string\",\n",
      "    \"urgency\": \"string\",\n",
      "    \"forecastSource\": \"string\",\n",
      "    \"duration\": \"int\",\n",
      "    \"ruleInstanceName\": \"string\",\n",
      "    \"severity\": \"int\"\n",
      "}\n",
      "Output:\n",
      "{\n",
      "    \"alertType\": \"Thunderstorm\",\n",
      "    \"areaCode\": 2001,\n",
      "    \"intensity\": \"severe\",\n",
      "    \"urgency\": \"high\",\n",
      "    \"forecastSource\": \"null\",\n",
      "    \"duration\": 2,\n",
      "    \"ruleInstanceName\": \"Weather Alert - other\",\n",
      "    \"severity\": \"null\"\n",
      "}\n",
      "\n",
      "        \n",
      "    ---\n",
      "\n",
      "    ### Context (do not use for filling fields, only as reference for the schema):\n",
      "    {'Conveyor belt_description': '', 'Conveyor wheels_description': '', 'Electrical connections_description': \"Allowed answers: 'connected', 'disconnected', 'partially connected'\", 'Speed adjustment_description': '', 'Sensors_description': \"Allowed answers: 'active', 'inactive', 'malfunctioning'\", 'ruleInstanceName_description': 'About what the message is and to what it relates in the DB.', 'severity_description': 'Level of importance, criticality, or risk.', 'global description': '', 'object name': 'Conveyor'}\n",
      "\n",
      "    ---\n",
      "    ### Task:\n",
      "    - Free text: A system overhaul is needed to examine the machinery, dealing with the severity level four. The state of the conveyor belt is functional and the conveyor wheels are working properly. However, there is no data on the electrical connections. The speed adjustment is set to a seven and the sensors are actively working.\n",
      "    - Output:\n",
      "     ```json\n",
      "{'ruleInstanceName': 'system overhaul', 'severity': '4', 'Conveyor belt': 'functional', 'Conveyor wheels': 'working properly', 'Electrical connections': 'null', 'Speed adjustment': '7', 'Sensors': 'active'}.\n",
      "    ------ FINISH!!! ------\n",
      "\n",
      "    step 2: \n",
      "    Task: explain why you generate this schema and if its good.  \n",
      "\n",
      "    **Evaluation Criteria:**  \n",
      "    - Do the fields in the schema not correspond to topics in the free text?  \n",
      "    - Are the values (not null) from the schema not present in the free text? \n",
      "\n",
      "    Example:\n",
      "    Free Text:\n",
      "    An instance of eagle assessment needs to be created, dealing with the type of assessment eagle. The scavenging efficiency of the eagle was around, um, eighty. However, the beak sharpness was much more severe, let's say something like seven. The flight altitude of the eagle is very high, and the severity of the event is four. The vision acuity of the eagle is excellent, with a wingspan of about two hundred. The thermal riding skill of the eagle is expert, and the bone digestion is ninety. We don't have information on the feather maintenance.\n",
      "\n",
      "    output:\n",
      "    {\n",
      "        \"ruleInstanceName\": \"eagle assessment\",\n",
      "        \"severity\": \"4\",\n",
      "        \"Scavenging efficiency\": \"80\",\n",
      "        \"Flight altitude\": \"high\",\n",
      "        \"Beak sharpness\": \"7\",\n",
      "        \"Vision acuity\": \"excellent\",\n",
      "        \"Wing span\": \"200\",\n",
      "        \"Thermal riding skill\": \"expert\",\n",
      "        \"Bone digestion\": \"90\",\n",
      "        \"Feather maintenance\": \"null\"\n",
      "    }\n",
      "\n",
      "    explanation: flight altitude should be \"very high\". so i did it wrong. all the other fields are good!\n",
      "\n",
      "    free text: A system overhaul is needed to examine the machinery, dealing with the severity level four. The state of the conveyor belt is functional and the conveyor wheels are working properly. However, there is no data on the electrical connections. The speed adjustment is set to a seven and the sensors are actively working.\n",
      "\n",
      "    output: ```json\n",
      "{'ruleInstanceName': 'system overhaul', 'severity': '4', 'Conveyor belt': 'functional', 'Conveyor wheels': 'working properly', 'Electrical connections': 'null', 'Speed adjustment': '7', 'Sensors': 'active'}\n",
      "    short explanation: The schema provided is designed to extract and map the relevant information from a free text description into structured data fields that correspond directly with predefined categories. Each field in the schema represents an aspect of the conveyor system or related processes, as described by the rules for handling missing values (treating words like \"without\" as null).\n",
      "\n",
      "The output correctly maps each piece of information from the free text to its corresponding field:\n",
      "- 'ruleInstanceName' is set to 'system overha\n",
      "    now generate again according the schema:\n",
      "    Output:\n",
      "    \n"
     ]
    },
    {
     "name": "stderr",
     "output_type": "stream",
     "text": [
      "  0%|          | 0/10 [00:11<?, ?it/s]\n",
      "\n",
      "KeyboardInterrupt\n",
      "\n"
     ]
    }
   ],
   "execution_count": 2
  },
  {
   "metadata": {
    "ExecuteTime": {
     "end_time": "2024-12-30T14:47:37.353776Z",
     "start_time": "2024-12-30T14:47:37.352318Z"
    }
   },
   "cell_type": "code",
   "source": "",
   "id": "5882112bdfd4dc0f",
   "outputs": [],
   "execution_count": 9
  }
 ],
 "metadata": {
  "kernelspec": {
   "display_name": "Python 3",
   "language": "python",
   "name": "python3"
  },
  "language_info": {
   "codemirror_mode": {
    "name": "ipython",
    "version": 2
   },
   "file_extension": ".py",
   "mimetype": "text/x-python",
   "name": "python",
   "nbconvert_exporter": "python",
   "pygments_lexer": "ipython2",
   "version": "2.7.6"
  }
 },
 "nbformat": 4,
 "nbformat_minor": 5
}
