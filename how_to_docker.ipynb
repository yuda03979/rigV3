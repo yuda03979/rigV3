{
 "cells": [
  {
   "metadata": {
    "ExecuteTime": {
     "end_time": "2025-01-05T03:55:17.246089Z",
     "start_time": "2025-01-05T03:55:17.233494Z"
    }
   },
   "cell_type": "code",
   "source": [
    "import requests\n",
    "import json\n",
    "\n",
    "# Base URL for the API\n",
    "\n",
    "# BASE_URL = 'http://0.0.0.0:8000'\n",
    "BASE_URL = 'http://localhost:8000'\n",
    "\n",
    "\n",
    "def get_rule_instance(free_text: str):\n",
    "    \"\"\"\n",
    "    Get rule instance based on free text input\n",
    "    \n",
    "    :param free_text: Text to query for rule instance\n",
    "    :return: Response from the API\n",
    "    \"\"\"\n",
    "    url = f'{BASE_URL}/get_rule_instance'\n",
    "    payload = {'free_text': free_text}\n",
    "    \n",
    "    try:\n",
    "        response = requests.post(url, params=payload)\n",
    "        response.raise_for_status()\n",
    "        return response.json()\n",
    "    except requests.exceptions.RequestException as e:\n",
    "        return {'error': str(e)}\n",
    "\n",
    "def get_rule_types_names():\n",
    "    \"\"\"\n",
    "    Retrieve rule type names\n",
    "    \n",
    "    :return: Response from the API\n",
    "    \"\"\"\n",
    "    url = f'{BASE_URL}/get_rule_types_names'\n",
    "    \n",
    "    try:\n",
    "        response = requests.get(url)\n",
    "        response.raise_for_status()\n",
    "        return response.json()\n",
    "    except requests.exceptions.RequestException as e:\n",
    "        return {'error': str(e)}\n",
    "\n",
    "def get_rule_type_details(rule_name: str):\n",
    "    url = f\"{BASE_URL}/get_rule_type_details\"\n",
    "    params = {'rule_name': rule_name}\n",
    "    \n",
    "    try:\n",
    "        response = requests.get(url, params=params)\n",
    "        response.raise_for_status()\n",
    "        return response.json()\n",
    "    except requests.exceptions.RequestException as e:\n",
    "        return {'error': str(e)}\n",
    "    \n",
    "def set_rule_types(rule_types: list[dict] | None = None):\n",
    "    url = f\"{BASE_URL}/set_rule_types\"\n",
    "    payload = {'rule_types': rule_types}\n",
    "    \n",
    "    try:\n",
    "        response = requests.post(url, json=payload)\n",
    "        response.raise_for_status()\n",
    "        return response.json()\n",
    "    except requests.exceptions.RequestException as e:\n",
    "        return {'error': str(e)}\n",
    "\n",
    "def add_rule_type(json_file_name: str):\n",
    "    url = f\"{BASE_URL}/add_rule_type\"\n",
    "    payload = {'json_file_name': json_file_name}\n",
    "    \n",
    "    try:\n",
    "        response = requests.post(url, json=payload)\n",
    "        response.raise_for_status()\n",
    "        return response.json()\n",
    "    except requests.exceptions.RequestException as e:\n",
    "        return {'error': str(e)}\n",
    "\n",
    "def tweak_rag_parameters(rag_threshold=0.5, examples_rag_threshold=0.5):\n",
    "    \"\"\"\n",
    "    Adjust RAG (Retrieval-Augmented Generation) parameters\n",
    "    \n",
    "    :param rag_threshold: Threshold for RAG\n",
    "    :return: Response from the API\n",
    "    \"\"\"\n",
    "    url = f'{BASE_URL}/tweak_parameters'\n",
    "    payload = {\n",
    "        'rag_threshold': rag_threshold,\n",
    "        'examples_rag_threshold': examples_rag_threshold\n",
    "    }\n",
    "    \n",
    "    try:\n",
    "        response = requests.post(url, json=payload)\n",
    "        response.raise_for_status()\n",
    "        return response.json()\n",
    "    except requests.exceptions.RequestException as e:\n",
    "        return {'error': str(e)}\n",
    "\n",
    "def feedback(rig_response: dict, good: bool):\n",
    "    \"\"\"\n",
    "    Send feedback to the API\n",
    "    \n",
    "    :param rig_response: Response dictionary to send feedback for\n",
    "    :param good: Boolean indicating positive or negative feedback\n",
    "    :return: Response from the API\n",
    "    \"\"\"\n",
    "    url = f'{BASE_URL}/feedback'\n",
    "    payload = {\n",
    "        'rig_response': rig_response,\n",
    "        'good': good\n",
    "    }\n",
    "    \n",
    "    try:\n",
    "        response = requests.post(url, json=payload)\n",
    "        response.raise_for_status()\n",
    "        return response.json()\n",
    "    except requests.exceptions.RequestException as e:\n",
    "        return {'error': str(e)}\n",
    "\n",
    "def evaluate(\n",
    "    start_point=0,\n",
    "    end_point=2,  # None - all the data\n",
    "    sleep_time_each_10_iter=30,\n",
    "    batch_size=250\n",
    "):\n",
    "    url = f'{BASE_URL}/evaluate'\n",
    "    payload = {\n",
    "        'start_point': start_point,\n",
    "        'end_point': end_point,  # -1 - all the data\n",
    "        'sleep_time_each_10_iter': sleep_time_each_10_iter,\n",
    "        'batch_size': batch_size\n",
    "    }\n",
    "    \n",
    "    try:\n",
    "        response = requests.post(url, json=payload)\n",
    "        response.raise_for_status()\n",
    "        return response.json()\n",
    "    except requests.exceptions.RequestException as e:\n",
    "        return {'error': str(e)}\n",
    "    \n",
    "def set_rule_types_from_directory():\n",
    "    url = f'{BASE_URL}/set_rule_types'\n",
    "    \n",
    "    try:\n",
    "        response = requests.post(url)\n",
    "        response.raise_for_status()\n",
    "        return response.json()\n",
    "    except requests.exceptions.RequestException as e:\n",
    "        return {'error': str(e)}"
   ],
   "id": "7e6124b81671af94",
   "outputs": [],
   "execution_count": 3
  },
  {
   "metadata": {},
   "cell_type": "markdown",
   "source": "# example usage",
   "id": "2c2bd61eb1318d31"
  },
  {
   "metadata": {},
   "cell_type": "markdown",
   "source": "### get_rule_instance",
   "id": "14122b4502ba422"
  },
  {
   "metadata": {
    "ExecuteTime": {
     "end_time": "2025-01-05T03:56:14.196526Z",
     "start_time": "2025-01-05T03:55:18.629674Z"
    }
   },
   "cell_type": "code",
   "source": [
    "free_text = \"A new instance needs to be created for carpentry intermediate level, um, kdealing with the skill set of woodworking and the level is intermediate.well, The understanding of blueprint reading is good. However.\"\n",
    "\n",
    "response = get_rule_instance(free_text)\n",
    "response"
   ],
   "id": "191e8e15aca6df41",
   "outputs": [
    {
     "data": {
      "text/plain": [
       "{'error': \"('Connection aborted.', RemoteDisconnected('Remote end closed connection without response'))\"}"
      ]
     },
     "execution_count": 4,
     "metadata": {},
     "output_type": "execute_result"
    }
   ],
   "execution_count": 4
  },
  {
   "metadata": {},
   "cell_type": "markdown",
   "source": "### get_rule_types_names",
   "id": "ab5b4dae3a19210a"
  },
  {
   "metadata": {
    "ExecuteTime": {
     "end_time": "2025-01-05T03:49:25.270725Z",
     "start_time": "2025-01-05T03:49:25.247723Z"
    }
   },
   "cell_type": "code",
   "source": "get_rule_types_names()",
   "id": "10ad7caf9af7c918",
   "outputs": [
    {
     "data": {
      "text/plain": [
       "['bridge',\n",
       " 'tentacled_sea_cucumber',\n",
       " 'cavalry_charge',\n",
       " 'guerrilla_skirmish',\n",
       " 'sea_otter',\n",
       " 'morning_star',\n",
       " 'journalist',\n",
       " 'rapier',\n",
       " 'graphic_designer',\n",
       " 'puffin',\n",
       " 'data_analyst',\n",
       " 'teacher',\n",
       " 'hamster',\n",
       " 'katana',\n",
       " 'scientist',\n",
       " 'boomerang',\n",
       " 'koala',\n",
       " 'nurse',\n",
       " 'dentist',\n",
       " 'gondola',\n",
       " 'halberd',\n",
       " 'engineer',\n",
       " 'hospital',\n",
       " 'tarantula',\n",
       " 'architect',\n",
       " 'bastard_sword',\n",
       " 'apartment_building',\n",
       " 'beaver',\n",
       " 'flanking_maneuver',\n",
       " 'komodo_dragon',\n",
       " 'molotov_cocktail',\n",
       " 'bull',\n",
       " 'fox',\n",
       " 'flail',\n",
       " 'firefighter',\n",
       " 'kayak',\n",
       " 'ballista',\n",
       " 'farmer',\n",
       " 'evacuation_operation',\n",
       " 'trench_assault',\n",
       " 'cow',\n",
       " 'chef',\n",
       " 'actor',\n",
       " 'atv',\n",
       " 'castle',\n",
       " 'multi_motor_trampoline',\n",
       " 'parrotfish',\n",
       " 'aerial_dogfight',\n",
       " 'vulture',\n",
       " 'goldfish',\n",
       " 'paratrooper_drop',\n",
       " 'naval_bombardment',\n",
       " 'mole',\n",
       " 'cannon',\n",
       " 'scimitar',\n",
       " 'shuriken',\n",
       " 'canoe',\n",
       " 'scythe',\n",
       " 'goliath frog',\n",
       " 'cottage',\n",
       " 'conveyor',\n",
       " 'software developer',\n",
       " 'tank_advance',\n",
       " 'church',\n",
       " 'robot',\n",
       " 'gauntlet_knife',\n",
       " 'beetle',\n",
       " 'factory',\n",
       " 'airship_vehicle',\n",
       " 'artillery_strike',\n",
       " 'psychologist',\n",
       " 'kangaroo',\n",
       " 'anglerfish',\n",
       " 'sabre',\n",
       " 'phoenix fish',\n",
       " 'siege',\n",
       " 'barista',\n",
       " 'pilot',\n",
       " 'hotel',\n",
       " 'lawyer',\n",
       " 'museum',\n",
       " 'police_officer',\n",
       " 'photographer',\n",
       " 'bow',\n",
       " 'poodle',\n",
       " 'plumber',\n",
       " 'bayonet_charge',\n",
       " 'net_gun',\n",
       " 'battlefield_retreat',\n",
       " 'kestrel',\n",
       " 'swan',\n",
       " 'electric_train',\n",
       " 'blowgun',\n",
       " 'ambulance',\n",
       " 'pangolin',\n",
       " 'chakram',\n",
       " 'platypus',\n",
       " 'rooster',\n",
       " 'wildcat',\n",
       " 'x4x4_off_road_car',\n",
       " 'event_planner',\n",
       " 'trident',\n",
       " 'carpenter',\n",
       " 'rabbit',\n",
       " 'trolley',\n",
       " 'urban_public_transport_system',\n",
       " 'sniper_attack',\n",
       " 'axe',\n",
       " 'mechanic']"
      ]
     },
     "execution_count": 8,
     "metadata": {},
     "output_type": "execute_result"
    }
   ],
   "execution_count": 8
  },
  {
   "metadata": {},
   "cell_type": "markdown",
   "source": "### tweak_rag_parameters",
   "id": "f84d0673113ed63f"
  },
  {
   "metadata": {
    "ExecuteTime": {
     "end_time": "2025-01-05T03:53:08.959599Z",
     "start_time": "2025-01-05T03:53:08.945956Z"
    }
   },
   "cell_type": "code",
   "source": "tweak_rag_parameters(rag_threshold=0.5, examples_rag_threshold=0.5)",
   "id": "73c429bfcb16449a",
   "outputs": [
    {
     "data": {
      "text/plain": [
       "True"
      ]
     },
     "execution_count": 12,
     "metadata": {},
     "output_type": "execute_result"
    }
   ],
   "execution_count": 12
  },
  {
   "metadata": {},
   "cell_type": "markdown",
   "source": "### feedback",
   "id": "c28732ff4f735de3"
  },
  {
   "metadata": {
    "ExecuteTime": {
     "end_time": "2025-01-05T03:50:09.399663Z",
     "start_time": "2025-01-05T03:50:09.386029Z"
    }
   },
   "cell_type": "code",
   "source": "feedback(rig_response=response, good=True)",
   "id": "6044b57d40a8c6c6",
   "outputs": [
    {
     "data": {
      "text/plain": [
       "{'detail': [{'type': 'missing',\n",
       "   'loc': ['body'],\n",
       "   'msg': 'Field required',\n",
       "   'input': None}]}"
      ]
     },
     "execution_count": 10,
     "metadata": {},
     "output_type": "execute_result"
    }
   ],
   "execution_count": 10
  },
  {
   "metadata": {},
   "cell_type": "markdown",
   "source": "# evaluation. it use its files.",
   "id": "a677562c4b0048b0"
  },
  {
   "metadata": {
    "ExecuteTime": {
     "end_time": "2024-12-30T15:26:54.960606Z",
     "start_time": "2024-12-30T15:19:59.768572Z"
    }
   },
   "cell_type": "code",
   "source": [
    "evaluate(\n",
    "    start_point=0,\n",
    "    end_point=6,  # None - all the data\n",
    "    sleep_time_each_10_iter=5,\n",
    "    batch_size=3\n",
    ")"
   ],
   "id": "ad00e99d33826845",
   "outputs": [],
   "execution_count": 5
  },
  {
   "metadata": {},
   "cell_type": "markdown",
   "source": "### if you added rule_type, you can reload again. notice it will reload all the rule types in the directory again!",
   "id": "f2c9b91bcc470176"
  }
 ],
 "metadata": {
  "kernelspec": {
   "display_name": "Python 3",
   "language": "python",
   "name": "python3"
  },
  "language_info": {
   "codemirror_mode": {
    "name": "ipython",
    "version": 2
   },
   "file_extension": ".py",
   "mimetype": "text/x-python",
   "name": "python",
   "nbconvert_exporter": "python",
   "pygments_lexer": "ipython2",
   "version": "2.7.6"
  }
 },
 "nbformat": 4,
 "nbformat_minor": 5
}
