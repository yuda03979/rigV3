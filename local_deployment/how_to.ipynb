{
 "cells": [
  {
   "metadata": {},
   "cell_type": "markdown",
   "source": [
    "# first:\n",
    "- download ollama \n",
    "- run in terminal ollama serve. \n",
    "- if you don't have internet - load the models (README - and the last cell)"
   ],
   "id": "4a2d43f6deccd5b0"
  },
  {
   "metadata": {
    "ExecuteTime": {
     "end_time": "2025-01-07T21:44:06.823295Z",
     "start_time": "2025-01-07T21:44:06.819859Z"
    }
   },
   "cell_type": "code",
   "source": [
    "import nest_asyncio\n",
    "nest_asyncio.apply()"
   ],
   "id": "f58f9f87f61705e4",
   "outputs": [],
   "execution_count": 1
  },
  {
   "cell_type": "code",
   "id": "initial_id",
   "metadata": {
    "collapsed": true,
    "ExecuteTime": {
     "end_time": "2025-01-07T21:44:08.059233Z",
     "start_time": "2025-01-07T21:44:07.031186Z"
    }
   },
   "source": "from src.rig import Rig",
   "outputs": [],
   "execution_count": 2
  },
  {
   "metadata": {
    "ExecuteTime": {
     "end_time": "2025-01-07T21:44:08.213099Z",
     "start_time": "2025-01-07T21:44:08.060178Z"
    }
   },
   "cell_type": "code",
   "source": "rig = Rig()",
   "id": "a8d89b711cd268a1",
   "outputs": [],
   "execution_count": 3
  },
  {
   "metadata": {
    "ExecuteTime": {
     "end_time": "2025-01-06T09:59:03.201963Z",
     "start_time": "2025-01-06T09:59:01.713683Z"
    }
   },
   "cell_type": "code",
   "source": "rig.set_rules()",
   "id": "2b721a2c32794c50",
   "outputs": [
    {
     "data": {
      "text/plain": [
       "True"
      ]
     },
     "execution_count": 3,
     "metadata": {},
     "output_type": "execute_result"
    }
   ],
   "execution_count": 3
  },
  {
   "metadata": {},
   "cell_type": "code",
   "source": "rig.add_rule(\"Actor.json\")",
   "id": "e195c1c5fc8409f",
   "outputs": [],
   "execution_count": null
  },
  {
   "metadata": {
    "ExecuteTime": {
     "end_time": "2025-01-07T19:19:28.508205Z",
     "start_time": "2025-01-07T19:19:28.503312Z"
    }
   },
   "cell_type": "code",
   "source": [
    "# get list of existing rule types:\n",
    "len(rig.get_rules_names())"
   ],
   "id": "40f11096719ee8f8",
   "outputs": [
    {
     "data": {
      "text/plain": [
       "109"
      ]
     },
     "execution_count": 4,
     "metadata": {},
     "output_type": "execute_result"
    }
   ],
   "execution_count": 4
  },
  {
   "metadata": {
    "ExecuteTime": {
     "end_time": "2025-01-06T18:46:19.660781Z",
     "start_time": "2025-01-06T18:46:19.657859Z"
    }
   },
   "cell_type": "code",
   "source": "rig.tweak_parameters(rag_threshold=0.5, examples_rag_threshold=0.95)",
   "id": "de07b79d8614b256",
   "outputs": [
    {
     "data": {
      "text/plain": [
       "True"
      ]
     },
     "execution_count": 4,
     "metadata": {},
     "output_type": "execute_result"
    }
   ],
   "execution_count": 4
  },
  {
   "metadata": {},
   "cell_type": "markdown",
   "source": "## get rule instance from free text",
   "id": "af0758f5e833cca9"
  },
  {
   "metadata": {
    "ExecuteTime": {
     "end_time": "2025-01-07T21:44:40.674849Z",
     "start_time": "2025-01-07T21:44:37.747315Z"
    }
   },
   "cell_type": "code",
   "source": [
    "free_text = \"An instance of ruleInstanceName - mechanic Evaluation needs to be created, dealing with the severity level two. The scavenging efficiency of this falcon is, let's say, 30. However.\" + \", the beak sharpness is much sharper, let's say something like eight. The falcon's vision acuity is good, and the wing span is, um, eighty. The level of thermal riding skill is intermediate. The bone digestion efficiency is much higher, at about eighty-five. And the feather maintenance? That's excellent\"\n",
    "\n",
    "response = rig.get_rule_instance(free_text) # return dictionary\n",
    "response['is_error']"
   ],
   "id": "d41d9ff66ad84cda",
   "outputs": [
    {
     "data": {
      "text/plain": [
       "False"
      ]
     },
     "execution_count": 5,
     "metadata": {},
     "output_type": "execute_result"
    }
   ],
   "execution_count": 5
  },
  {
   "metadata": {
    "ExecuteTime": {
     "end_time": "2025-01-07T20:08:44.072479Z",
     "start_time": "2025-01-07T20:08:44.069180Z"
    }
   },
   "cell_type": "code",
   "source": "response[\"rule_instance\"]",
   "id": "8272c662c671476c",
   "outputs": [
    {
     "data": {
      "text/plain": [
       "{'_id': '00000000-0000-0000-0000-000000000000',\n",
       " 'description': 'string',\n",
       " 'isActive': True,\n",
       " 'lastUpdateTime': '00/00/0000 00:00:00',\n",
       " 'params': {'Scavenging efficiency': 30,\n",
       "  'Flight altitude': None,\n",
       "  'Beak sharpness': 8,\n",
       "  'Vision acuity': 'good',\n",
       "  'Wing span': 80,\n",
       "  'Thermal riding skill': 'intermediate',\n",
       "  'Bone digestion': 85,\n",
       "  'Feather maintenance': 'excellent'},\n",
       " 'ruleInstanceName': 'mechanic Evaluation',\n",
       " 'severity': 2,\n",
       " 'ruleType': 'structured',\n",
       " 'ruleOwner': '',\n",
       " 'ruleTypeId': '1b5db158-d5de-47c6-90f6-25688ffece4b',\n",
       " 'eventDetails': [{'objectName': 'Vulture',\n",
       "   'objectDescription': None,\n",
       "   'timeWindowInMilliseconds': 0,\n",
       "   'useLatest': False}],\n",
       " 'additionalInformation': {},\n",
       " 'presetId': '00000000-0000-0000-0000-000000000000'}"
      ]
     },
     "execution_count": 5,
     "metadata": {},
     "output_type": "execute_result"
    }
   ],
   "execution_count": 5
  },
  {
   "metadata": {
    "ExecuteTime": {
     "end_time": "2025-01-07T21:00:41.385544Z",
     "start_time": "2025-01-07T21:00:41.382154Z"
    }
   },
   "cell_type": "code",
   "source": "response.keys()",
   "id": "291f52e6d13fea73",
   "outputs": [
    {
     "data": {
      "text/plain": [
       "dict_keys(['query', 'message', 'is_error', 'agents_massages', 'total_infer_time', 'Uuid', 'dateTtime', 'rule_name', 'rule_instance_params', 'confidence', 'error_message', 'rule_instance'])"
      ]
     },
     "execution_count": 8,
     "metadata": {},
     "output_type": "execute_result"
    }
   ],
   "execution_count": 8
  },
  {
   "metadata": {
    "ExecuteTime": {
     "end_time": "2025-01-07T21:45:02.650671Z",
     "start_time": "2025-01-07T21:44:56.552730Z"
    }
   },
   "cell_type": "code",
   "source": [
    "free_text = \"An instance of Bird Evaluation - Albatross Inspection needs to be set up, dealing with the species Albatross. The feather smoothness of the bird is, um, very rough. However, the wing strength was much more stable, let's say something like twenty. The bird's swimming elegance is low, and the complexity of the mating dance is complex. The nest-building skills of the bird are poor, and the seasonal migration is affirmative. The bird's position in the social hierarchy is lower, and the severity of the inspection is four.\"\n",
    "\n",
    "response = rig.get_rule_instance(free_text) # return dictionary\n"
   ],
   "id": "a0ff1b723ede9989",
   "outputs": [],
   "execution_count": 6
  },
  {
   "metadata": {
    "ExecuteTime": {
     "end_time": "2025-01-06T19:17:42.842939Z",
     "start_time": "2025-01-06T19:17:42.839251Z"
    }
   },
   "cell_type": "code",
   "source": "response[\"rule_instance\"]\n",
   "id": "29a3b3e30f4915aa",
   "outputs": [
    {
     "data": {
      "text/plain": [
       "{'_id': '00000000-0000-0000-0000-000000000000',\n",
       " 'description': 'string',\n",
       " 'isActive': True,\n",
       " 'lastUpdateTime': '00/00/0000 00:00:00',\n",
       " 'params': {'Feather smoothness': 'very rough',\n",
       "  'Neck length': 'null',\n",
       "  'Swimming elegance': 'low',\n",
       "  'Mating dance complexity': 'complex',\n",
       "  'Nest-building skills': 'poor',\n",
       "  'Wing strength': 20,\n",
       "  'Seasonal migration': 'affirmative',\n",
       "  'Social hierarchy': 'lower'},\n",
       " 'ruleInstanceName': 'Albatross Inspection',\n",
       " 'severity': 4,\n",
       " 'ruleType': 'structured',\n",
       " 'ruleOwner': '',\n",
       " 'ruleTypeId': '100044a9-1493-41c0-b9cb-3ad4dd2ff9ee',\n",
       " 'eventDetails': [{'objectName': 'Swan',\n",
       "   'objectDescription': None,\n",
       "   'timeWindowInMilliseconds': 0,\n",
       "   'useLatest': False}],\n",
       " 'additionalInformation': {},\n",
       " 'presetId': '00000000-0000-0000-0000-000000000000'}"
      ]
     },
     "execution_count": 12,
     "metadata": {},
     "output_type": "execute_result"
    }
   ],
   "execution_count": 12
  },
  {
   "metadata": {
    "ExecuteTime": {
     "end_time": "2025-01-06T12:32:11.097531Z",
     "start_time": "2025-01-06T12:32:10.997083Z"
    }
   },
   "cell_type": "code",
   "source": [
    "# giving us feedback on the response. it will help us to improve the project. it stores in .logs file, without internet connection.\n",
    "rig.feedback(rig_response=response, good=True)  # or 0.8, or what ever you can  "
   ],
   "id": "1fd6dbf5fae064c9",
   "outputs": [
    {
     "data": {
      "text/plain": [
       "True"
      ]
     },
     "execution_count": 8,
     "metadata": {},
     "output_type": "execute_result"
    }
   ],
   "execution_count": 8
  },
  {
   "metadata": {},
   "cell_type": "markdown",
   "source": "# now you can run the evaluation:",
   "id": "e347cadf3211cca9"
  },
  {
   "metadata": {
    "ExecuteTime": {
     "end_time": "2025-01-07T19:24:47.691750Z",
     "start_time": "2025-01-07T19:23:48.141349Z"
    }
   },
   "cell_type": "code",
   "source": [
    "rig.evaluate(\n",
    "    start_point=0,\n",
    "    end_point=50,  #  -1 or None for all the data\n",
    "    jump=5,\n",
    "    sleep_time_each_10_iter=5,\n",
    "    batch_size=1000\n",
    ")"
   ],
   "id": "3a636acd65e09e7b",
   "outputs": [
    {
     "name": "stderr",
     "output_type": "stream",
     "text": [
      "100%|██████████| 10/10 [00:59<00:00,  5.93s/it]"
     ]
    },
    {
     "name": "stdout",
     "output_type": "stream",
     "text": [
      "\n",
      "Average Accuracy Metrics:\n",
      "binary_score: 100.00%\n",
      "binary_score_no_instance_name: 100.00%\n",
      "param_numerical_binary_score: 100.00%\n",
      "param_numerical_avg_score: 100.00%\n",
      "param_verbal_binary_score: 100.00%\n",
      "param_verbal_avg_score: 100.00%\n",
      "score_rule_instance_name: 100.00%\n",
      "classification score: 100.00%\n",
      "\n",
      "Average Accuracy Metrics:\n",
      "binary_score: 100.00%\n",
      "binary_score_no_instance_name: 100.00%\n",
      "param_numerical_binary_score: 100.00%\n",
      "param_numerical_avg_score: 100.00%\n",
      "param_verbal_binary_score: 100.00%\n",
      "param_verbal_avg_score: 100.00%\n",
      "score_rule_instance_name: 100.00%\n",
      "classification score: 100.00%\n"
     ]
    },
    {
     "name": "stderr",
     "output_type": "stream",
     "text": [
      "\n"
     ]
    },
    {
     "data": {
      "text/plain": [
       "{'binary_score': '100.00%',\n",
       " 'binary_score_no_instance_name': '100.00%',\n",
       " 'param_numerical_binary_score': '100.00%',\n",
       " 'param_numerical_avg_score': '100.00%',\n",
       " 'param_verbal_binary_score': '100.00%',\n",
       " 'param_verbal_avg_score': '100.00%',\n",
       " 'score_rule_instance_name': '100.00%',\n",
       " 'classification score': '100.00%'}"
      ]
     },
     "execution_count": 4,
     "metadata": {},
     "output_type": "execute_result"
    }
   ],
   "execution_count": 4
  },
  {
   "metadata": {},
   "cell_type": "code",
   "source": "",
   "id": "1bc030c413df1aec",
   "outputs": [],
   "execution_count": null
  }
 ],
 "metadata": {
  "kernelspec": {
   "display_name": "Python 3",
   "language": "python",
   "name": "python3"
  },
  "language_info": {
   "codemirror_mode": {
    "name": "ipython",
    "version": 2
   },
   "file_extension": ".py",
   "mimetype": "text/x-python",
   "name": "python",
   "nbconvert_exporter": "python",
   "pygments_lexer": "ipython2",
   "version": "2.7.6"
  }
 },
 "nbformat": 4,
 "nbformat_minor": 5
}
