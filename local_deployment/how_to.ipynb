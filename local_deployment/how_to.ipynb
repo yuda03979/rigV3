{
 "cells": [
  {
   "metadata": {},
   "cell_type": "markdown",
   "source": [
    "# first:\n",
    "- download ollama \n",
    "- run in terminal ollama serve. \n",
    "- if you don't have internet - load the models (README - and the last cell)"
   ],
   "id": "4a2d43f6deccd5b0"
  },
  {
   "cell_type": "code",
   "id": "initial_id",
   "metadata": {
    "collapsed": true,
    "jupyter": {
     "is_executing": true
    }
   },
   "source": [
    "import nest_asyncio\n",
    "nest_asyncio.apply()\n",
    "\n",
    "from src.rig import Rig\n",
    "rig = Rig()"
   ],
   "outputs": [],
   "execution_count": null
  },
  {
   "metadata": {},
   "cell_type": "markdown",
   "source": "# rules",
   "id": "e22de09787a2af6"
  },
  {
   "metadata": {},
   "cell_type": "markdown",
   "source": "### restarting the db's",
   "id": "b1be9004e42c8125"
  },
  {
   "metadata": {
    "jupyter": {
     "is_executing": true
    }
   },
   "cell_type": "code",
   "source": "rig.restart(db_rules=True, db_examples=True, db_sites=True)",
   "id": "f9e3a652613b0763",
   "outputs": [],
   "execution_count": null
  },
  {
   "metadata": {},
   "cell_type": "markdown",
   "source": [
    "### load the rules. if you did it before and didnt change anything it will load them automatically\n",
    "- it can get list of rule_types, or leave it empty and load it from the directory"
   ],
   "id": "37f7a41f8cfd2682"
  },
  {
   "metadata": {
    "jupyter": {
     "is_executing": true
    }
   },
   "cell_type": "code",
   "source": "rig.set_rules()  # reset the db",
   "id": "2b721a2c32794c50",
   "outputs": [],
   "execution_count": null
  },
  {
   "metadata": {},
   "cell_type": "markdown",
   "source": "### load specific rule, can get file name, or actual rule type",
   "id": "5b73b08f3df618ba"
  },
  {
   "metadata": {},
   "cell_type": "markdown",
   "source": "### remove one rule by name",
   "id": "38b8c98dce16c0d0"
  },
  {
   "metadata": {
    "jupyter": {
     "is_executing": true
    }
   },
   "cell_type": "code",
   "source": "rig.remove_rule(rule_name=\"actor\")",
   "id": "454e4b6d7b5027a6",
   "outputs": [],
   "execution_count": null
  },
  {
   "metadata": {
    "jupyter": {
     "is_executing": true
    }
   },
   "cell_type": "code",
   "source": "rig.add_rule(\"Actor.json\") # or dict",
   "id": "73d78854081441f6",
   "outputs": [],
   "execution_count": null
  },
  {
   "metadata": {},
   "cell_type": "markdown",
   "source": "### return existing rule types names",
   "id": "19e4cc33f4d6332c"
  },
  {
   "metadata": {
    "jupyter": {
     "is_executing": true
    }
   },
   "cell_type": "code",
   "source": "rig.get_rules_names()",
   "id": "40f11096719ee8f8",
   "outputs": [],
   "execution_count": null
  },
  {
   "metadata": {},
   "cell_type": "markdown",
   "source": "### get parameters of rule type that exist in the system",
   "id": "dcb45c123eb6fe9b"
  },
  {
   "metadata": {
    "jupyter": {
     "is_executing": true
    }
   },
   "cell_type": "code",
   "source": [
    "rule_name = \"actor\"\n",
    "rig.get_rule_details(rule_name)"
   ],
   "id": "9375fe7dfd42926f",
   "outputs": [],
   "execution_count": null
  },
  {
   "metadata": {},
   "cell_type": "markdown",
   "source": "# site",
   "id": "8242c190fd93a08a"
  },
  {
   "metadata": {},
   "cell_type": "markdown",
   "source": "### deleting existing sites and loading the new ones into the db (and the agent)",
   "id": "5fbd25e869d96050"
  },
  {
   "metadata": {
    "jupyter": {
     "is_executing": true
    }
   },
   "cell_type": "code",
   "source": [
    "sites = [\n",
    "    {'site': 'ashdod', 'site_id': '1234'},\n",
    "    {'site': 'Elta', 'site_id': 4321}\n",
    "]\n",
    "rig.set_sites(sites=sites)"
   ],
   "id": "7cb840e2f7492391",
   "outputs": [],
   "execution_count": null
  },
  {
   "metadata": {},
   "cell_type": "markdown",
   "source": "### add only one site. don't delete the existing sites",
   "id": "94fcf9925dbf0362"
  },
  {
   "metadata": {
    "jupyter": {
     "is_executing": true
    }
   },
   "cell_type": "code",
   "source": [
    "single_site = {'site': 'hapalmach', 'site_id': '33'}\n",
    "rig.add_site(site=single_site)"
   ],
   "id": "60f802536390b051",
   "outputs": [],
   "execution_count": null
  },
  {
   "metadata": {},
   "cell_type": "markdown",
   "source": "### get list of existing sites",
   "id": "793dbb6ea985ad17"
  },
  {
   "metadata": {
    "jupyter": {
     "is_executing": true
    }
   },
   "cell_type": "code",
   "source": "rig.get_existing_sites()",
   "id": "5eae43ee771645d",
   "outputs": [],
   "execution_count": null
  },
  {
   "metadata": {},
   "cell_type": "markdown",
   "source": "### remove one site",
   "id": "2ad962216e55ecdc"
  },
  {
   "metadata": {
    "jupyter": {
     "is_executing": true
    }
   },
   "cell_type": "code",
   "source": "rig.remove_site(site_name='hapalmach')",
   "id": "bd22e66002718bc8",
   "outputs": [],
   "execution_count": null
  },
  {
   "metadata": {},
   "cell_type": "markdown",
   "source": [
    "### change parameters (of the rag. can get only one parameter if you want) \n",
    "- classification_threshold\n",
    "- classification_temperature (for the softmax)\n",
    "- examples_rag_threshold"
   ],
   "id": "42aad88316f954e0"
  },
  {
   "metadata": {
    "jupyter": {
     "is_executing": true
    }
   },
   "cell_type": "code",
   "source": [
    "rig.tweak_parameters(\n",
    "    rag_temperature=0.001,\n",
    "    classification_threshold=0.001,\n",
    "    site_rag_threshold=0.001,\n",
    "    add_example_rag_threshold=0.5\n",
    ")"
   ],
   "id": "de07b79d8614b256",
   "outputs": [],
   "execution_count": null
  },
  {
   "metadata": {},
   "cell_type": "markdown",
   "source": "## get rule instance from free text",
   "id": "af0758f5e833cca9"
  },
  {
   "metadata": {
    "jupyter": {
     "is_executing": true
    }
   },
   "cell_type": "code",
   "source": [
    "free_text = \"An instance of ruleInstanceName - mechanic Evaluation needs to be created, dealing with the severity level two. The scavenging efficiency of this falcon is, let's say, 30. However.\" + \", the beak sharpness is much sharper, let's say something like eight. The falcon's vision acuity is good, and the wing span is, um, eighty. The level of thermal riding skill is intermediate. The bone digestion efficiency , at about i dont know... actually i do know! what i wanted to say... uh! is much higher, eighty-five. And the feather maintenance? That's excellent site is ashdoda\"\n",
    "\n",
    "response = rig.get_rule_instance(free_text) # return dictionary\n",
    "response['is_error']"
   ],
   "id": "d41d9ff66ad84cda",
   "outputs": [],
   "execution_count": null
  },
  {
   "metadata": {},
   "cell_type": "markdown",
   "source": "#### confidence: 1 is good, -2 is mistake in the rule classification (-1 its undefined, 0 is we think its wrong)  ",
   "id": "4d1dae0877c1af4f"
  },
  {
   "metadata": {
    "jupyter": {
     "is_executing": true
    }
   },
   "cell_type": "code",
   "source": "response['confidence']",
   "id": "8920ccb3ff490d4",
   "outputs": [],
   "execution_count": null
  },
  {
   "metadata": {
    "jupyter": {
     "is_executing": true
    }
   },
   "cell_type": "code",
   "source": [
    "print(response.keys())\n",
    "response[\"rule_instance\"]"
   ],
   "id": "8272c662c671476c",
   "outputs": [],
   "execution_count": null
  },
  {
   "metadata": {},
   "cell_type": "markdown",
   "source": "# you can feedback if the text was good or not (True/False)",
   "id": "860ab10f5bd80840"
  },
  {
   "metadata": {
    "jupyter": {
     "is_executing": true
    }
   },
   "cell_type": "code",
   "source": [
    "# giving us feedback on the response. it will help us to improve the project. it stores in .logs file, without internet connection.\n",
    "rig.feedback(rig_response=response, good=True)  # or 0.8, or what ever you can  "
   ],
   "id": "1fd6dbf5fae064c9",
   "outputs": [],
   "execution_count": null
  },
  {
   "metadata": {},
   "cell_type": "markdown",
   "source": "# now you can run the evaluation:",
   "id": "e347cadf3211cca9"
  },
  {
   "metadata": {
    "jupyter": {
     "is_executing": true
    }
   },
   "cell_type": "code",
   "source": [
    "\n",
    "rig.evaluate(\n",
    "    start_point=0,\n",
    "    end_point=10,  #  -1 or None for all the data\n",
    "    jump=2,\n",
    "    sleep_time_each_10_iter=5,\n",
    "    batch_size=1000,\n",
    "    set_eval_rules=True\n",
    ")\n",
    "# in this example, it will sample only 2 points"
   ],
   "id": "3a636acd65e09e7b",
   "outputs": [],
   "execution_count": null
  },
  {
   "metadata": {
    "jupyter": {
     "is_executing": true
    }
   },
   "cell_type": "code",
   "source": "rig.metadata()",
   "id": "eec2a3c31ff9003b",
   "outputs": [],
   "execution_count": null
  },
  {
   "metadata": {},
   "cell_type": "markdown",
   "source": "# this is only an option. maybe working - maybe not",
   "id": "c6facbe50cf844eb"
  },
  {
   "metadata": {
    "jupyter": {
     "is_executing": true
    }
   },
   "cell_type": "code",
   "source": [
    "free_text_hebrew = \"יש ליצור אינסטנציה של שםחוק ציפור עיט. הערכת החומרה צריכה להתבצע, בהתמודדות עם רמת סיכון שתיים. יעילות הסילוק של העיט הזה היא, נאמר, 30. עם זאת, החדות של המקור הרבה יותר חדה, נאמר משהו כמו שמונה. חדות הראייה של העיט טובה, והספאן של הכנפיים הוא, אממ, שמונים. רמת כישוריו בטיסת תרמילים היא בינונית. יעילות עיכול העצמות, בערך אני לא יודע… למעשה, אני כן יודע! מה שרציתי לומר… אה! הרבה יותר גבוהה, שמונים וחמש. תחזוקת הנוצות? זה מצוין. האתר הוא אשדוד.\"\n",
    "translated_free_text = rig.rephrase_query(free_text_hebrew)\n",
    "translated_free_text"
   ],
   "id": "86aa46d77165c08a",
   "outputs": [],
   "execution_count": null
  },
  {
   "metadata": {
    "jupyter": {
     "is_executing": true
    }
   },
   "cell_type": "code",
   "source": [
    "response = rig.get_rule_instance(translated_free_text) # return dictionary\n",
    "response['rule_instance']"
   ],
   "id": "c9c3c6e9b0f2c269",
   "outputs": [],
   "execution_count": null
  }
 ],
 "metadata": {
  "kernelspec": {
   "display_name": "Python 3",
   "language": "python",
   "name": "python3"
  },
  "language_info": {
   "codemirror_mode": {
    "name": "ipython",
    "version": 2
   },
   "file_extension": ".py",
   "mimetype": "text/x-python",
   "name": "python",
   "nbconvert_exporter": "python",
   "pygments_lexer": "ipython2",
   "version": "2.7.6"
  }
 },
 "nbformat": 4,
 "nbformat_minor": 5
}
