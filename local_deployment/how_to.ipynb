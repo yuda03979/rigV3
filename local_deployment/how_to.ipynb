{
 "cells": [
  {
   "metadata": {},
   "cell_type": "markdown",
   "source": [
    "# first:\n",
    "- download ollama \n",
    "- run in terminal ollama serve. \n",
    "- if you don't have internet - load the models (README - and the last cell)"
   ],
   "id": "4a2d43f6deccd5b0"
  },
  {
   "metadata": {
    "ExecuteTime": {
     "end_time": "2025-01-09T01:13:50.358676Z",
     "start_time": "2025-01-09T01:13:50.355619Z"
    }
   },
   "cell_type": "code",
   "source": [
    "import nest_asyncio\n",
    "nest_asyncio.apply()"
   ],
   "id": "f58f9f87f61705e4",
   "outputs": [],
   "execution_count": 1
  },
  {
   "cell_type": "code",
   "id": "initial_id",
   "metadata": {
    "collapsed": true,
    "ExecuteTime": {
     "end_time": "2025-01-09T01:13:51.661383Z",
     "start_time": "2025-01-09T01:13:50.584260Z"
    }
   },
   "source": [
    "from src.rig import Rig\n",
    "rig = Rig()"
   ],
   "outputs": [],
   "execution_count": 2
  },
  {
   "metadata": {},
   "cell_type": "markdown",
   "source": [
    "### load the rules. if you did it before and didnt change anything it will load them automatically\n",
    "- it can get list of rule_types, or leave it empty and load it from the directory"
   ],
   "id": "37f7a41f8cfd2682"
  },
  {
   "metadata": {
    "ExecuteTime": {
     "end_time": "2025-01-09T01:08:05.755731Z",
     "start_time": "2025-01-09T01:08:05.742498Z"
    }
   },
   "cell_type": "code",
   "source": "rig.metadata()",
   "id": "dd1aaf80f1ec715d",
   "outputs": [
    {
     "data": {
      "text/plain": [
       "{'ram_usage': {'RSS': 'RSS (Resident Set Size): 224.84 MB',\n",
       "  'VMS': 'VMS (Virtual Memory Size): 403331.14 MB'},\n",
       " 'agents_data': \"{'num_agents': 4, 'agents_nicknames': ['summarization', 'rule_classifier', 'examples_finder', 'rule_instance_generator'], 'models_loaded': ['gemma-2-2b-it-Q8_0:rig', 'snowflake-arctic-embed-137m:rig', 'snowflake-arctic-embed-137m:rig', ['gemma-2-2b-it-Q8_0:rig', 'Falcon3-3B-Instruct-q4_k_m:rig']], 'models_nicknames': ['summarization_AgentSummarize_gemma-2-2b-it-Q8_0:rig', 'rule_classifier_AgentRuleClassifier_snowflake-arctic-embed-137m:rig', 'examples_finder_AgentExamplesClassifier_snowflake-arctic-embed-137m:rig', ['AsyncAgentGenerateSchema_gemma-2-2b-it-Q8_0:rig', 'AsyncAgentGenerateSchema_Falcon3-3B-Instruct-q4_k_m:rig']]}\",\n",
       " 'averages': {'avg_infer_time': 5.985560357570648, 'avg_errors': 0.25},\n",
       " 'globals_data': {'__module__': 'src.globals',\n",
       "  'summarization_agent': 'summarization',\n",
       "  'rule_classifier_agent': 'rule_classifier',\n",
       "  'examples_finder_agent': 'examples_finder',\n",
       "  'rule_instance_generator_agent': 'rule_instance_generator',\n",
       "  'generation_model_name': 'gemma-2-2b-it-Q8_0:rig',\n",
       "  'validation_model_name': 'Falcon3-3B-Instruct-q4_k_m:rig',\n",
       "  'rag_model_name': 'snowflake-arctic-embed-137m:rig',\n",
       "  'project_dir': '/Users/yuda/PycharmProjects/RigV3/project_dir',\n",
       "  'eval_dir': '/Users/yuda/PycharmProjects/RigV3/eval_dir',\n",
       "  'classification_threshold': '0.005',\n",
       "  'classification_temperature': '0.02',\n",
       "  'examples_rag_threshold': '0.9',\n",
       "  'db_rules_path': '/Users/yuda/PycharmProjects/RigV3/project_dir/db_rules.csv',\n",
       "  'db_examples_path': '/Users/yuda/PycharmProjects/RigV3/project_dir/db_examples.csv',\n",
       "  'db_unknowns_path': '/Users/yuda/PycharmProjects/RigV3/project_dir/db_unknowns.csv',\n",
       "  'rules_folder_path': '/Users/yuda/PycharmProjects/RigV3/project_dir/rule_types',\n",
       "  'evaluation_rules_folder_path': '/Users/yuda/PycharmProjects/RigV3/eval_dir/rule_types',\n",
       "  'evaluation_data_path': '/Users/yuda/PycharmProjects/RigV3/eval_dir/evaluation_data.csv',\n",
       "  'evaluation_output_dir': '/Users/yuda/PycharmProjects/RigV3/eval_dir/eval/output',\n",
       "  '__dict__': \"<attribute '__dict__' of 'Globals' objects>\",\n",
       "  '__weakref__': \"<attribute '__weakref__' of 'Globals' objects>\",\n",
       "  '__doc__': 'None'},\n",
       " 'ollama_models': {'existing_models': ListResponse(models=[Model(model='snowflake-arctic-embed-137m:rig', modified_at=datetime.datetime(2025, 1, 1, 11, 27, 46, 277768, tzinfo=TzInfo(+02:00)), digest='066176a19a6daee897e084830f09ce99206acacb2ee5d12f4d156837c92969bc', size=274178631, details=ModelDetails(parent_model='', format='gguf', family='nomic-bert', families=['nomic-bert'], parameter_size='136.73M', quantization_level='F16')), Model(model='gemma-2-2b-it-Q8_0:rig', modified_at=datetime.datetime(2025, 1, 1, 11, 27, 46, 69268, tzinfo=TzInfo(+02:00)), digest='b2d33831880f70d01c3178bc3cffd53487afd837045f0edb3a7579c820466187', size=2784496366, details=ModelDetails(parent_model='', format='gguf', family='gemma2', families=['gemma2'], parameter_size='2.6B', quantization_level='Q8_0')), Model(model='phi3:3.8b-instruct', modified_at=datetime.datetime(2024, 12, 31, 23, 3, 1, 308844, tzinfo=TzInfo(+02:00)), digest='4f222292793889a9a40a020799cfd28d53f3e01af25d48e06c5e708610fc47e9', size=2176178913, details=ModelDetails(parent_model='', format='gguf', family='phi3', families=['phi3'], parameter_size='3.8B', quantization_level='Q4_0')), Model(model='tinyllama:1.1b', modified_at=datetime.datetime(2024, 12, 31, 19, 12, 58, 373632, tzinfo=TzInfo(+02:00)), digest='2644915ede352ea7bdfaff0bfac0be74c719d5d5202acb63a6fb095b52f394a4', size=637700138, details=ModelDetails(parent_model='', format='gguf', family='llama', families=['llama'], parameter_size='1B', quantization_level='Q4_0')), Model(model='vicuna:7b', modified_at=datetime.datetime(2024, 12, 31, 17, 59, 24, 58600, tzinfo=TzInfo(+02:00)), digest='370739dc897bba0188d390bb7659e48d926cacc320875136d0115228023b1590', size=3825807726, details=ModelDetails(parent_model='', format='gguf', family='llama', families=None, parameter_size='7B', quantization_level='Q4_0')), Model(model='falcon3:7b-instruct-q4_K_M', modified_at=datetime.datetime(2024, 12, 31, 17, 51, 25, 899831, tzinfo=TzInfo(+02:00)), digest='472ea1c89f64f932368963bfb8c7f54bd797f2161932cf0a72766a587b2e586d', size=4569738977, details=ModelDetails(parent_model='', format='gguf', family='llama', families=['llama'], parameter_size='7.5B', quantization_level='Q4_K_M')), Model(model='mistral:7b-instruct-q4_K_M', modified_at=datetime.datetime(2024, 12, 31, 16, 1, 50, 391510, tzinfo=TzInfo(+02:00)), digest='1a85656b534f84f8ab5b235aa0e24a954769539b0f47a4bd11f5272cba43c892', size=4369387754, details=ModelDetails(parent_model='', format='gguf', family='llama', families=['llama'], parameter_size='7B', quantization_level='Q4_K_M')), Model(model='Falcon3-3B-Instruct-q4_k_m:rig', modified_at=datetime.datetime(2024, 12, 31, 14, 22, 12, 103046, tzinfo=TzInfo(+02:00)), digest='9b7642325e758cd2c3ec47525053e9fcf185cff880ef8fab859113682e6244b8', size=2005696513, details=ModelDetails(parent_model='', format='gguf', family='llama', families=['llama'], parameter_size='3.2B', quantization_level='Q4_K_M')), Model(model='qwen2.5max:latest', modified_at=datetime.datetime(2024, 12, 29, 1, 40, 52, 962549, tzinfo=TzInfo(+02:00)), digest='ec4ed45cc7bac42008ae2b1893a206a6d4f583674b44c576eeb3fbd62f89df4a', size=4683087424, details=ModelDetails(parent_model='', format='gguf', family='qwen2', families=['qwen2'], parameter_size='7.6B', quantization_level='Q4_K_M')), Model(model='qwen2.5:latest', modified_at=datetime.datetime(2024, 12, 29, 1, 39, 52, 503312, tzinfo=TzInfo(+02:00)), digest='845dbda0ea48ed749caafd9e6037047aa19acfcfd82e704d7ca97d631a0b697e', size=4683087332, details=ModelDetails(parent_model='', format='gguf', family='qwen2', families=['qwen2'], parameter_size='7.6B', quantization_level='Q4_K_M')), Model(model='snowflake-arctic-embed:137m', modified_at=datetime.datetime(2024, 12, 26, 23, 7, 11, 804738, tzinfo=TzInfo(+02:00)), digest='12616299a158799353f29e8697de067e7079f0a75abeb6a946bda70e1173a86c', size=274189495, details=ModelDetails(parent_model='', format='gguf', family='nomic-bert', families=['nomic-bert'], parameter_size='137M', quantization_level='F16')), Model(model='hermes3:3b', modified_at=datetime.datetime(2024, 12, 26, 17, 14, 58, 421801, tzinfo=TzInfo(+02:00)), digest='a8851c5041d400c8eece484771e0a9f438e6500de9f22150ef2863bf7209fbd9', size=2019384442, details=ModelDetails(parent_model='', format='gguf', family='llama', families=['llama'], parameter_size='3.2B', quantization_level='Q4_K_M')), Model(model='internlm2:1.8b', modified_at=datetime.datetime(2024, 12, 26, 17, 11, 26, 713618, tzinfo=TzInfo(+02:00)), digest='653be3eb69a08cb0a42dfa19194888c74092bfdc59a270844be4842c62cb692d', size=1113983695, details=ModelDetails(parent_model='', format='gguf', family='internlm2', families=['internlm2'], parameter_size='1.9B', quantization_level='Q4_0')), Model(model='dolphin-phi:latest', modified_at=datetime.datetime(2024, 12, 26, 17, 6, 58, 81087, tzinfo=TzInfo(+02:00)), digest='c5761fc772409945787240af89a5cce01dd39dc52f1b7b80d080a1163e8dbe10', size=1602473850, details=ModelDetails(parent_model='', format='gguf', family='phi2', families=['phi2'], parameter_size='3B', quantization_level='Q4_0')), Model(model='stablelm-zephyr:3b', modified_at=datetime.datetime(2024, 12, 26, 17, 5, 43, 608277, tzinfo=TzInfo(+02:00)), digest='0a108dbd846e2b0ee264a71a28e50ac18e7f1601eeb2d677217602d32644bf24', size=1608579394, details=ModelDetails(parent_model='', format='gguf', family='stablelm', families=['stablelm'], parameter_size='3B', quantization_level='Q4_0')), Model(model='granite3-dense:latest', modified_at=datetime.datetime(2024, 12, 26, 17, 2, 15, 522859, tzinfo=TzInfo(+02:00)), digest='5c2e6f3112f4f396c4c5221e4b5c85d002d17d06911604cd56b9359d7e6e5f7a', size=1601931868, details=ModelDetails(parent_model='', format='gguf', family='granite', families=['granite'], parameter_size='2.6B', quantization_level='Q4_K_M')), Model(model='orca-mini:3b', modified_at=datetime.datetime(2024, 12, 26, 16, 54, 12, 361773, tzinfo=TzInfo(+02:00)), digest='2dbd9f439647093cf773c325b0b3081a11f1b1426d61dee8b946f8f6555a1755', size=1979947443, details=ModelDetails(parent_model='', format='gguf', family='llama', families=None, parameter_size='3B', quantization_level='Q4_0')), Model(model='shieldgemma:2b', modified_at=datetime.datetime(2024, 12, 26, 16, 47, 11, 736076, tzinfo=TzInfo(+02:00)), digest='5aad5044d142232b67c4d531aecc022165f06ba40235a60b3a77824c66dfc360', size=1708595627, details=ModelDetails(parent_model='', format='gguf', family='gemma2', families=['gemma2'], parameter_size='2.6B', quantization_level='Q4_K_M')), Model(model='gemma-2-2b-it:Q8_0', modified_at=datetime.datetime(2024, 12, 26, 10, 54, 9, 164315, tzinfo=TzInfo(+02:00)), digest='114ccb6621d2c85e56967ee14538aecb29109b7a8d141636cdb2271c1184ca78', size=2784496451, details=ModelDetails(parent_model='', format='gguf', family='gemma2', families=['gemma2'], parameter_size='2.6B', quantization_level='Q8_0')), Model(model='gemma2:2b', modified_at=datetime.datetime(2024, 12, 25, 14, 22, 55, 685192, tzinfo=TzInfo(+02:00)), digest='8ccf136fdd5298f3ffe2d69862750ea7fb56555fa4d5b18c04e3fa4d82ee09d7', size=1629518495, details=ModelDetails(parent_model='', format='gguf', family='gemma2', families=['gemma2'], parameter_size='2.6B', quantization_level='Q4_0')), Model(model='qwen2:0.5b', modified_at=datetime.datetime(2024, 12, 24, 15, 54, 57, 572503, tzinfo=TzInfo(+02:00)), digest='6f48b936a09f7743c7dd30e72fdb14cba296bc5861902e4d0c387e8fb5050b39', size=352164041, details=ModelDetails(parent_model='', format='gguf', family='qwen2', families=['qwen2'], parameter_size='494.03M', quantization_level='Q4_0')), Model(model='snowflake-arctic-embed:latest', modified_at=datetime.datetime(2024, 12, 23, 20, 5, 18, 58743, tzinfo=TzInfo(+02:00)), digest='aa4014160d3400659a93210855984cb87d75cdff254a9b9de1b11f18b9fd69c3', size=669493198, details=ModelDetails(parent_model='', format='gguf', family='bert', families=['bert'], parameter_size='334.09M', quantization_level='F16')), Model(model='all-minilm:latest', modified_at=datetime.datetime(2024, 12, 19, 20, 7, 15, 541920, tzinfo=TzInfo(+02:00)), digest='1b226e2802dbb772b5fc32a58f103ca1804ef7501331012de126ab22f67475ef', size=45960996, details=ModelDetails(parent_model='', format='gguf', family='bert', families=['bert'], parameter_size='23M', quantization_level='F16')), Model(model='llama3.2:1b', modified_at=datetime.datetime(2024, 12, 18, 2, 40, 27, 7965, tzinfo=TzInfo(+02:00)), digest='baf6a787fdffd633537aa2eb51cfd54cb93ff08e28040095462bb63daf552878', size=1321098329, details=ModelDetails(parent_model='', format='gguf', family='llama', families=['llama'], parameter_size='1.2B', quantization_level='Q8_0')), Model(model='paraphrase-multilingual:latest', modified_at=datetime.datetime(2024, 12, 17, 18, 43, 48, 914072, tzinfo=TzInfo(+02:00)), digest='ba13c2e06707cde2895d11e3c6e7905685edcca25861b93ccf15f692256e4339', size=562777863, details=ModelDetails(parent_model='', format='gguf', family='bert', families=['bert'], parameter_size='277.45M', quantization_level='F16')), Model(model='bge-m3:latest', modified_at=datetime.datetime(2024, 12, 17, 18, 37, 14, 284353, tzinfo=TzInfo(+02:00)), digest='7907646426070047a77226ac3e684fbbe8410524f7b4a74d02837e43f2146bab', size=1157672605, details=ModelDetails(parent_model='', format='gguf', family='bert', families=['bert'], parameter_size='566.70M', quantization_level='F16')), Model(model='bge-large:latest', modified_at=datetime.datetime(2024, 12, 17, 18, 33, 8, 843441, tzinfo=TzInfo(+02:00)), digest='b3d71c92805938e2c9d78e6f35e82d7cc1bd77e05b47dd2ab3016240f4021c15', size=670532029, details=ModelDetails(parent_model='', format='gguf', family='bert', families=['bert'], parameter_size='334.09M', quantization_level='F16')), Model(model='snowflake-arctic-embed:33m', modified_at=datetime.datetime(2024, 12, 17, 18, 1, 33, 789102, tzinfo=TzInfo(+02:00)), digest='e8db018629b498a0a1a2eadbe8ab29477c1d7c4b6ba8ff2a69b0a6ed193713be', size=67197610, details=ModelDetails(parent_model='', format='gguf', family='bert', families=['bert'], parameter_size='33M', quantization_level='F16')), Model(model='snowflake-arctic-embed:110m', modified_at=datetime.datetime(2024, 12, 17, 17, 56, 12, 722431, tzinfo=TzInfo(+02:00)), digest='8a0d86a3ca1df762297c1ba4b59b2b5f1b6db425f3f13eb98b41383ee902552a', size=218679467, details=ModelDetails(parent_model='', format='gguf', family='bert', families=['bert'], parameter_size='109M', quantization_level='F16')), Model(model='mxbai-embed-large:latest', modified_at=datetime.datetime(2024, 12, 17, 17, 35, 26, 817944, tzinfo=TzInfo(+02:00)), digest='468836162de7f81e041c43663fedbbba921dcea9b9fefea135685a39b2d83dd8', size=669615493, details=ModelDetails(parent_model='', format='gguf', family='bert', families=['bert'], parameter_size='334M', quantization_level='F16')), Model(model='nomic-embed-text:latest', modified_at=datetime.datetime(2024, 12, 17, 17, 7, 55, 13921, tzinfo=TzInfo(+02:00)), digest='0a109f422b47e3a30ba2b10eca18548e944e8a23073ee3f3e947efcf3c45e59f', size=274302450, details=ModelDetails(parent_model='', format='gguf', family='nomic-bert', families=['nomic-bert'], parameter_size='137M', quantization_level='F16'))]),\n",
       "  'loaded_models': ProcessResponse(models=[Model(model='snowflake-arctic-embed-137m:rig', name='snowflake-arctic-embed-137m:rig', digest='066176a19a6daee897e084830f09ce99206acacb2ee5d12f4d156837c92969bc', expires_at=datetime.datetime(2025, 1, 9, 3, 11, 31, 840858, tzinfo=TzInfo(+02:00)), size=848687104, size_vram=848687104, details=ModelDetails(parent_model='', format='gguf', family='nomic-bert', families=['nomic-bert'], parameter_size='136.73M', quantization_level='F16'))])}}"
      ]
     },
     "execution_count": 3,
     "metadata": {},
     "output_type": "execute_result"
    }
   ],
   "execution_count": 3
  },
  {
   "metadata": {
    "ExecuteTime": {
     "end_time": "2025-01-08T00:59:25.623587Z",
     "start_time": "2025-01-08T00:59:23.864405Z"
    }
   },
   "cell_type": "code",
   "source": "rig.set_rules()",
   "id": "2b721a2c32794c50",
   "outputs": [
    {
     "data": {
      "text/plain": [
       "True"
      ]
     },
     "execution_count": 3,
     "metadata": {},
     "output_type": "execute_result"
    }
   ],
   "execution_count": 3
  },
  {
   "metadata": {},
   "cell_type": "markdown",
   "source": "### load specific rule, can get file name, or actual rule type",
   "id": "5b73b08f3df618ba"
  },
  {
   "metadata": {
    "ExecuteTime": {
     "end_time": "2025-01-07T22:28:36.307872Z",
     "start_time": "2025-01-07T22:28:36.181886Z"
    }
   },
   "cell_type": "code",
   "source": "rig.add_rule(\"Actor.json\")",
   "id": "e195c1c5fc8409f",
   "outputs": [
    {
     "data": {
      "text/plain": [
       "True"
      ]
     },
     "execution_count": 4,
     "metadata": {},
     "output_type": "execute_result"
    }
   ],
   "execution_count": 4
  },
  {
   "metadata": {},
   "cell_type": "markdown",
   "source": "### return existing rule types names",
   "id": "19e4cc33f4d6332c"
  },
  {
   "metadata": {
    "ExecuteTime": {
     "end_time": "2025-01-07T22:28:38.959377Z",
     "start_time": "2025-01-07T22:28:38.954470Z"
    }
   },
   "cell_type": "code",
   "source": "rig.get_rules_names()",
   "id": "40f11096719ee8f8",
   "outputs": [
    {
     "data": {
      "text/plain": [
       "['bridge',\n",
       " 'tentacled_sea_cucumber',\n",
       " 'cavalry_charge',\n",
       " 'guerrilla_skirmish',\n",
       " 'sea_otter',\n",
       " 'morning_star',\n",
       " 'journalist',\n",
       " 'rapier',\n",
       " 'graphic_designer',\n",
       " 'puffin',\n",
       " 'data_analyst',\n",
       " 'teacher',\n",
       " 'hamster',\n",
       " 'katana',\n",
       " 'scientist',\n",
       " 'boomerang',\n",
       " 'koala',\n",
       " 'nurse',\n",
       " 'dentist',\n",
       " 'gondola',\n",
       " 'halberd',\n",
       " 'engineer',\n",
       " 'hospital',\n",
       " 'tarantula',\n",
       " 'architect',\n",
       " 'bastard_sword',\n",
       " 'apartment_building',\n",
       " 'beaver',\n",
       " 'flanking_maneuver',\n",
       " 'komodo_dragon',\n",
       " 'molotov_cocktail',\n",
       " 'bull',\n",
       " 'fox',\n",
       " 'flail',\n",
       " 'firefighter',\n",
       " 'kayak',\n",
       " 'ballista',\n",
       " 'farmer',\n",
       " 'evacuation_operation',\n",
       " 'trench_assault',\n",
       " 'cow',\n",
       " 'chef',\n",
       " 'actor',\n",
       " 'atv',\n",
       " 'castle',\n",
       " 'multi_motor_trampoline',\n",
       " 'parrotfish',\n",
       " 'aerial_dogfight',\n",
       " 'vulture',\n",
       " 'goldfish',\n",
       " 'paratrooper_drop',\n",
       " 'naval_bombardment',\n",
       " 'mole',\n",
       " 'cannon',\n",
       " 'scimitar',\n",
       " 'shuriken',\n",
       " 'canoe',\n",
       " 'scythe',\n",
       " 'goliath frog',\n",
       " 'cottage',\n",
       " 'conveyor',\n",
       " 'software developer',\n",
       " 'tank_advance',\n",
       " 'church',\n",
       " 'robot',\n",
       " 'gauntlet_knife',\n",
       " 'beetle',\n",
       " 'factory',\n",
       " 'airship_vehicle',\n",
       " 'artillery_strike',\n",
       " 'psychologist',\n",
       " 'kangaroo',\n",
       " 'anglerfish',\n",
       " 'sabre',\n",
       " 'phoenix fish',\n",
       " 'siege',\n",
       " 'barista',\n",
       " 'pilot',\n",
       " 'hotel',\n",
       " 'lawyer',\n",
       " 'museum',\n",
       " 'police_officer',\n",
       " 'photographer',\n",
       " 'bow',\n",
       " 'poodle',\n",
       " 'plumber',\n",
       " 'bayonet_charge',\n",
       " 'net_gun',\n",
       " 'battlefield_retreat',\n",
       " 'kestrel',\n",
       " 'swan',\n",
       " 'electric_train',\n",
       " 'blowgun',\n",
       " 'ambulance',\n",
       " 'pangolin',\n",
       " 'chakram',\n",
       " 'platypus',\n",
       " 'rooster',\n",
       " 'wildcat',\n",
       " 'x4x4_off_road_car',\n",
       " 'event_planner',\n",
       " 'trident',\n",
       " 'carpenter',\n",
       " 'rabbit',\n",
       " 'trolley',\n",
       " 'urban_public_transport_system',\n",
       " 'sniper_attack',\n",
       " 'axe',\n",
       " 'mechanic']"
      ]
     },
     "execution_count": 5,
     "metadata": {},
     "output_type": "execute_result"
    }
   ],
   "execution_count": 5
  },
  {
   "metadata": {},
   "cell_type": "markdown",
   "source": "### get parameters of rule type that exist in the system",
   "id": "dcb45c123eb6fe9b"
  },
  {
   "metadata": {},
   "cell_type": "code",
   "outputs": [],
   "execution_count": null,
   "source": [
    "rule_name = \"swan\"\n",
    "rig.get_rule_details(rule_name)"
   ],
   "id": "9375fe7dfd42926f"
  },
  {
   "metadata": {},
   "cell_type": "markdown",
   "source": [
    "### change parameters (of the rag. can get only one parameter if you want) \n",
    "- classification_threshold\n",
    "- classification_temperature (for the softmax)\n",
    "- examples_rag_threshold"
   ],
   "id": "42aad88316f954e0"
  },
  {
   "metadata": {
    "ExecuteTime": {
     "end_time": "2025-01-06T18:46:19.660781Z",
     "start_time": "2025-01-06T18:46:19.657859Z"
    }
   },
   "cell_type": "code",
   "source": [
    "rig.tweak_parameters(\n",
    "    classification_threshold=0.5,\n",
    "    examples_rag_threshold=0.95\n",
    ")"
   ],
   "id": "de07b79d8614b256",
   "outputs": [
    {
     "data": {
      "text/plain": [
       "True"
      ]
     },
     "execution_count": 4,
     "metadata": {},
     "output_type": "execute_result"
    }
   ],
   "execution_count": 4
  },
  {
   "metadata": {},
   "cell_type": "markdown",
   "source": "## get rule instance from free text",
   "id": "af0758f5e833cca9"
  },
  {
   "metadata": {
    "ExecuteTime": {
     "end_time": "2025-01-08T15:00:20.965991Z",
     "start_time": "2025-01-08T15:00:12.849752Z"
    }
   },
   "cell_type": "code",
   "source": [
    "free_text = \"An instance of ruleInstanceName - mechanic Evaluation needs to be created, dealing with the severity level two. The scavenging efficiency of this falcon is, let's say, 30. However.\" + \", the beak sharpness is much sharper, let's say something like eight. The falcon's vision acuity is good, and the wing span is, um, eighty. The level of thermal riding skill is intermediate. The bone digestion efficiency , at about i dont know... actually i do know! what i wanted to say... uh! is much higher, eighty-five. And the feather maintenance? That's excellent\"\n",
    "\n",
    "response = rig.get_rule_instance(free_text) # return dictionary\n",
    "response['is_error']"
   ],
   "id": "d41d9ff66ad84cda",
   "outputs": [
    {
     "data": {
      "text/plain": [
       "False"
      ]
     },
     "execution_count": 4,
     "metadata": {},
     "output_type": "execute_result"
    }
   ],
   "execution_count": 4
  },
  {
   "metadata": {
    "ExecuteTime": {
     "end_time": "2025-01-08T15:01:53.299155Z",
     "start_time": "2025-01-08T15:01:50.119063Z"
    }
   },
   "cell_type": "code",
   "source": "rig.rephrase_query(free_text)",
   "id": "7452e58c55a90f7d",
   "outputs": [
    {
     "data": {
      "text/plain": [
       "'Create a ruleInstanceName - mechanic Evaluation for severity level two. \\n\\nThe falcon has a scavenging efficiency of 30%. Its beak sharpness is very sharp (8). It has good vision and an 80 wingspan. Its thermal riding skill is intermediate. Bone digestion efficiency is high, at about 85%. Feather maintenance is excellent. \\n\\n\\n**Explanation of Changes:**\\n\\n* **Redundant words removed:** \"like\" was removed for a more concise message.\\n* **Sentence structure simplified:** Sentences were restructured to be clearer and more direct.\\n* **Informal language replaced with formal language:**  Phrases like \"let\\'s say\" were replaced with clear, straightforward statements. \\n* **Translation:** The'"
      ]
     },
     "execution_count": 6,
     "metadata": {},
     "output_type": "execute_result"
    }
   ],
   "execution_count": 6
  },
  {
   "metadata": {
    "ExecuteTime": {
     "end_time": "2025-01-07T22:14:41.097605Z",
     "start_time": "2025-01-07T22:14:41.094012Z"
    }
   },
   "cell_type": "code",
   "source": [
    "print(response.keys())\n",
    "response[\"rule_instance\"]"
   ],
   "id": "8272c662c671476c",
   "outputs": [
    {
     "name": "stdout",
     "output_type": "stream",
     "text": [
      "dict_keys(['query', 'message', 'is_error', 'agents_massages', 'total_infer_time', 'Uuid', 'dateTtime', 'rule_name', 'rule_instance_params', 'confidence', 'error_message', 'rule_instance', 'good'])\n"
     ]
    },
    {
     "data": {
      "text/plain": [
       "{'_id': '00000000-0000-0000-0000-000000000000',\n",
       " 'description': 'string',\n",
       " 'isActive': True,\n",
       " 'lastUpdateTime': '00/00/0000 00:00:00',\n",
       " 'params': {'Feather smoothness': 'very rough',\n",
       "  'Neck length': 'null',\n",
       "  'Swimming elegance': 'low',\n",
       "  'Mating dance complexity': 'complex',\n",
       "  'Nest-building skills': 'poor',\n",
       "  'Wing strength': 20,\n",
       "  'Seasonal migration': 'Yes',\n",
       "  'Social hierarchy': 'lower'},\n",
       " 'ruleInstanceName': 'Albatross Inspection',\n",
       " 'severity': 4,\n",
       " 'ruleType': 'structured',\n",
       " 'ruleOwner': '',\n",
       " 'ruleTypeId': '100044a9-1493-41c0-b9cb-3ad4dd2ff9ee',\n",
       " 'eventDetails': [{'objectName': 'Swan',\n",
       "   'objectDescription': None,\n",
       "   'timeWindowInMilliseconds': 0,\n",
       "   'useLatest': False}],\n",
       " 'additionalInformation': {},\n",
       " 'presetId': '00000000-0000-0000-0000-000000000000'}"
      ]
     },
     "execution_count": 7,
     "metadata": {},
     "output_type": "execute_result"
    }
   ],
   "execution_count": 7
  },
  {
   "metadata": {
    "ExecuteTime": {
     "end_time": "2025-01-06T12:32:11.097531Z",
     "start_time": "2025-01-06T12:32:10.997083Z"
    }
   },
   "cell_type": "code",
   "source": [
    "# giving us feedback on the response. it will help us to improve the project. it stores in .logs file, without internet connection.\n",
    "rig.feedback(rig_response=response, good=True)  # or 0.8, or what ever you can  "
   ],
   "id": "1fd6dbf5fae064c9",
   "outputs": [
    {
     "data": {
      "text/plain": [
       "True"
      ]
     },
     "execution_count": 8,
     "metadata": {},
     "output_type": "execute_result"
    }
   ],
   "execution_count": 8
  },
  {
   "metadata": {
    "ExecuteTime": {
     "end_time": "2025-01-08T00:52:16.608182Z",
     "start_time": "2025-01-08T00:52:05.382355Z"
    }
   },
   "cell_type": "code",
   "source": "rig.metadata(duration=10, interval=1)",
   "id": "428deb57b908cef5",
   "outputs": [
    {
     "name": "stdout",
     "output_type": "stream",
     "text": [
      "{'globals_data': {}, 'agents_data': \"{'num_agents': 4, 'agents_nicknames': ['summarization', 'rule_classifier', 'examples_finder', 'rule_instance_generator'], 'models_loaded': ['gemma-2-2b-it-Q8_0:rig', 'snowflake-arctic-embed-137m:rig', 'snowflake-arctic-embed-137m:rig', ['gemma-2-2b-it-Q8_0:rig', 'Falcon3-3B-Instruct-q4_k_m:rig']], 'models_nicknames': ['summarization_AgentSummarize_gemma-2-2b-it-Q8_0:rig', 'rule_classifier_AgentRuleClassifier_snowflake-arctic-embed-137m:rig', 'examples_finder_AgentExamplesClassifier_snowflake-arctic-embed-137m:rig', ['AsyncAgentGenerateSchema_gemma-2-2b-it-Q8_0:rig', 'AsyncAgentGenerateSchema_Falcon3-3B-Instruct-q4_k_m:rig']]}\", 'system_resources': {'average_cpu': 8.08, 'average_ram': 45.5, 'average_disk': 56.5, 'samples_collected': 5}}\n"
     ]
    }
   ],
   "execution_count": 3
  },
  {
   "metadata": {},
   "cell_type": "markdown",
   "source": "# now you can run the evaluation:",
   "id": "e347cadf3211cca9"
  },
  {
   "metadata": {
    "ExecuteTime": {
     "end_time": "2025-01-09T01:14:16.039388Z",
     "start_time": "2025-01-09T01:13:58.418663Z"
    }
   },
   "cell_type": "code",
   "source": [
    "\n",
    "\n",
    "rig.evaluate(\n",
    "    start_point=0,\n",
    "    end_point=2,  #  -1 or None for all the data\n",
    "    jump=1,\n",
    "    sleep_time_each_10_iter=5,\n",
    "    batch_size=1000,\n",
    "    set_eval_rules=True\n",
    ")\n",
    "# in this example, it will sample only 2 points"
   ],
   "id": "3a636acd65e09e7b",
   "outputs": [
    {
     "name": "stderr",
     "output_type": "stream",
     "text": [
      "100%|██████████| 2/2 [00:15<00:00,  7.51s/it]"
     ]
    },
    {
     "name": "stdout",
     "output_type": "stream",
     "text": [
      "\n",
      "Average Accuracy Metrics:\n",
      "binary_score: 100.00%\n",
      "binary_score_no_instance_name: 100.00%\n",
      "param_numerical_binary_score: 100.00%\n",
      "param_numerical_avg_score: 100.00%\n",
      "param_verbal_binary_score: 100.00%\n",
      "param_verbal_avg_score: 100.00%\n",
      "score_rule_instance_name: 100.00%\n",
      "classification score: 100.00%\n",
      "\n",
      "Average Accuracy Metrics:\n",
      "binary_score: 100.00%\n",
      "binary_score_no_instance_name: 100.00%\n",
      "param_numerical_binary_score: 100.00%\n",
      "param_numerical_avg_score: 100.00%\n",
      "param_verbal_binary_score: 100.00%\n",
      "param_verbal_avg_score: 100.00%\n",
      "score_rule_instance_name: 100.00%\n",
      "classification score: 100.00%\n"
     ]
    },
    {
     "name": "stderr",
     "output_type": "stream",
     "text": [
      "\n"
     ]
    },
    {
     "data": {
      "text/plain": [
       "{'binary_score': '100.00%',\n",
       " 'binary_score_no_instance_name': '100.00%',\n",
       " 'param_numerical_binary_score': '100.00%',\n",
       " 'param_numerical_avg_score': '100.00%',\n",
       " 'param_verbal_binary_score': '100.00%',\n",
       " 'param_verbal_avg_score': '100.00%',\n",
       " 'score_rule_instance_name': '100.00%',\n",
       " 'classification score': '100.00%'}"
      ]
     },
     "execution_count": 4,
     "metadata": {},
     "output_type": "execute_result"
    }
   ],
   "execution_count": 4
  },
  {
   "metadata": {
    "ExecuteTime": {
     "end_time": "2025-01-09T01:13:55.380927Z",
     "start_time": "2025-01-09T01:13:55.330669Z"
    }
   },
   "cell_type": "code",
   "source": "rig.restart(db_rules=True, db_examples=True)\n",
   "id": "5a15c01882d5c9a2",
   "outputs": [
    {
     "data": {
      "text/plain": [
       "True"
      ]
     },
     "execution_count": 3,
     "metadata": {},
     "output_type": "execute_result"
    }
   ],
   "execution_count": 3
  },
  {
   "metadata": {},
   "cell_type": "code",
   "outputs": [],
   "execution_count": null,
   "source": "",
   "id": "eec2a3c31ff9003b"
  }
 ],
 "metadata": {
  "kernelspec": {
   "display_name": "Python 3",
   "language": "python",
   "name": "python3"
  },
  "language_info": {
   "codemirror_mode": {
    "name": "ipython",
    "version": 2
   },
   "file_extension": ".py",
   "mimetype": "text/x-python",
   "name": "python",
   "nbconvert_exporter": "python",
   "pygments_lexer": "ipython2",
   "version": "2.7.6"
  }
 },
 "nbformat": 4,
 "nbformat_minor": 5
}
