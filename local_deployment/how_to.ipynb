{
 "cells": [
  {
   "metadata": {},
   "cell_type": "markdown",
   "source": [
    "# first:\n",
    "- download ollama \n",
    "- run in terminal ollama serve. \n",
    "- if you don't have internet - load the models (README - and the last cell)"
   ],
   "id": "4a2d43f6deccd5b0"
  },
  {
   "metadata": {
    "ExecuteTime": {
     "end_time": "2025-01-07T20:08:25.308030Z",
     "start_time": "2025-01-07T20:08:25.303909Z"
    }
   },
   "cell_type": "code",
   "source": [
    "import nest_asyncio\n",
    "nest_asyncio.apply()"
   ],
   "id": "f58f9f87f61705e4",
   "outputs": [],
   "execution_count": 1
  },
  {
   "cell_type": "code",
   "id": "initial_id",
   "metadata": {
    "collapsed": true,
    "ExecuteTime": {
     "end_time": "2025-01-07T20:08:27.043656Z",
     "start_time": "2025-01-07T20:08:25.960156Z"
    }
   },
   "source": "from src.rig import Rig",
   "outputs": [
    {
     "name": "stdout",
     "output_type": "stream",
     "text": [
      "{'__module__': 'src.globals', 'summarization_agent': 'summarization', 'rule_classifier_agent': 'rule_classifier', 'examples_finder_agent': 'examples_finder', 'rule_instance_generator_agent': 'rule_instance_generator', 'generation_model_name': 'gemma-2-2b-it-Q8_0:rig', 'generation_model2_name': 'Falcon3-3B-Instruct-q4_k_m:rig', 'rag_model_name': 'snowflake-arctic-embed-137m:rig', 'project_dir': '/Users/yuda/PycharmProjects/RigV3/data_dir', 'classification_threshold': 0.005, 'classification_temperature': 0.02, 'examples_rag_threshold': 0.9, 'db_rules_path': '/Users/yuda/PycharmProjects/RigV3/data_dir/db_rules.csv', 'db_examples_path': '/Users/yuda/PycharmProjects/RigV3/data_dir/db_examples.csv', 'rules_folder_path': '/Users/yuda/PycharmProjects/RigV3/data_dir/eval/rule_types', 'evaluation_data_path': '/Users/yuda/PycharmProjects/RigV3/data_dir/eval/evaluation_data.csv', 'evaluation_output_dir': '/Users/yuda/PycharmProjects/RigV3/data_dir/eval/output', '__dict__': <attribute '__dict__' of 'Globals' objects>, '__weakref__': <attribute '__weakref__' of 'Globals' objects>, '__doc__': None}\n"
     ]
    }
   ],
   "execution_count": 2
  },
  {
   "metadata": {
    "ExecuteTime": {
     "end_time": "2025-01-07T20:08:27.220918Z",
     "start_time": "2025-01-07T20:08:27.044743Z"
    }
   },
   "cell_type": "code",
   "source": "rig = Rig()",
   "id": "a8d89b711cd268a1",
   "outputs": [],
   "execution_count": 3
  },
  {
   "metadata": {
    "ExecuteTime": {
     "end_time": "2025-01-06T09:59:03.201963Z",
     "start_time": "2025-01-06T09:59:01.713683Z"
    }
   },
   "cell_type": "code",
   "source": "rig.set_rules()",
   "id": "2b721a2c32794c50",
   "outputs": [
    {
     "data": {
      "text/plain": [
       "True"
      ]
     },
     "execution_count": 3,
     "metadata": {},
     "output_type": "execute_result"
    }
   ],
   "execution_count": 3
  },
  {
   "metadata": {},
   "cell_type": "code",
   "source": "rig.add_rule(\"Actor.json\")",
   "id": "e195c1c5fc8409f",
   "outputs": [],
   "execution_count": null
  },
  {
   "metadata": {
    "ExecuteTime": {
     "end_time": "2025-01-07T19:19:28.508205Z",
     "start_time": "2025-01-07T19:19:28.503312Z"
    }
   },
   "cell_type": "code",
   "source": [
    "# get list of existing rule types:\n",
    "len(rig.get_rules_names())"
   ],
   "id": "40f11096719ee8f8",
   "outputs": [
    {
     "data": {
      "text/plain": [
       "109"
      ]
     },
     "execution_count": 4,
     "metadata": {},
     "output_type": "execute_result"
    }
   ],
   "execution_count": 4
  },
  {
   "metadata": {
    "ExecuteTime": {
     "end_time": "2025-01-06T18:46:19.660781Z",
     "start_time": "2025-01-06T18:46:19.657859Z"
    }
   },
   "cell_type": "code",
   "source": "rig.tweak_parameters(rag_threshold=0.5, examples_rag_threshold=0.95)",
   "id": "de07b79d8614b256",
   "outputs": [
    {
     "data": {
      "text/plain": [
       "True"
      ]
     },
     "execution_count": 4,
     "metadata": {},
     "output_type": "execute_result"
    }
   ],
   "execution_count": 4
  },
  {
   "metadata": {},
   "cell_type": "markdown",
   "source": "## get rule instance from free text",
   "id": "af0758f5e833cca9"
  },
  {
   "metadata": {
    "ExecuteTime": {
     "end_time": "2025-01-07T20:08:59.310837Z",
     "start_time": "2025-01-07T20:08:50.689705Z"
    }
   },
   "cell_type": "code",
   "source": [
    "free_text = \"An instance of ruleInstanceName - mechanic Evaluation needs to be created, dealing with the severity level two. The scavenging efficiency of this falcon is, let's say, 30. However.\" + \", the beak sharpness is much sharper, let's say something like eight. The falcon's vision acuity is good, and the wing span is, um, eighty. The level of thermal riding skill is intermediate. The bone digestion efficiency is much higher, at about eighty-five. And the feather maintenance? That's excellent\"\n",
    "\n",
    "response = rig.get_rule_instance(free_text) # return dictionary\n",
    "response['is_error']"
   ],
   "id": "d41d9ff66ad84cda",
   "outputs": [
    {
     "data": {
      "text/plain": [
       "False"
      ]
     },
     "execution_count": 6,
     "metadata": {},
     "output_type": "execute_result"
    }
   ],
   "execution_count": 6
  },
  {
   "metadata": {
    "ExecuteTime": {
     "end_time": "2025-01-07T20:08:44.072479Z",
     "start_time": "2025-01-07T20:08:44.069180Z"
    }
   },
   "cell_type": "code",
   "source": "response[\"rule_instance\"]",
   "id": "8272c662c671476c",
   "outputs": [
    {
     "data": {
      "text/plain": [
       "{'_id': '00000000-0000-0000-0000-000000000000',\n",
       " 'description': 'string',\n",
       " 'isActive': True,\n",
       " 'lastUpdateTime': '00/00/0000 00:00:00',\n",
       " 'params': {'Scavenging efficiency': 30,\n",
       "  'Flight altitude': None,\n",
       "  'Beak sharpness': 8,\n",
       "  'Vision acuity': 'good',\n",
       "  'Wing span': 80,\n",
       "  'Thermal riding skill': 'intermediate',\n",
       "  'Bone digestion': 85,\n",
       "  'Feather maintenance': 'excellent'},\n",
       " 'ruleInstanceName': 'mechanic Evaluation',\n",
       " 'severity': 2,\n",
       " 'ruleType': 'structured',\n",
       " 'ruleOwner': '',\n",
       " 'ruleTypeId': '1b5db158-d5de-47c6-90f6-25688ffece4b',\n",
       " 'eventDetails': [{'objectName': 'Vulture',\n",
       "   'objectDescription': None,\n",
       "   'timeWindowInMilliseconds': 0,\n",
       "   'useLatest': False}],\n",
       " 'additionalInformation': {},\n",
       " 'presetId': '00000000-0000-0000-0000-000000000000'}"
      ]
     },
     "execution_count": 5,
     "metadata": {},
     "output_type": "execute_result"
    }
   ],
   "execution_count": 5
  },
  {
   "metadata": {
    "ExecuteTime": {
     "end_time": "2025-01-06T20:03:23.543708Z",
     "start_time": "2025-01-06T20:03:23.535355Z"
    }
   },
   "cell_type": "code",
   "source": "response[\"agents_massages\"]",
   "id": "291f52e6d13fea73",
   "outputs": [
    {
     "data": {
      "text/plain": [
       "[{'agent_name': 'rule_classifier',\n",
       "  'agent_description': 'rag implemented for elta, suitable for small - medium size db. ',\n",
       "  'succeed': True,\n",
       "  'agent_input': \"An instance of ruleInstanceName - mechanic Evaluation needs to be created, dealing with the severity level two. The scavenging efficiency of this falcon is, let's say, 30. However., the beak sharpness is much sharper, let's say something like eight. The falcon's vision acuity is good, and the wing span is, um, eighty. The level of thermal riding skill is intermediate. The bone digestion efficiency is much higher, at about eighty-five. And the feather maintenance? That's excellent\",\n",
       "  'agent_message': [('vulture', 0.11404471263161765),\n",
       "   ('kestrel', 0.05341543075667442),\n",
       "   ('swan', 0.021861345703026964),\n",
       "   ('beetle', 0.01954731546220382),\n",
       "   ('rooster', 0.019413949857195193),\n",
       "   ('rapier', 0.018919062018620005),\n",
       "   ('axe', 0.01854752717581687),\n",
       "   ('parrotfish', 0.01854248790379744),\n",
       "   ('shuriken', 0.018002302799404128),\n",
       "   ('puffin', 0.01669839966570087),\n",
       "   ('pangolin', 0.016201717105892733),\n",
       "   ('sabre', 0.015817535733992437),\n",
       "   ('scimitar', 0.014735041279618367),\n",
       "   ('robot', 0.014428167869822747),\n",
       "   ('cannon', 0.014231145490603718),\n",
       "   ('katana', 0.013801823904764315),\n",
       "   ('scythe', 0.013687069159246366),\n",
       "   ('chakram', 0.013160710605670931),\n",
       "   ('trident', 0.012857307337283307),\n",
       "   ('koala', 0.012226023761270143),\n",
       "   ('anglerfish', 0.012152485906942208),\n",
       "   ('fox', 0.012093203530166827),\n",
       "   ('mole', 0.012021492857254618),\n",
       "   ('gauntlet_knife', 0.011585080722413243),\n",
       "   ('halberd', 0.011217217214306456),\n",
       "   ('bull', 0.011118056351261868),\n",
       "   ('phoenix fish', 0.011109652977094391),\n",
       "   ('tarantula', 0.010587766747476074),\n",
       "   ('bow', 0.010546411413900503),\n",
       "   ('rabbit', 0.010052964003465465),\n",
       "   ('platypus', 0.009913113782864984),\n",
       "   ('beaver', 0.009830956058726574),\n",
       "   ('boomerang', 0.009642197804221604),\n",
       "   ('blowgun', 0.009637314704760229),\n",
       "   ('kangaroo', 0.009532459725958339),\n",
       "   ('cow', 0.009258631177291829),\n",
       "   ('bastard_sword', 0.009238625918392541),\n",
       "   ('komodo_dragon', 0.009190935819389257),\n",
       "   ('aerial_dogfight', 0.008798128854485634),\n",
       "   ('software developer', 0.008712418175350638),\n",
       "   ('artillery_strike', 0.008271540788582596),\n",
       "   ('flail', 0.007985733272605586),\n",
       "   ('sniper_attack', 0.007938860938280631),\n",
       "   ('hamster', 0.00765631160571472),\n",
       "   ('guerrilla_skirmish', 0.007639145262562059),\n",
       "   ('canoe', 0.007483083604943783),\n",
       "   ('mechanic', 0.007183630683862529),\n",
       "   ('goliath frog', 0.00717654003429056),\n",
       "   ('dentist', 0.007087858041454879),\n",
       "   ('morning_star', 0.007048182013187396),\n",
       "   ('bridge', 0.0069011592003833345),\n",
       "   ('cavalry_charge', 0.00689500423702219),\n",
       "   ('sea_otter', 0.006848367485881285),\n",
       "   ('graphic_designer', 0.006752077884047008),\n",
       "   ('carpenter', 0.006718395291288843),\n",
       "   ('ballista', 0.006518388991868492),\n",
       "   ('x4x4_off_road_car', 0.0064614441657462555),\n",
       "   ('goldfish', 0.006290454623016856),\n",
       "   ('tank_advance', 0.006260322927402154),\n",
       "   ('wildcat', 0.006246831854403835),\n",
       "   ('pilot', 0.0059560314349715125),\n",
       "   ('atv', 0.005913029722897473),\n",
       "   ('kayak', 0.005528138658862291),\n",
       "   ('paratrooper_drop', 0.005507156654429974),\n",
       "   ('molotov_cocktail', 0.005262514367571155),\n",
       "   ('plumber', 0.005079620569098515),\n",
       "   ('scientist', 0.005062938025870895),\n",
       "   ('net_gun', 0.004960985222767763),\n",
       "   ('flanking_maneuver', 0.004908011625280383),\n",
       "   ('gondola', 0.004781895787309924),\n",
       "   ('cottage', 0.004777039772652046),\n",
       "   ('hospital', 0.004768471359780259),\n",
       "   ('engineer', 0.004765168667126474),\n",
       "   ('barista', 0.004543922288728483),\n",
       "   ('poodle', 0.0044543133086971),\n",
       "   ('airship_vehicle', 0.004448842375305308),\n",
       "   ('actor', 0.0044351190577548785),\n",
       "   ('tentacled_sea_cucumber', 0.004397064709751082),\n",
       "   ('bayonet_charge', 0.004332279668129934),\n",
       "   ('farmer', 0.004281554025852915),\n",
       "   ('church', 0.004260116603103685),\n",
       "   ('trench_assault', 0.004220399963758284),\n",
       "   ('museum', 0.00412165546819753),\n",
       "   ('chef', 0.004105409452319022),\n",
       "   ('architect', 0.003996571460692024),\n",
       "   ('firefighter', 0.003936748633113791),\n",
       "   ('trolley', 0.003867723195151527),\n",
       "   ('data_analyst', 0.0038487737864059146),\n",
       "   ('conveyor', 0.0038444229922068173),\n",
       "   ('naval_bombardment', 0.0037047016391980997),\n",
       "   ('urban_public_transport_system', 0.0036313649747759867),\n",
       "   ('photographer', 0.0034648821263277),\n",
       "   ('nurse', 0.0033997949297367635),\n",
       "   ('factory', 0.0032060158547095063),\n",
       "   ('battlefield_retreat', 0.0031895754742795246),\n",
       "   ('ambulance', 0.0031385653224898645),\n",
       "   ('lawyer', 0.0030148813333061315),\n",
       "   ('psychologist', 0.0030085535182748854),\n",
       "   ('journalist', 0.0030070312405519133),\n",
       "   ('electric_train', 0.0029323289757960023),\n",
       "   ('evacuation_operation', 0.002881208073344762),\n",
       "   ('apartment_building', 0.0027521556615476696),\n",
       "   ('castle', 0.002743674635440415),\n",
       "   ('teacher', 0.002689329070847543),\n",
       "   ('police_officer', 0.0026480864887011477),\n",
       "   ('multi_motor_trampoline', 0.0025032102408437127),\n",
       "   ('siege', 0.002130062031956083),\n",
       "   ('hotel', 0.002055615413673636),\n",
       "   ('event_planner', 0.00179152126192101)],\n",
       "  'message_model': [('vulture', 0.11404471263161765),\n",
       "   ('kestrel', 0.05341543075667442),\n",
       "   ('swan', 0.021861345703026964),\n",
       "   ('beetle', 0.01954731546220382),\n",
       "   ('rooster', 0.019413949857195193),\n",
       "   ('rapier', 0.018919062018620005),\n",
       "   ('axe', 0.01854752717581687),\n",
       "   ('parrotfish', 0.01854248790379744),\n",
       "   ('shuriken', 0.018002302799404128),\n",
       "   ('puffin', 0.01669839966570087),\n",
       "   ('pangolin', 0.016201717105892733),\n",
       "   ('sabre', 0.015817535733992437),\n",
       "   ('scimitar', 0.014735041279618367),\n",
       "   ('robot', 0.014428167869822747),\n",
       "   ('cannon', 0.014231145490603718),\n",
       "   ('katana', 0.013801823904764315),\n",
       "   ('scythe', 0.013687069159246366),\n",
       "   ('chakram', 0.013160710605670931),\n",
       "   ('trident', 0.012857307337283307),\n",
       "   ('koala', 0.012226023761270143),\n",
       "   ('anglerfish', 0.012152485906942208),\n",
       "   ('fox', 0.012093203530166827),\n",
       "   ('mole', 0.012021492857254618),\n",
       "   ('gauntlet_knife', 0.011585080722413243),\n",
       "   ('halberd', 0.011217217214306456),\n",
       "   ('bull', 0.011118056351261868),\n",
       "   ('phoenix fish', 0.011109652977094391),\n",
       "   ('tarantula', 0.010587766747476074),\n",
       "   ('bow', 0.010546411413900503),\n",
       "   ('rabbit', 0.010052964003465465),\n",
       "   ('platypus', 0.009913113782864984),\n",
       "   ('beaver', 0.009830956058726574),\n",
       "   ('boomerang', 0.009642197804221604),\n",
       "   ('blowgun', 0.009637314704760229),\n",
       "   ('kangaroo', 0.009532459725958339),\n",
       "   ('cow', 0.009258631177291829),\n",
       "   ('bastard_sword', 0.009238625918392541),\n",
       "   ('komodo_dragon', 0.009190935819389257),\n",
       "   ('aerial_dogfight', 0.008798128854485634),\n",
       "   ('software developer', 0.008712418175350638),\n",
       "   ('artillery_strike', 0.008271540788582596),\n",
       "   ('flail', 0.007985733272605586),\n",
       "   ('sniper_attack', 0.007938860938280631),\n",
       "   ('hamster', 0.00765631160571472),\n",
       "   ('guerrilla_skirmish', 0.007639145262562059),\n",
       "   ('canoe', 0.007483083604943783),\n",
       "   ('mechanic', 0.007183630683862529),\n",
       "   ('goliath frog', 0.00717654003429056),\n",
       "   ('dentist', 0.007087858041454879),\n",
       "   ('morning_star', 0.007048182013187396),\n",
       "   ('bridge', 0.0069011592003833345),\n",
       "   ('cavalry_charge', 0.00689500423702219),\n",
       "   ('sea_otter', 0.006848367485881285),\n",
       "   ('graphic_designer', 0.006752077884047008),\n",
       "   ('carpenter', 0.006718395291288843),\n",
       "   ('ballista', 0.006518388991868492),\n",
       "   ('x4x4_off_road_car', 0.0064614441657462555),\n",
       "   ('goldfish', 0.006290454623016856),\n",
       "   ('tank_advance', 0.006260322927402154),\n",
       "   ('wildcat', 0.006246831854403835),\n",
       "   ('pilot', 0.0059560314349715125),\n",
       "   ('atv', 0.005913029722897473),\n",
       "   ('kayak', 0.005528138658862291),\n",
       "   ('paratrooper_drop', 0.005507156654429974),\n",
       "   ('molotov_cocktail', 0.005262514367571155),\n",
       "   ('plumber', 0.005079620569098515),\n",
       "   ('scientist', 0.005062938025870895),\n",
       "   ('net_gun', 0.004960985222767763),\n",
       "   ('flanking_maneuver', 0.004908011625280383),\n",
       "   ('gondola', 0.004781895787309924),\n",
       "   ('cottage', 0.004777039772652046),\n",
       "   ('hospital', 0.004768471359780259),\n",
       "   ('engineer', 0.004765168667126474),\n",
       "   ('barista', 0.004543922288728483),\n",
       "   ('poodle', 0.0044543133086971),\n",
       "   ('airship_vehicle', 0.004448842375305308),\n",
       "   ('actor', 0.0044351190577548785),\n",
       "   ('tentacled_sea_cucumber', 0.004397064709751082),\n",
       "   ('bayonet_charge', 0.004332279668129934),\n",
       "   ('farmer', 0.004281554025852915),\n",
       "   ('church', 0.004260116603103685),\n",
       "   ('trench_assault', 0.004220399963758284),\n",
       "   ('museum', 0.00412165546819753),\n",
       "   ('chef', 0.004105409452319022),\n",
       "   ('architect', 0.003996571460692024),\n",
       "   ('firefighter', 0.003936748633113791),\n",
       "   ('trolley', 0.003867723195151527),\n",
       "   ('data_analyst', 0.0038487737864059146),\n",
       "   ('conveyor', 0.0038444229922068173),\n",
       "   ('naval_bombardment', 0.0037047016391980997),\n",
       "   ('urban_public_transport_system', 0.0036313649747759867),\n",
       "   ('photographer', 0.0034648821263277),\n",
       "   ('nurse', 0.0033997949297367635),\n",
       "   ('factory', 0.0032060158547095063),\n",
       "   ('battlefield_retreat', 0.0031895754742795246),\n",
       "   ('ambulance', 0.0031385653224898645),\n",
       "   ('lawyer', 0.0030148813333061315),\n",
       "   ('psychologist', 0.0030085535182748854),\n",
       "   ('journalist', 0.0030070312405519133),\n",
       "   ('electric_train', 0.0029323289757960023),\n",
       "   ('evacuation_operation', 0.002881208073344762),\n",
       "   ('apartment_building', 0.0027521556615476696),\n",
       "   ('castle', 0.002743674635440415),\n",
       "   ('teacher', 0.002689329070847543),\n",
       "   ('police_officer', 0.0026480864887011477),\n",
       "   ('multi_motor_trampoline', 0.0025032102408437127),\n",
       "   ('siege', 0.002130062031956083),\n",
       "   ('hotel', 0.002055615413673636),\n",
       "   ('event_planner', 0.00179152126192101)],\n",
       "  'dateTtime': datetime.datetime(2025, 1, 6, 22, 2, 35, 676771),\n",
       "  'infer_time': 0.4284090995788574},\n",
       " {'agent_name': 'examples_finder',\n",
       "  'agent_description': 'rag implemented for elta, suitable for small - medium size db. ',\n",
       "  'succeed': True,\n",
       "  'agent_input': \"An instance of ruleInstanceName - mechanic Evaluation needs to be created, dealing with the severity level two. The scavenging efficiency of this falcon is, let's say, 30. However., the beak sharpness is much sharper, let's say something like eight. The falcon's vision acuity is good, and the wing span is, um, eighty. The level of thermal riding skill is intermediate. The bone digestion efficiency is much higher, at about eighty-five. And the feather maintenance? That's excellent\",\n",
       "  'agent_message': [\"An instance of ruleInstanceName - Falcon Evaluation needs to be created, dealing with the severity level two. The scavenging efficiency of this falcon is, let's say, 30. However, the beak sharpness is much sharper, let's say something like eight. The falcon's vision acuity is good, and the wing span is, um, eighty. The level of thermal riding skill is intermediate. The bone digestion efficiency is much higher, at about eighty-five. And the feather maintenance? That's excellent.\",\n",
       "   \"An instance of eagle assessment needs to be created, dealing with the type of assessment eagle. The scavenging efficiency of the eagle was around, um, eighty. However, the beak sharpness was much more severe, let's say something like seven. The flight altitude of the eagle is high, and the severity of the event is four. The vision acuity of the eagle is excellent, with a wingspan of about two hundred. The thermal riding skill of the eagle is expert, and the bone digestion is ninety. We don't have information on the feather maintenance.\"],\n",
       "  'message_model': '[(\"An instance of ruleInstanceName - Falcon Evaluation needs to be created, dealing with the severity level two. The scavenging efficiency of this falcon is, let\\'s say, 30. However, the beak sharpness is much sharper, let\\'s say something like eight. The falcon\\'s vision acuity is good, and the wing span is, um, eighty. The level of thermal riding skill is intermediate. The bone digestion efficiency is much higher, at about eighty-five. And the feather maintenance? That\\'s excellent.\", 0.9856687799256028), (\"An instance of eagle assessment needs to be created, dealing with the type of assessment eagle. The scavenging efficiency of the eagle was around, um, eighty. However, the beak sharpness was much more severe, let\\'s say something like seven. The flight altitude of the eagle is high, and the severity of the event is four. The vision acuity of the eagle is excellent, with a wingspan of about two hundred. The thermal riding skill of the eagle is expert, and the bone digestion is ninety. We don\\'t have information on the feather maintenance.\", 0.841193653291761)]',\n",
       "  'dateTtime': datetime.datetime(2025, 1, 6, 22, 2, 35, 705271),\n",
       "  'infer_time': 0.027858972549438477},\n",
       " {'agent_name': 'rule_instance_generator',\n",
       "  'agent_description': 'given schema and free text, the agent job is to return the values from the free text according to the schema',\n",
       "  'succeed': True,\n",
       "  'agent_input': \"An instance of ruleInstanceName - mechanic Evaluation needs to be created, dealing with the severity level two. The scavenging efficiency of this falcon is, let's say, 30. However., the beak sharpness is much sharper, let's say something like eight. The falcon's vision acuity is good, and the wing span is, um, eighty. The level of thermal riding skill is intermediate. The bone digestion efficiency is much higher, at about eighty-five. And the feather maintenance? That's excellent\",\n",
       "  'agent_message': [{'ruleInstanceName': 'mechanic Evaluation',\n",
       "    'severity': 2,\n",
       "    'scavengingEfficiency': 30,\n",
       "    'beakSharpness': 8,\n",
       "    'visionAcuity': 'good',\n",
       "    'wingSpan': 80,\n",
       "    'thermalRidingSkill': 'intermediate',\n",
       "    'boneDigestion': 85,\n",
       "    'featherMaintenance': 'excellent'},\n",
       "   {'ruleInstanceName': 'mechanic Evaluation',\n",
       "    'severity': 2,\n",
       "    'scavengingEfficiency': 30,\n",
       "    'beakSharpness': 8,\n",
       "    'visionAcuity': 'good',\n",
       "    'wingSpan': 80,\n",
       "    'thermalRidingSkill': 'intermediate',\n",
       "    'boneDigestion': 85,\n",
       "    'featherMaintenance': 'excellent'}],\n",
       "  'message_model': \"```json\\n{'ruleInstanceName': 'mechanic Evaluation', 'severity': 2, 'scavengingEfficiency': 30, 'beakSharpness': 8, 'visionAcuity': 'good', 'wingSpan': 80, 'thermalRidingSkill': 'intermediate', 'boneDigestion': 85, 'featherMaintenance': 'excellent'}\",\n",
       "  'dateTtime': datetime.datetime(2025, 1, 6, 22, 2, 47, 836250),\n",
       "  'infer_time': 12.127629041671753}]"
      ]
     },
     "execution_count": 10,
     "metadata": {},
     "output_type": "execute_result"
    }
   ],
   "execution_count": 10
  },
  {
   "metadata": {
    "ExecuteTime": {
     "end_time": "2025-01-06T19:17:39.935221Z",
     "start_time": "2025-01-06T19:17:23.059899Z"
    }
   },
   "cell_type": "code",
   "source": [
    "free_text = \"An instance of Bird Evaluation - Albatross Inspection needs to be set up, dealing with the species Albatross. The feather smoothness of the bird is, um, very rough. However, the wing strength was much more stable, let's say something like twenty. The bird's swimming elegance is low, and the complexity of the mating dance is complex. The nest-building skills of the bird are poor, and the seasonal migration is affirmative. The bird's position in the social hierarchy is lower, and the severity of the inspection is four.\"\n",
    "\n",
    "response = rig.get_rule_instance(free_text) # return dictionary\n"
   ],
   "id": "a0ff1b723ede9989",
   "outputs": [],
   "execution_count": 11
  },
  {
   "metadata": {
    "ExecuteTime": {
     "end_time": "2025-01-06T19:17:42.842939Z",
     "start_time": "2025-01-06T19:17:42.839251Z"
    }
   },
   "cell_type": "code",
   "source": "response[\"rule_instance\"]\n",
   "id": "29a3b3e30f4915aa",
   "outputs": [
    {
     "data": {
      "text/plain": [
       "{'_id': '00000000-0000-0000-0000-000000000000',\n",
       " 'description': 'string',\n",
       " 'isActive': True,\n",
       " 'lastUpdateTime': '00/00/0000 00:00:00',\n",
       " 'params': {'Feather smoothness': 'very rough',\n",
       "  'Neck length': 'null',\n",
       "  'Swimming elegance': 'low',\n",
       "  'Mating dance complexity': 'complex',\n",
       "  'Nest-building skills': 'poor',\n",
       "  'Wing strength': 20,\n",
       "  'Seasonal migration': 'affirmative',\n",
       "  'Social hierarchy': 'lower'},\n",
       " 'ruleInstanceName': 'Albatross Inspection',\n",
       " 'severity': 4,\n",
       " 'ruleType': 'structured',\n",
       " 'ruleOwner': '',\n",
       " 'ruleTypeId': '100044a9-1493-41c0-b9cb-3ad4dd2ff9ee',\n",
       " 'eventDetails': [{'objectName': 'Swan',\n",
       "   'objectDescription': None,\n",
       "   'timeWindowInMilliseconds': 0,\n",
       "   'useLatest': False}],\n",
       " 'additionalInformation': {},\n",
       " 'presetId': '00000000-0000-0000-0000-000000000000'}"
      ]
     },
     "execution_count": 12,
     "metadata": {},
     "output_type": "execute_result"
    }
   ],
   "execution_count": 12
  },
  {
   "metadata": {
    "ExecuteTime": {
     "end_time": "2025-01-06T12:32:11.097531Z",
     "start_time": "2025-01-06T12:32:10.997083Z"
    }
   },
   "cell_type": "code",
   "source": [
    "# giving us feedback on the response. it will help us to improve the project. it stores in .logs file, without internet connection.\n",
    "rig.feedback(rig_response=response, good=True)  # or 0.8, or what ever you can  "
   ],
   "id": "1fd6dbf5fae064c9",
   "outputs": [
    {
     "data": {
      "text/plain": [
       "True"
      ]
     },
     "execution_count": 8,
     "metadata": {},
     "output_type": "execute_result"
    }
   ],
   "execution_count": 8
  },
  {
   "metadata": {},
   "cell_type": "markdown",
   "source": "# now you can run the evaluation:",
   "id": "e347cadf3211cca9"
  },
  {
   "metadata": {
    "ExecuteTime": {
     "end_time": "2025-01-07T19:24:47.691750Z",
     "start_time": "2025-01-07T19:23:48.141349Z"
    }
   },
   "cell_type": "code",
   "source": [
    "rig.evaluate(\n",
    "    start_point=0,\n",
    "    end_point=50,  #  -1 or None for all the data\n",
    "    jump=5,\n",
    "    sleep_time_each_10_iter=5,\n",
    "    batch_size=1000\n",
    ")"
   ],
   "id": "3a636acd65e09e7b",
   "outputs": [
    {
     "name": "stderr",
     "output_type": "stream",
     "text": [
      "100%|██████████| 10/10 [00:59<00:00,  5.93s/it]"
     ]
    },
    {
     "name": "stdout",
     "output_type": "stream",
     "text": [
      "\n",
      "Average Accuracy Metrics:\n",
      "binary_score: 100.00%\n",
      "binary_score_no_instance_name: 100.00%\n",
      "param_numerical_binary_score: 100.00%\n",
      "param_numerical_avg_score: 100.00%\n",
      "param_verbal_binary_score: 100.00%\n",
      "param_verbal_avg_score: 100.00%\n",
      "score_rule_instance_name: 100.00%\n",
      "classification score: 100.00%\n",
      "\n",
      "Average Accuracy Metrics:\n",
      "binary_score: 100.00%\n",
      "binary_score_no_instance_name: 100.00%\n",
      "param_numerical_binary_score: 100.00%\n",
      "param_numerical_avg_score: 100.00%\n",
      "param_verbal_binary_score: 100.00%\n",
      "param_verbal_avg_score: 100.00%\n",
      "score_rule_instance_name: 100.00%\n",
      "classification score: 100.00%\n"
     ]
    },
    {
     "name": "stderr",
     "output_type": "stream",
     "text": [
      "\n"
     ]
    },
    {
     "data": {
      "text/plain": [
       "{'binary_score': '100.00%',\n",
       " 'binary_score_no_instance_name': '100.00%',\n",
       " 'param_numerical_binary_score': '100.00%',\n",
       " 'param_numerical_avg_score': '100.00%',\n",
       " 'param_verbal_binary_score': '100.00%',\n",
       " 'param_verbal_avg_score': '100.00%',\n",
       " 'score_rule_instance_name': '100.00%',\n",
       " 'classification score': '100.00%'}"
      ]
     },
     "execution_count": 4,
     "metadata": {},
     "output_type": "execute_result"
    }
   ],
   "execution_count": 4
  },
  {
   "metadata": {},
   "cell_type": "code",
   "source": "",
   "id": "1bc030c413df1aec",
   "outputs": [],
   "execution_count": null
  }
 ],
 "metadata": {
  "kernelspec": {
   "display_name": "Python 3",
   "language": "python",
   "name": "python3"
  },
  "language_info": {
   "codemirror_mode": {
    "name": "ipython",
    "version": 2
   },
   "file_extension": ".py",
   "mimetype": "text/x-python",
   "name": "python",
   "nbconvert_exporter": "python",
   "pygments_lexer": "ipython2",
   "version": "2.7.6"
  }
 },
 "nbformat": 4,
 "nbformat_minor": 5
}
