{
 "cells": [
  {
   "metadata": {},
   "cell_type": "markdown",
   "source": [
    "# first:\n",
    "- download ollama \n",
    "- run in terminal ollama serve. \n",
    "- if you don't have internet - load the models (README - and the last cell)"
   ],
   "id": "4a2d43f6deccd5b0"
  },
  {
   "cell_type": "code",
   "id": "initial_id",
   "metadata": {
    "collapsed": true,
    "ExecuteTime": {
     "end_time": "2025-01-11T21:24:54.048269Z",
     "start_time": "2025-01-11T21:24:52.604685Z"
    }
   },
   "source": [
    "import nest_asyncio\n",
    "nest_asyncio.apply()\n",
    "\n",
    "from src.rig import Rig\n",
    "rig = Rig()"
   ],
   "outputs": [
    {
     "ename": "AttributeError",
     "evalue": "'Globals' object has no attribute 'max_examples'",
     "output_type": "error",
     "traceback": [
      "\u001B[0;31m---------------------------------------------------------------------------\u001B[0m",
      "\u001B[0;31mAttributeError\u001B[0m                            Traceback (most recent call last)",
      "Cell \u001B[0;32mIn[1], line 5\u001B[0m\n\u001B[1;32m      2\u001B[0m nest_asyncio\u001B[38;5;241m.\u001B[39mapply()\n\u001B[1;32m      4\u001B[0m \u001B[38;5;28;01mfrom\u001B[39;00m \u001B[38;5;21;01msrc\u001B[39;00m\u001B[38;5;21;01m.\u001B[39;00m\u001B[38;5;21;01mrig\u001B[39;00m \u001B[38;5;28;01mimport\u001B[39;00m Rig\n\u001B[0;32m----> 5\u001B[0m rig \u001B[38;5;241m=\u001B[39m Rig()\n",
      "File \u001B[0;32m~/PycharmProjects/RigV3/src/rig.py:19\u001B[0m, in \u001B[0;36mRig.__init__\u001B[0;34m(self)\u001B[0m\n\u001B[1;32m     16\u001B[0m \u001B[38;5;28;01mdef\u001B[39;00m \u001B[38;5;21m__init__\u001B[39m(\u001B[38;5;28mself\u001B[39m):\n\u001B[1;32m     18\u001B[0m     \u001B[38;5;28mself\u001B[39m\u001B[38;5;241m.\u001B[39mdb_rules \u001B[38;5;241m=\u001B[39m DbRules()\n\u001B[0;32m---> 19\u001B[0m     \u001B[38;5;28mself\u001B[39m\u001B[38;5;241m.\u001B[39mdb_examples \u001B[38;5;241m=\u001B[39m DbExamples()\n\u001B[1;32m     20\u001B[0m     \u001B[38;5;28mself\u001B[39m\u001B[38;5;241m.\u001B[39mdb_unknown \u001B[38;5;241m=\u001B[39m DbUnknowns()\n\u001B[1;32m     21\u001B[0m     \u001B[38;5;28mself\u001B[39m\u001B[38;5;241m.\u001B[39mdb_sites \u001B[38;5;241m=\u001B[39m DbSites()\n",
      "File \u001B[0;32m~/PycharmProjects/RigV3/src/databases.py:92\u001B[0m, in \u001B[0;36mDbExamples.__init__\u001B[0;34m(self)\u001B[0m\n\u001B[1;32m     88\u001B[0m \u001B[38;5;250m\u001B[39m\u001B[38;5;124;03m\"\"\"\u001B[39;00m\n\u001B[1;32m     89\u001B[0m \u001B[38;5;124;03mInitializes the examples database by loading the data from the specified database path.\u001B[39;00m\n\u001B[1;32m     90\u001B[0m \u001B[38;5;124;03m\"\"\"\u001B[39;00m\n\u001B[1;32m     91\u001B[0m \u001B[38;5;28mself\u001B[39m\u001B[38;5;241m.\u001B[39minit_df()\n\u001B[0;32m---> 92\u001B[0m \u001B[38;5;28mself\u001B[39m\u001B[38;5;241m.\u001B[39mmax_examples \u001B[38;5;241m=\u001B[39m GLOBALS\u001B[38;5;241m.\u001B[39mmax_examples\n",
      "\u001B[0;31mAttributeError\u001B[0m: 'Globals' object has no attribute 'max_examples'"
     ]
    }
   ],
   "execution_count": 1
  },
  {
   "metadata": {},
   "cell_type": "markdown",
   "source": "# rules",
   "id": "e22de09787a2af6"
  },
  {
   "metadata": {},
   "cell_type": "markdown",
   "source": "### restarting the db's",
   "id": "b1be9004e42c8125"
  },
  {
   "metadata": {},
   "cell_type": "code",
   "source": "rig.restart(db_rules=True, db_examples=True, db_sites=True)",
   "id": "f9e3a652613b0763",
   "outputs": [],
   "execution_count": null
  },
  {
   "metadata": {},
   "cell_type": "markdown",
   "source": [
    "### load the rules. if you did it before and didnt change anything it will load them automatically\n",
    "- it can get list of rule_types, or leave it empty and load it from the directory"
   ],
   "id": "37f7a41f8cfd2682"
  },
  {
   "metadata": {},
   "cell_type": "code",
   "source": "rig.set_rules()  # reset the db",
   "id": "2b721a2c32794c50",
   "outputs": [],
   "execution_count": null
  },
  {
   "metadata": {},
   "cell_type": "markdown",
   "source": "### load specific rule, can get file name, or actual rule type",
   "id": "5b73b08f3df618ba"
  },
  {
   "metadata": {},
   "cell_type": "markdown",
   "source": "### remove one rule by name",
   "id": "38b8c98dce16c0d0"
  },
  {
   "metadata": {},
   "cell_type": "code",
   "source": "rig.remove_rule(rule_name=\"actor\")",
   "id": "454e4b6d7b5027a6",
   "outputs": [],
   "execution_count": null
  },
  {
   "metadata": {},
   "cell_type": "code",
   "source": "rig.add_rule(\"Actor.json\") # or dict",
   "id": "73d78854081441f6",
   "outputs": [],
   "execution_count": null
  },
  {
   "metadata": {},
   "cell_type": "markdown",
   "source": "### return existing rule types names",
   "id": "19e4cc33f4d6332c"
  },
  {
   "metadata": {},
   "cell_type": "code",
   "source": "rig.get_rules_names()",
   "id": "40f11096719ee8f8",
   "outputs": [],
   "execution_count": null
  },
  {
   "metadata": {},
   "cell_type": "markdown",
   "source": "### get parameters of rule type that exist in the system",
   "id": "dcb45c123eb6fe9b"
  },
  {
   "metadata": {},
   "cell_type": "code",
   "source": [
    "rule_name = \"actor\"\n",
    "rig.get_rule_details(rule_name)"
   ],
   "id": "9375fe7dfd42926f",
   "outputs": [],
   "execution_count": null
  },
  {
   "metadata": {},
   "cell_type": "markdown",
   "source": "# site",
   "id": "8242c190fd93a08a"
  },
  {
   "metadata": {},
   "cell_type": "markdown",
   "source": "### deleting existing sites and loading the new ones into the db (and the agent)",
   "id": "5fbd25e869d96050"
  },
  {
   "metadata": {},
   "cell_type": "code",
   "source": [
    "sites = [\n",
    "    {'site': 'ashdod', 'site_id': '1234'},\n",
    "    {'site': 'Elta', 'site_id': 4321}\n",
    "]\n",
    "rig.set_sites(sites=sites)"
   ],
   "id": "7cb840e2f7492391",
   "outputs": [],
   "execution_count": null
  },
  {
   "metadata": {},
   "cell_type": "markdown",
   "source": "### add only one site. don't delete the existing sites",
   "id": "94fcf9925dbf0362"
  },
  {
   "metadata": {},
   "cell_type": "code",
   "source": [
    "single_site = {'site': 'hapalmach', 'site_id': '33'}\n",
    "rig.add_site(site=single_site)"
   ],
   "id": "60f802536390b051",
   "outputs": [],
   "execution_count": null
  },
  {
   "metadata": {},
   "cell_type": "markdown",
   "source": "### get list of existing sites",
   "id": "793dbb6ea985ad17"
  },
  {
   "metadata": {},
   "cell_type": "code",
   "source": "rig.get_existing_sites()",
   "id": "5eae43ee771645d",
   "outputs": [],
   "execution_count": null
  },
  {
   "metadata": {},
   "cell_type": "markdown",
   "source": "### remove one site",
   "id": "2ad962216e55ecdc"
  },
  {
   "metadata": {},
   "cell_type": "code",
   "source": "rig.remove_site(site_name='hapalmach')",
   "id": "bd22e66002718bc8",
   "outputs": [],
   "execution_count": null
  },
  {
   "metadata": {},
   "cell_type": "markdown",
   "source": [
    "### change parameters (of the rag. can get only one parameter if you want) \n",
    "- classification_threshold\n",
    "- classification_temperature (for the softmax)\n",
    "- examples_rag_threshold"
   ],
   "id": "42aad88316f954e0"
  },
  {
   "metadata": {},
   "cell_type": "code",
   "source": [
    "rig.tweak_parameters(\n",
    "    rag_temperature=0.001,\n",
    "    classification_threshold=0.001,\n",
    "    site_rag_threshold=0.001,\n",
    "    add_example_rag_threshold=0.95\n",
    ")"
   ],
   "id": "de07b79d8614b256",
   "outputs": [],
   "execution_count": null
  },
  {
   "metadata": {},
   "cell_type": "markdown",
   "source": "## get rule instance from free text",
   "id": "af0758f5e833cca9"
  },
  {
   "metadata": {},
   "cell_type": "code",
   "source": [
    "free_text = \"An instance of ruleInstanceName - mechanic Evaluation needs to be created, dealing with the severity level two. The scavenging efficiency of this falcon is, let's say, 30. However.\" + \", the beak sharpness is much sharper, let's say something like eight. The falcon's vision acuity is good, and the wing span is, um, eighty. The level of thermal riding skill is intermediate. The bone digestion efficiency , at about i dont know... actually i do know! what i wanted to say... uh! is much higher, eighty-five. And the feather maintenance? That's excellent site is ashdoda\"\n",
    "\n",
    "response = rig.get_rule_instance(free_text) # return dictionary\n",
    "response['is_error']"
   ],
   "id": "d41d9ff66ad84cda",
   "outputs": [],
   "execution_count": null
  },
  {
   "metadata": {},
   "cell_type": "markdown",
   "source": "#### confidence: 1 is good, -2 is mistake in the rule classification (-1 its undefined, 0 is we think its wrong)  ",
   "id": "4d1dae0877c1af4f"
  },
  {
   "metadata": {},
   "cell_type": "code",
   "source": "response['confidence']",
   "id": "8920ccb3ff490d4",
   "outputs": [],
   "execution_count": null
  },
  {
   "metadata": {},
   "cell_type": "code",
   "source": [
    "print(response.keys())\n",
    "response[\"rule_instance\"]"
   ],
   "id": "8272c662c671476c",
   "outputs": [],
   "execution_count": null
  },
  {
   "metadata": {},
   "cell_type": "markdown",
   "source": "# you can feedback if the text was good or not (True/False)",
   "id": "860ab10f5bd80840"
  },
  {
   "metadata": {},
   "cell_type": "code",
   "source": [
    "# giving us feedback on the response. it will help us to improve the project. it stores in .logs file, without internet connection.\n",
    "rig.feedback(rig_response=response, good=True)  # or 0.8, or what ever you can  "
   ],
   "id": "1fd6dbf5fae064c9",
   "outputs": [],
   "execution_count": null
  },
  {
   "metadata": {},
   "cell_type": "markdown",
   "source": "# now you can run the evaluation:",
   "id": "e347cadf3211cca9"
  },
  {
   "metadata": {},
   "cell_type": "code",
   "source": [
    "\n",
    "\n",
    "rig.evaluate(\n",
    "    start_point=0,\n",
    "    end_point=10,  #  -1 or None for all the data\n",
    "    jump=2,\n",
    "    sleep_time_each_10_iter=5,\n",
    "    batch_size=1000,\n",
    "    set_eval_rules=True\n",
    ")\n",
    "# in this example, it will sample only 2 points"
   ],
   "id": "3a636acd65e09e7b",
   "outputs": [],
   "execution_count": null
  },
  {
   "metadata": {},
   "cell_type": "code",
   "source": "rig.metadata()",
   "id": "eec2a3c31ff9003b",
   "outputs": [],
   "execution_count": null
  },
  {
   "metadata": {},
   "cell_type": "markdown",
   "source": "# this is only an option. maybe working - maybe not",
   "id": "c6facbe50cf844eb"
  },
  {
   "metadata": {},
   "cell_type": "code",
   "source": [
    "free_text_hebrew = \"יש ליצור אינסטנציה של שםחוק ציפור עיט – הערכת החומרה צריכה להתבצע, בהתמודדות עם רמת חומרה שתיים. יעילות הסילוק של העיט הזה היא, נאמר, 30. עם זאת, החדות של המקור הרבה יותר חדה, נאמר משהו כמו שמונה. חדות הראייה של העיט טובה, והספאן של הכנפיים הוא, אממ, שמונים. רמת כישוריו בטיסת תרמילים היא בינונית. יעילות עיכול העצמות, בערך אני לא יודע… למעשה, אני כן יודע! מה שרציתי לומר… אה! הרבה יותר גבוהה, שמונים וחמש. ואילו תחזוקת הנוצות? זה מצוין.\"\n",
    "translated_free_text = rig.rephrase_query(free_text_hebrew)"
   ],
   "id": "86aa46d77165c08a",
   "outputs": [],
   "execution_count": null
  },
  {
   "metadata": {},
   "cell_type": "code",
   "source": [
    "response = rig.get_rule_instance(translated_free_text) # return dictionary\n",
    "response['rule_instance']"
   ],
   "id": "c9c3c6e9b0f2c269",
   "outputs": [],
   "execution_count": null
  }
 ],
 "metadata": {
  "kernelspec": {
   "display_name": "Python 3",
   "language": "python",
   "name": "python3"
  },
  "language_info": {
   "codemirror_mode": {
    "name": "ipython",
    "version": 2
   },
   "file_extension": ".py",
   "mimetype": "text/x-python",
   "name": "python",
   "nbconvert_exporter": "python",
   "pygments_lexer": "ipython2",
   "version": "2.7.6"
  }
 },
 "nbformat": 4,
 "nbformat_minor": 5
}
