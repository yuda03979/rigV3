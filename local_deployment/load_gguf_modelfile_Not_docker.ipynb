{
 "cells": [
  {
   "metadata": {},
   "cell_type": "markdown",
   "source": [
    "# make ollama models from gguf NOT docker \n",
    "* assuming you already set the correct directory (without rig project)"
   ],
   "id": "2c086f2524781c38"
  },
  {
   "metadata": {
    "ExecuteTime": {
     "end_time": "2024-12-31T12:22:12.112837Z",
     "start_time": "2024-12-31T12:22:08.819954Z"
    }
   },
   "cell_type": "code",
   "source": [
    "from dotenv import find_dotenv, load_dotenv\n",
    "load_dotenv(find_dotenv())\n",
    "\n",
    "import subprocess\n",
    "import os\n",
    "\n",
    "def create_models_from_gguf_NOT_docker():\n",
    "    \"\"\"\n",
    "        create the models on your computer\n",
    "        IMPORTANT!!! if you using windows, you should change in the modelfile the FROM section into a correct path.\n",
    "    \"\"\"\n",
    "    modelfile_location = os.getenv(\"GGUF_AND_MODELFILE_LOCATION\")\n",
    "    \n",
    "    gemma_model_name = os.getenv(\"GENERATION_MODEL_NAME\")\n",
    "    rag_model_name = os.getenv(\"RAG_MODEL_NAME\")\n",
    "    validation_model_name = os.getenv(\"VALIDATION_MODEL_NAME\")\n",
    "    \n",
    "    gemma_modelfile = 'gemma-2-2b-it-Q8_0'\n",
    "    rag_modelfile = 'snowflake-arctic-embed-m-long-F16'\n",
    "    validation_modelfile = 'Falcon3-3B-Instruct-q4_k_m'\n",
    "\n",
    "    \n",
    "    commands = [\n",
    "        f\"ollama create {gemma_model_name} -f {os.path.join(modelfile_location, gemma_modelfile)}\",\n",
    "        f\"ollama create {rag_model_name} -f {os.path.join(modelfile_location, rag_modelfile)}\",\n",
    "        f\"ollama create {validation_model_name} -f {os.path.join(modelfile_location, validation_modelfile)}\"\n",
    "\n",
    "    ]\n",
    "    \n",
    "\n",
    "    for command in commands:\n",
    "        try:\n",
    "            print(f\"Running: {command}\")\n",
    "            result = subprocess.run(command, shell=True, check=True, text=True, capture_output=True)\n",
    "            print(result.stdout)\n",
    "        except subprocess.CalledProcessError as e:\n",
    "            print(f\"Error running {command}: {e.stderr}\")\n",
    "\n",
    "create_models_from_gguf_NOT_docker()"
   ],
   "id": "cf94cf7f254d6cff",
   "outputs": [
    {
     "name": "stdout",
     "output_type": "stream",
     "text": [
      "Running: ollama create gemma-2-2b-it-Q8_0:rig -f /Users/yuda/PycharmProjects/RIG_v2/rig_modelfiles/gemma-2-2b-it-Q8_0\n",
      "\n",
      "Running: ollama create snowflake-arctic-embed-137m:rig -f /Users/yuda/PycharmProjects/RIG_v2/rig_modelfiles/snowflake-arctic-embed-m-long-F16\n",
      "\n",
      "Running: ollama create Falcon3-3B-Instruct-q4_k_m:rig -f /Users/yuda/PycharmProjects/RIG_v2/rig_modelfiles/Falcon3-3B-Instruct-q4_k_m\n",
      "\n"
     ]
    }
   ],
   "execution_count": 4
  },
  {
   "metadata": {},
   "cell_type": "code",
   "outputs": [],
   "execution_count": null,
   "source": "",
   "id": "2e79e62cd1e3741a"
  }
 ],
 "metadata": {
  "kernelspec": {
   "display_name": "Python 3",
   "language": "python",
   "name": "python3"
  },
  "language_info": {
   "codemirror_mode": {
    "name": "ipython",
    "version": 2
   },
   "file_extension": ".py",
   "mimetype": "text/x-python",
   "name": "python",
   "nbconvert_exporter": "python",
   "pygments_lexer": "ipython2",
   "version": "2.7.6"
  }
 },
 "nbformat": 4,
 "nbformat_minor": 5
}
