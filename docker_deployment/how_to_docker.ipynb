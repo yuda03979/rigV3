{
 "cells": [
  {
   "metadata": {
    "ExecuteTime": {
     "end_time": "2025-01-07T12:22:46.818455Z",
     "start_time": "2025-01-07T12:22:46.807307Z"
    }
   },
   "cell_type": "code",
   "source": [
    "import requests\n",
    "import json\n",
    "\n",
    "# because its with asyncio on notebook\n",
    "import nest_asyncio\n",
    "nest_asyncio.apply()\n",
    "\n",
    "# Base URL for the API\n",
    "\n",
    "# BASE_URL = 'http://0.0.0.0:80'\n",
    "BASE_URL = 'http://localhost:80'\n",
    "\n",
    "\n",
    "def get_rule_instance(free_text: str):\n",
    "    \"\"\"\n",
    "    Get rule instance based on free text input\n",
    "    \n",
    "    :param free_text: Text to query for rule instance\n",
    "    :return: Response from the API\n",
    "    \"\"\"\n",
    "    url = f'{BASE_URL}/get_rule_instance'\n",
    "    payload = {'free_text': free_text}\n",
    "    \n",
    "    try:\n",
    "        response = requests.post(url, params=payload)\n",
    "        response.raise_for_status()\n",
    "        return response.json()\n",
    "    except requests.exceptions.RequestException as e:\n",
    "        return {'error': str(e)}\n",
    "\n",
    "def get_rule_types_names():\n",
    "    \"\"\"\n",
    "    Retrieve rule type names\n",
    "    \n",
    "    :return: Response from the API\n",
    "    \"\"\"\n",
    "    url = f'{BASE_URL}/get_rule_types_names'\n",
    "    \n",
    "    try:\n",
    "        response = requests.get(url)\n",
    "        response.raise_for_status()\n",
    "        return response.json()\n",
    "    except requests.exceptions.RequestException as e:\n",
    "        return {'error': str(e)}\n",
    "\n",
    "def get_rule_type_details(rule_name: str):\n",
    "    url = f\"{BASE_URL}/get_rule_type_details\"\n",
    "    params = {'rule_name': rule_name}\n",
    "    \n",
    "    try:\n",
    "        response = requests.get(url, params=params)\n",
    "        response.raise_for_status()\n",
    "        return response.json()\n",
    "    except requests.exceptions.RequestException as e:\n",
    "        return {'error': str(e)}\n",
    "    \n",
    "def set_rule_types(rule_types: list[dict] | None = None):\n",
    "    url = f\"{BASE_URL}/set_rule_types\"\n",
    "    payload = {'rule_types': rule_types}\n",
    "    \n",
    "    try:\n",
    "        response = requests.post(url, json=payload)\n",
    "        response.raise_for_status()\n",
    "        return response.json()\n",
    "    except requests.exceptions.RequestException as e:\n",
    "        return {'error': str(e)}\n",
    "\n",
    "def add_rule_type(json_file_name: str):\n",
    "    url = f\"{BASE_URL}/add_rule_type\"\n",
    "    payload = {'json_file_name': json_file_name}\n",
    "    \n",
    "    try:\n",
    "        response = requests.post(url, json=payload)\n",
    "        response.raise_for_status()\n",
    "        return response.json()\n",
    "    except requests.exceptions.RequestException as e:\n",
    "        return {'error': str(e)}\n",
    "\n",
    "def tweak_rag_parameters(rag_threshold=0.5, examples_rag_threshold=0.5):\n",
    "    \"\"\"\n",
    "    Adjust RAG (Retrieval-Augmented Generation) parameters\n",
    "    \n",
    "    :param rag_threshold: Threshold for RAG\n",
    "    :return: Response from the API\n",
    "    \"\"\"\n",
    "    url = f'{BASE_URL}/tweak_parameters'\n",
    "    payload = {\n",
    "        'rag_threshold': rag_threshold,\n",
    "        'examples_rag_threshold': examples_rag_threshold\n",
    "    }\n",
    "    \n",
    "    try:\n",
    "        response = requests.post(url, json=payload)\n",
    "        response.raise_for_status()\n",
    "        return response.json()\n",
    "    except requests.exceptions.RequestException as e:\n",
    "        return {'error': str(e)}\n",
    "\n",
    "def feedback(rig_response: dict, good: bool):\n",
    "    \"\"\"\n",
    "    Send feedback to the API\n",
    "    \n",
    "    :param rig_response: Response dictionary to send feedback for\n",
    "    :param good: Boolean indicating positive or negative feedback\n",
    "    :return: Response from the API\n",
    "    \"\"\"\n",
    "    url = f'{BASE_URL}/feedback'\n",
    "    payload = {\n",
    "        'rig_response': rig_response,\n",
    "        'good': good\n",
    "    }\n",
    "    \n",
    "    try:\n",
    "        response = requests.post(url, json=payload)\n",
    "        response.raise_for_status()\n",
    "        return response.json()\n",
    "    except requests.exceptions.RequestException as e:\n",
    "        return {'error': str(e)}\n",
    "\n",
    "def evaluate(\n",
    "    start_point=0,\n",
    "    end_point=2,  # None - all the data\n",
    "    sleep_time_each_10_iter=30,\n",
    "    batch_size=250\n",
    "):\n",
    "    url = f'{BASE_URL}/evaluate'\n",
    "    payload = {\n",
    "        'start_point': start_point,\n",
    "        'end_point': end_point,  # -1 - all the data\n",
    "        'sleep_time_each_10_iter': sleep_time_each_10_iter,\n",
    "        'batch_size': batch_size\n",
    "    }\n",
    "    \n",
    "    try:\n",
    "        response = requests.post(url, json=payload)\n",
    "        response.raise_for_status()\n",
    "        return response.json()\n",
    "    except requests.exceptions.RequestException as e:\n",
    "        return {'error': str(e)}\n",
    "    \n",
    "def set_rule_types_from_directory():\n",
    "    url = f'{BASE_URL}/set_rule_types'\n",
    "    \n",
    "    try:\n",
    "        response = requests.post(url)\n",
    "        response.raise_for_status()\n",
    "        return response.json()\n",
    "    except requests.exceptions.RequestException as e:\n",
    "        return {'error': str(e)}"
   ],
   "id": "7e6124b81671af94",
   "outputs": [],
   "execution_count": 8
  },
  {
   "metadata": {},
   "cell_type": "markdown",
   "source": "# example usage",
   "id": "2c2bd61eb1318d31"
  },
  {
   "metadata": {},
   "cell_type": "markdown",
   "source": "## set rule types",
   "id": "ae88563d50e812d2"
  },
  {
   "metadata": {
    "ExecuteTime": {
     "end_time": "2025-01-06T11:44:13.693408Z",
     "start_time": "2025-01-06T11:42:19.658776Z"
    }
   },
   "cell_type": "code",
   "source": "set_rule_types()",
   "id": "b2da5874147c04e7",
   "outputs": [
    {
     "data": {
      "text/plain": [
       "True"
      ]
     },
     "execution_count": 3,
     "metadata": {},
     "output_type": "execute_result"
    }
   ],
   "execution_count": 3
  },
  {
   "metadata": {},
   "cell_type": "markdown",
   "source": "### get_rule_instance",
   "id": "14122b4502ba422"
  },
  {
   "metadata": {
    "jupyter": {
     "is_executing": true
    },
    "ExecuteTime": {
     "start_time": "2025-01-07T12:22:49.202514Z"
    }
   },
   "cell_type": "code",
   "source": [
    "free_text = \"A new instance needs to be created for carpentry intermediate level, um, kdealing with the skill set of woodworking and the level is intermediate.well, The understanding of blueprint reading is good. However.\"\n",
    "\n",
    "response = get_rule_instance(free_text)\n",
    "response.get(\"is_error\")"
   ],
   "id": "191e8e15aca6df41",
   "outputs": [],
   "execution_count": null
  },
  {
   "metadata": {},
   "cell_type": "markdown",
   "source": "### get_rule_types_names",
   "id": "ab5b4dae3a19210a"
  },
  {
   "metadata": {
    "ExecuteTime": {
     "end_time": "2025-01-07T12:16:35.864848Z",
     "start_time": "2025-01-07T12:16:35.859730Z"
    }
   },
   "cell_type": "code",
   "source": "get_rule_types_names()",
   "id": "10ad7caf9af7c918",
   "outputs": [
    {
     "data": {
      "text/plain": [
       "{'error': \"('Connection aborted.', RemoteDisconnected('Remote end closed connection without response'))\"}"
      ]
     },
     "execution_count": 5,
     "metadata": {},
     "output_type": "execute_result"
    }
   ],
   "execution_count": 5
  },
  {
   "metadata": {},
   "cell_type": "markdown",
   "source": "### tweak_rag_parameters",
   "id": "f84d0673113ed63f"
  },
  {
   "metadata": {
    "ExecuteTime": {
     "end_time": "2025-01-05T03:53:08.959599Z",
     "start_time": "2025-01-05T03:53:08.945956Z"
    }
   },
   "cell_type": "code",
   "source": "tweak_rag_parameters(rag_threshold=0.5, examples_rag_threshold=0.5)",
   "id": "73c429bfcb16449a",
   "outputs": [
    {
     "data": {
      "text/plain": [
       "True"
      ]
     },
     "execution_count": 12,
     "metadata": {},
     "output_type": "execute_result"
    }
   ],
   "execution_count": 12
  },
  {
   "metadata": {},
   "cell_type": "markdown",
   "source": "### feedback",
   "id": "c28732ff4f735de3"
  },
  {
   "metadata": {
    "ExecuteTime": {
     "end_time": "2025-01-05T03:50:09.399663Z",
     "start_time": "2025-01-05T03:50:09.386029Z"
    }
   },
   "cell_type": "code",
   "source": "feedback(rig_response=response, good=True)",
   "id": "6044b57d40a8c6c6",
   "outputs": [
    {
     "data": {
      "text/plain": [
       "{'detail': [{'type': 'missing',\n",
       "   'loc': ['body'],\n",
       "   'msg': 'Field required',\n",
       "   'input': None}]}"
      ]
     },
     "execution_count": 10,
     "metadata": {},
     "output_type": "execute_result"
    }
   ],
   "execution_count": 10
  },
  {
   "metadata": {},
   "cell_type": "markdown",
   "source": "# evaluation. it use its files.",
   "id": "a677562c4b0048b0"
  },
  {
   "metadata": {
    "ExecuteTime": {
     "end_time": "2025-01-06T11:55:48.811488Z",
     "start_time": "2025-01-06T11:54:36.850720Z"
    }
   },
   "cell_type": "code",
   "source": [
    "evaluate(\n",
    "    start_point=0,\n",
    "    end_point=2,  # None - all the data\n",
    "    sleep_time_each_10_iter=5,\n",
    "    batch_size=3\n",
    ")"
   ],
   "id": "ad00e99d33826845",
   "outputs": [
    {
     "data": {
      "text/plain": [
       "{'binary_score': 1.0,\n",
       " 'binary_score_no_instance_name': 1.0,\n",
       " 'param_numerical_binary_score': 1.0,\n",
       " 'param_numerical_avg_score': 1.0,\n",
       " 'param_verbal_binary_score': 1.0,\n",
       " 'param_verbal_avg_score': 1.0,\n",
       " 'score_rule_instance_name': 1.0,\n",
       " 'classification score': 1.0}"
      ]
     },
     "execution_count": 8,
     "metadata": {},
     "output_type": "execute_result"
    }
   ],
   "execution_count": 8
  },
  {
   "metadata": {},
   "cell_type": "markdown",
   "source": "### if you added rule_type, you can reload again. notice it will reload all the rule types in the directory again!",
   "id": "f2c9b91bcc470176"
  }
 ],
 "metadata": {
  "kernelspec": {
   "display_name": "Python 3",
   "language": "python",
   "name": "python3"
  },
  "language_info": {
   "codemirror_mode": {
    "name": "ipython",
    "version": 2
   },
   "file_extension": ".py",
   "mimetype": "text/x-python",
   "name": "python",
   "nbconvert_exporter": "python",
   "pygments_lexer": "ipython2",
   "version": "2.7.6"
  }
 },
 "nbformat": 4,
 "nbformat_minor": 5
}
